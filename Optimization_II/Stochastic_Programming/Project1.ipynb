{
  "cells": [
    {
      "cell_type": "code",
      "execution_count": 1,
      "metadata": {
        "colab": {
          "base_uri": "https://localhost:8080/"
        },
        "id": "COKzb2cfMvb4",
        "outputId": "d0d707e6-f2cb-42e9-d946-331aca5f085f"
      },
      "outputs": [],
      "source": [
        "# !pip install gurobipy"
      ]
    },
    {
      "cell_type": "code",
      "execution_count": 2,
      "metadata": {
        "id": "q3Q9d3SuIPlh"
      },
      "outputs": [],
      "source": [
        "import numpy as np\n",
        "import matplotlib.pyplot as plt\n",
        "import gurobipy as gp\n",
        "import pandas as pd\n",
        "import seaborn as sns\n",
        "from sklearn.linear_model import LinearRegression\n",
        "# %matplotlib inline"
      ]
    },
    {
      "cell_type": "code",
      "execution_count": 3,
      "metadata": {
        "colab": {
          "base_uri": "https://localhost:8080/"
        },
        "id": "pYTDSTgTM0eV",
        "outputId": "1b9f738b-2cd4-45c6-fd84-41de6f7caf58"
      },
      "outputs": [],
      "source": [
        "# from google.colab import drive \n",
        "# drive.mount('/content/drive')"
      ]
    },
    {
      "cell_type": "code",
      "execution_count": 4,
      "metadata": {
        "colab": {
          "base_uri": "https://localhost:8080/",
          "height": 423
        },
        "id": "af0HwUyAaJ8Z",
        "outputId": "be312087-4703-4f96-fbaf-7817a0486e86"
      },
      "outputs": [
        {
          "data": {
            "text/html": [
              "<div>\n",
              "<style scoped>\n",
              "    .dataframe tbody tr th:only-of-type {\n",
              "        vertical-align: middle;\n",
              "    }\n",
              "\n",
              "    .dataframe tbody tr th {\n",
              "        vertical-align: top;\n",
              "    }\n",
              "\n",
              "    .dataframe thead th {\n",
              "        text-align: right;\n",
              "    }\n",
              "</style>\n",
              "<table border=\"1\" class=\"dataframe\">\n",
              "  <thead>\n",
              "    <tr style=\"text-align: right;\">\n",
              "      <th></th>\n",
              "      <th>price</th>\n",
              "      <th>demand</th>\n",
              "    </tr>\n",
              "  </thead>\n",
              "  <tbody>\n",
              "    <tr>\n",
              "      <th>0</th>\n",
              "      <td>1.05</td>\n",
              "      <td>283</td>\n",
              "    </tr>\n",
              "    <tr>\n",
              "      <th>1</th>\n",
              "      <td>0.86</td>\n",
              "      <td>771</td>\n",
              "    </tr>\n",
              "    <tr>\n",
              "      <th>2</th>\n",
              "      <td>1.21</td>\n",
              "      <td>185</td>\n",
              "    </tr>\n",
              "    <tr>\n",
              "      <th>3</th>\n",
              "      <td>0.94</td>\n",
              "      <td>531</td>\n",
              "    </tr>\n",
              "    <tr>\n",
              "      <th>4</th>\n",
              "      <td>0.76</td>\n",
              "      <td>1002</td>\n",
              "    </tr>\n",
              "    <tr>\n",
              "      <th>...</th>\n",
              "      <td>...</td>\n",
              "      <td>...</td>\n",
              "    </tr>\n",
              "    <tr>\n",
              "      <th>94</th>\n",
              "      <td>1.13</td>\n",
              "      <td>321</td>\n",
              "    </tr>\n",
              "    <tr>\n",
              "      <th>95</th>\n",
              "      <td>0.78</td>\n",
              "      <td>970</td>\n",
              "    </tr>\n",
              "    <tr>\n",
              "      <th>96</th>\n",
              "      <td>1.04</td>\n",
              "      <td>387</td>\n",
              "    </tr>\n",
              "    <tr>\n",
              "      <th>97</th>\n",
              "      <td>1.02</td>\n",
              "      <td>831</td>\n",
              "    </tr>\n",
              "    <tr>\n",
              "      <th>98</th>\n",
              "      <td>1.11</td>\n",
              "      <td>451</td>\n",
              "    </tr>\n",
              "  </tbody>\n",
              "</table>\n",
              "<p>99 rows × 2 columns</p>\n",
              "</div>"
            ],
            "text/plain": [
              "    price  demand\n",
              "0    1.05     283\n",
              "1    0.86     771\n",
              "2    1.21     185\n",
              "3    0.94     531\n",
              "4    0.76    1002\n",
              "..    ...     ...\n",
              "94   1.13     321\n",
              "95   0.78     970\n",
              "96   1.04     387\n",
              "97   1.02     831\n",
              "98   1.11     451\n",
              "\n",
              "[99 rows x 2 columns]"
            ]
          },
          "execution_count": 4,
          "metadata": {},
          "output_type": "execute_result"
        }
      ],
      "source": [
        "#price and demand given \n",
        "#demand is impacted by price : D = beta0 + beta1*Price + errori \n",
        "# demand = pd.read_csv('/content/drive/My Drive/Grad/Spring/Opti_2/Project1/price_demand_data.csv')\n",
        "demand = pd.read_csv('price_demand_data.csv')\n",
        "demand"
      ]
    },
    {
      "cell_type": "markdown",
      "metadata": {
        "id": "QtJMKImzAZ3g"
      },
      "source": [
        "## Question 1"
      ]
    },
    {
      "cell_type": "code",
      "execution_count": 5,
      "metadata": {
        "colab": {
          "base_uri": "https://localhost:8080/",
          "height": 459
        },
        "id": "9l2lddbv3xtY",
        "outputId": "f533a943-ff4d-4f3a-a792-2e922139aa15"
      },
      "outputs": [
        {
          "name": "stdout",
          "output_type": "stream",
          "text": [
            "Intercept:  1924.7175435291088\n",
            "Coefficient:  -1367.7125241625984\n"
          ]
        },
        {
          "data": {
            "text/html": [
              "<div>\n",
              "<style scoped>\n",
              "    .dataframe tbody tr th:only-of-type {\n",
              "        vertical-align: middle;\n",
              "    }\n",
              "\n",
              "    .dataframe tbody tr th {\n",
              "        vertical-align: top;\n",
              "    }\n",
              "\n",
              "    .dataframe thead th {\n",
              "        text-align: right;\n",
              "    }\n",
              "</style>\n",
              "<table border=\"1\" class=\"dataframe\">\n",
              "  <thead>\n",
              "    <tr style=\"text-align: right;\">\n",
              "      <th></th>\n",
              "      <th>price</th>\n",
              "      <th>demand</th>\n",
              "      <th>residual</th>\n",
              "    </tr>\n",
              "  </thead>\n",
              "  <tbody>\n",
              "    <tr>\n",
              "      <th>0</th>\n",
              "      <td>1.05</td>\n",
              "      <td>283</td>\n",
              "      <td>-205.619393</td>\n",
              "    </tr>\n",
              "    <tr>\n",
              "      <th>1</th>\n",
              "      <td>0.86</td>\n",
              "      <td>771</td>\n",
              "      <td>22.515227</td>\n",
              "    </tr>\n",
              "    <tr>\n",
              "      <th>2</th>\n",
              "      <td>1.21</td>\n",
              "      <td>185</td>\n",
              "      <td>-84.785389</td>\n",
              "    </tr>\n",
              "    <tr>\n",
              "      <th>3</th>\n",
              "      <td>0.94</td>\n",
              "      <td>531</td>\n",
              "      <td>-108.067771</td>\n",
              "    </tr>\n",
              "    <tr>\n",
              "      <th>4</th>\n",
              "      <td>0.76</td>\n",
              "      <td>1002</td>\n",
              "      <td>116.743975</td>\n",
              "    </tr>\n",
              "    <tr>\n",
              "      <th>...</th>\n",
              "      <td>...</td>\n",
              "      <td>...</td>\n",
              "      <td>...</td>\n",
              "    </tr>\n",
              "    <tr>\n",
              "      <th>94</th>\n",
              "      <td>1.13</td>\n",
              "      <td>321</td>\n",
              "      <td>-58.202391</td>\n",
              "    </tr>\n",
              "    <tr>\n",
              "      <th>95</th>\n",
              "      <td>0.78</td>\n",
              "      <td>970</td>\n",
              "      <td>112.098225</td>\n",
              "    </tr>\n",
              "    <tr>\n",
              "      <th>96</th>\n",
              "      <td>1.04</td>\n",
              "      <td>387</td>\n",
              "      <td>-115.296518</td>\n",
              "    </tr>\n",
              "    <tr>\n",
              "      <th>97</th>\n",
              "      <td>1.02</td>\n",
              "      <td>831</td>\n",
              "      <td>301.349231</td>\n",
              "    </tr>\n",
              "    <tr>\n",
              "      <th>98</th>\n",
              "      <td>1.11</td>\n",
              "      <td>451</td>\n",
              "      <td>44.443358</td>\n",
              "    </tr>\n",
              "  </tbody>\n",
              "</table>\n",
              "<p>99 rows × 3 columns</p>\n",
              "</div>"
            ],
            "text/plain": [
              "    price  demand    residual\n",
              "0    1.05     283 -205.619393\n",
              "1    0.86     771   22.515227\n",
              "2    1.21     185  -84.785389\n",
              "3    0.94     531 -108.067771\n",
              "4    0.76    1002  116.743975\n",
              "..    ...     ...         ...\n",
              "94   1.13     321  -58.202391\n",
              "95   0.78     970  112.098225\n",
              "96   1.04     387 -115.296518\n",
              "97   1.02     831  301.349231\n",
              "98   1.11     451   44.443358\n",
              "\n",
              "[99 rows x 3 columns]"
            ]
          },
          "execution_count": 5,
          "metadata": {},
          "output_type": "execute_result"
        }
      ],
      "source": [
        "#beta0 and betai\n",
        "y = demand['demand'].values.reshape(-1, 1)\n",
        "x = demand['price'].values.reshape(-1, 1)\n",
        "model = LinearRegression().fit(x,y)\n",
        "prediction = model.predict(x)\n",
        "residual = (y - prediction)\n",
        "demand['residual'] = residual\n",
        "print('Intercept: ', model.intercept_[0])\n",
        "print('Coefficient: ', model.coef_[0][0])\n",
        "demand"
      ]
    },
    {
      "cell_type": "markdown",
      "metadata": {
        "id": "z3v-BqRrBs0S"
      },
      "source": [
        "## Question 2"
      ]
    },
    {
      "cell_type": "code",
      "execution_count": 6,
      "metadata": {
        "colab": {
          "base_uri": "https://localhost:8080/",
          "height": 423
        },
        "id": "jLVFWNEvBsTY",
        "outputId": "edcb65c6-3bf8-42e0-97d8-80aa99c1e589"
      },
      "outputs": [
        {
          "data": {
            "text/html": [
              "<div>\n",
              "<style scoped>\n",
              "    .dataframe tbody tr th:only-of-type {\n",
              "        vertical-align: middle;\n",
              "    }\n",
              "\n",
              "    .dataframe tbody tr th {\n",
              "        vertical-align: top;\n",
              "    }\n",
              "\n",
              "    .dataframe thead th {\n",
              "        text-align: right;\n",
              "    }\n",
              "</style>\n",
              "<table border=\"1\" class=\"dataframe\">\n",
              "  <thead>\n",
              "    <tr style=\"text-align: right;\">\n",
              "      <th></th>\n",
              "      <th>demand</th>\n",
              "    </tr>\n",
              "  </thead>\n",
              "  <tbody>\n",
              "    <tr>\n",
              "      <th>0</th>\n",
              "      <td>351.385626</td>\n",
              "    </tr>\n",
              "    <tr>\n",
              "      <th>1</th>\n",
              "      <td>579.520247</td>\n",
              "    </tr>\n",
              "    <tr>\n",
              "      <th>2</th>\n",
              "      <td>472.219630</td>\n",
              "    </tr>\n",
              "    <tr>\n",
              "      <th>3</th>\n",
              "      <td>448.937249</td>\n",
              "    </tr>\n",
              "    <tr>\n",
              "      <th>4</th>\n",
              "      <td>673.748994</td>\n",
              "    </tr>\n",
              "    <tr>\n",
              "      <th>...</th>\n",
              "      <td>...</td>\n",
              "    </tr>\n",
              "    <tr>\n",
              "      <th>94</th>\n",
              "      <td>498.802628</td>\n",
              "    </tr>\n",
              "    <tr>\n",
              "      <th>95</th>\n",
              "      <td>669.103245</td>\n",
              "    </tr>\n",
              "    <tr>\n",
              "      <th>96</th>\n",
              "      <td>441.708501</td>\n",
              "    </tr>\n",
              "    <tr>\n",
              "      <th>97</th>\n",
              "      <td>858.354250</td>\n",
              "    </tr>\n",
              "    <tr>\n",
              "      <th>98</th>\n",
              "      <td>601.448378</td>\n",
              "    </tr>\n",
              "  </tbody>\n",
              "</table>\n",
              "<p>99 rows × 1 columns</p>\n",
              "</div>"
            ],
            "text/plain": [
              "        demand\n",
              "0   351.385626\n",
              "1   579.520247\n",
              "2   472.219630\n",
              "3   448.937249\n",
              "4   673.748994\n",
              "..         ...\n",
              "94  498.802628\n",
              "95  669.103245\n",
              "96  441.708501\n",
              "97  858.354250\n",
              "98  601.448378\n",
              "\n",
              "[99 rows x 1 columns]"
            ]
          },
          "execution_count": 6,
          "metadata": {},
          "output_type": "execute_result"
        }
      ],
      "source": [
        "new_d = pd.DataFrame()\n",
        "new_d['demand'] = residual[0:,0].tolist() + model.intercept_[0] + model.coef_[0]\n",
        "new_d"
      ]
    },
    {
      "cell_type": "markdown",
      "metadata": {
        "id": "aFepm8rFIDrd"
      },
      "source": [
        "## Question 3"
      ]
    },
    {
      "cell_type": "code",
      "execution_count": 7,
      "metadata": {
        "id": "953B5PeIIGAP"
      },
      "outputs": [],
      "source": [
        "c = 0.5\n",
        "g = 0.75\n",
        "t = 0.15\n",
        "p = 1\n",
        "nd = demand.shape[0]\n",
        "\n",
        "# decision variables are (q, h1, h2, ..., h99) coeff of q would be 0, h1,h2... would have coeff of 1/99\n",
        "obj = np.zeros(nd+1)\n",
        "obj[1:] = 1.0/nd \n",
        "ub = np.zeros(nd+1)\n",
        "ub[0] = np.inf # the h variable can't be positive because it will always be negaitve (cost is always positive thus negative cost is negative)\n",
        "lb = np.zeros(nd+1)\n",
        "lb[1:] = -np.inf\n",
        "rhs = np.zeros(2*nd)\n",
        "#\n",
        "direction = np.array(['<']*(2*nd))#hi needs to be less than the -cost (think of h under the two line of cost and we want to maximize hi so that its as close to 0 as possible)"
      ]
    },
    {
      "cell_type": "code",
      "execution_count": 8,
      "metadata": {
        "id": "Lg_zl7u59g6E"
      },
      "outputs": [],
      "source": [
        "A = np.zeros((2*nd,nd+1))#99*2 rows + 100 cols\n",
        "for r in range(nd):\n",
        "  #the constraint when P >= Di\n",
        "  A[2*r,[0,r+1]] = [c-g,1] \n",
        "  rhs[2*r] = -g*new_d.demand[r]\n",
        "  #constraint when P <= Di\n",
        "  A[2*r+1,[0,r+1]] = [c+t,1]\n",
        "  rhs[2*r+1] = t*new_d.demand[r]"
      ]
    },
    {
      "cell_type": "code",
      "execution_count": 9,
      "metadata": {
        "id": "3iQa5jlKI3bD"
      },
      "outputs": [
        {
          "name": "stdout",
          "output_type": "stream",
          "text": [
            "Academic license - for non-commercial use only - expires 2022-09-15\n",
            "Using license file C:\\Users\\User\\gurobi.lic\n"
          ]
        }
      ],
      "source": [
        "spMod = gp.Model()\n",
        "spMod_x = spMod.addMVar(len(obj),lb=lb,ub=ub) # tell the model how many variables there are\n",
        "# must define the variables before adding constraints because variables go into the constraints\n",
        "spMod_con = spMod.addMConstrs(A, spMod_x, direction, rhs) # NAME THE CONSTRAINTS!!! so we can get information about them later!\n",
        "spMod.setMObjective(None,obj,0,sense=gp.GRB.MAXIMIZE) # add the objective to the model...we'll talk about the None and the 0\n",
        "\n",
        "spMod.Params.OutputFlag = 0 # tell gurobi to shut up!!\n",
        "spMod.optimize()"
      ]
    },
    {
      "cell_type": "code",
      "execution_count": 10,
      "metadata": {
        "colab": {
          "base_uri": "https://localhost:8080/"
        },
        "id": "xX81zxWvJGXJ",
        "outputId": "977d42d9-9d00-4083-9c8f-16f9f95b5909"
      },
      "outputs": [
        {
          "data": {
            "text/plain": [
              "471.8653795908935"
            ]
          },
          "execution_count": 10,
          "metadata": {},
          "output_type": "execute_result"
        }
      ],
      "source": [
        "#optimal quantity \n",
        "spMod_x.x[0]"
      ]
    },
    {
      "cell_type": "code",
      "execution_count": 11,
      "metadata": {
        "colab": {
          "base_uri": "https://localhost:8080/"
        },
        "id": "j0KSGmrk7MI9",
        "outputId": "d1e3aed2-3c98-4c3f-b18f-13a83507bf59"
      },
      "outputs": [
        {
          "data": {
            "text/plain": [
              "-325.5213527193693"
            ]
          },
          "execution_count": 11,
          "metadata": {},
          "output_type": "execute_result"
        }
      ],
      "source": [
        "#cost: negative because we are maximizing negative hi, can switch direction and sign and then minimize to get positive cost\n",
        "spMod.objval"
      ]
    },
    {
      "cell_type": "markdown",
      "metadata": {
        "id": "UPmUNj9VGubi"
      },
      "source": [
        "### Bootstrapping and Plots"
      ]
    },
    {
      "cell_type": "code",
      "execution_count": 12,
      "metadata": {
        "id": "suQcrYFtGzoW"
      },
      "outputs": [],
      "source": [
        "def gurobi_fit_price1(data):\n",
        "  c = 0.5\n",
        "  g = 0.75\n",
        "  t = 0.15\n",
        "  p = 1\n",
        "  nd = data.shape[0]\n",
        "\n",
        "  \n",
        "  obj = np.zeros(nd+1)\n",
        "  obj[1:] = 1.0/nd \n",
        "  ub = np.zeros(nd+1)\n",
        "  ub[0] = np.inf \n",
        "  lb = np.zeros(nd+1)\n",
        "  lb[1:] = -np.inf\n",
        "  rhs = np.zeros(2*nd)\n",
        "  direction = np.array(['<']*(2*nd))\n",
        "\n",
        "  A = np.zeros((2*nd,nd+1))\n",
        "  for r in range(nd):\n",
        "    #the constraint when P >= Di\n",
        "    A[2*r,[0,r+1]] = [c-g,1] \n",
        "    rhs[2*r] = -g*data.demand[r]\n",
        "    #constraint when P <= Di\n",
        "    A[2*r+1,[0,r+1]] = [c+t,1]\n",
        "    rhs[2*r+1] = t*data.demand[r]\n",
        "\n",
        "  spMod = gp.Model()\n",
        "  spMod_x = spMod.addMVar(len(obj),lb=lb,ub=ub) \n",
        "  spMod_con = spMod.addMConstrs(A, spMod_x, direction, rhs) \n",
        "  spMod.setMObjective(None,obj,0,sense=gp.GRB.MAXIMIZE)\n",
        "\n",
        "  spMod.Params.OutputFlag = 0 \n",
        "  spMod.optimize()\n",
        "\n",
        "  quantity = spMod_x.x[0]\n",
        "  profit = spMod.objval\n",
        "  return quantity,profit"
      ]
    },
    {
      "cell_type": "code",
      "execution_count": 13,
      "metadata": {
        "colab": {
          "base_uri": "https://localhost:8080/"
        },
        "id": "a9DWlA57HVeR",
        "outputId": "e4a66a24-3a6a-4754-e75c-13d98ce3f8e1"
      },
      "outputs": [
        {
          "name": "stderr",
          "output_type": "stream",
          "text": [
            "C:\\Users\\User\\AppData\\Local\\Temp\\ipykernel_4872\\1942805963.py:9: DeprecationWarning: Deprecated, use Model.addMConstr() instead\n",
            "  new_q,new_pro = gurobi_fit_price1(samp)\n"
          ]
        }
      ],
      "source": [
        "#simulation for the p=1 model \n",
        "quantity_p = []\n",
        "profit_p = []\n",
        "sim = 1000\n",
        "\n",
        "for i in range(sim):\n",
        "  samp = new_d.sample(n=new_d.shape[0],replace=True)\n",
        "  samp.reset_index(inplace=True)\n",
        "  new_q,new_pro = gurobi_fit_price1(samp)\n",
        "  quantity_p.append(new_q)\n",
        "  profit_p.append(new_pro)"
      ]
    },
    {
      "cell_type": "code",
      "execution_count": 14,
      "metadata": {
        "colab": {
          "base_uri": "https://localhost:8080/",
          "height": 423
        },
        "id": "159A0hLjJFNs",
        "outputId": "bcc87312-bcf7-46f2-8b14-d5083d6f6780"
      },
      "outputs": [
        {
          "data": {
            "text/html": [
              "<div>\n",
              "<style scoped>\n",
              "    .dataframe tbody tr th:only-of-type {\n",
              "        vertical-align: middle;\n",
              "    }\n",
              "\n",
              "    .dataframe tbody tr th {\n",
              "        vertical-align: top;\n",
              "    }\n",
              "\n",
              "    .dataframe thead th {\n",
              "        text-align: right;\n",
              "    }\n",
              "</style>\n",
              "<table border=\"1\" class=\"dataframe\">\n",
              "  <thead>\n",
              "    <tr style=\"text-align: right;\">\n",
              "      <th></th>\n",
              "      <th>quantity</th>\n",
              "      <th>profit</th>\n",
              "    </tr>\n",
              "  </thead>\n",
              "  <tbody>\n",
              "    <tr>\n",
              "      <th>0</th>\n",
              "      <td>480.874497</td>\n",
              "      <td>-329.023632</td>\n",
              "    </tr>\n",
              "    <tr>\n",
              "      <th>1</th>\n",
              "      <td>453.134620</td>\n",
              "      <td>-321.608098</td>\n",
              "    </tr>\n",
              "    <tr>\n",
              "      <th>2</th>\n",
              "      <td>478.573881</td>\n",
              "      <td>-321.147651</td>\n",
              "    </tr>\n",
              "    <tr>\n",
              "      <th>3</th>\n",
              "      <td>467.417002</td>\n",
              "      <td>-323.973709</td>\n",
              "    </tr>\n",
              "    <tr>\n",
              "      <th>4</th>\n",
              "      <td>448.937249</td>\n",
              "      <td>-322.463989</td>\n",
              "    </tr>\n",
              "    <tr>\n",
              "      <th>...</th>\n",
              "      <td>...</td>\n",
              "      <td>...</td>\n",
              "    </tr>\n",
              "    <tr>\n",
              "      <th>995</th>\n",
              "      <td>472.219630</td>\n",
              "      <td>-318.063812</td>\n",
              "    </tr>\n",
              "    <tr>\n",
              "      <th>996</th>\n",
              "      <td>438.708501</td>\n",
              "      <td>-311.120436</td>\n",
              "    </tr>\n",
              "    <tr>\n",
              "      <th>997</th>\n",
              "      <td>453.134620</td>\n",
              "      <td>-333.227597</td>\n",
              "    </tr>\n",
              "    <tr>\n",
              "      <th>998</th>\n",
              "      <td>495.291499</td>\n",
              "      <td>-331.570237</td>\n",
              "    </tr>\n",
              "    <tr>\n",
              "      <th>999</th>\n",
              "      <td>485.479753</td>\n",
              "      <td>-334.164499</td>\n",
              "    </tr>\n",
              "  </tbody>\n",
              "</table>\n",
              "<p>1000 rows × 2 columns</p>\n",
              "</div>"
            ],
            "text/plain": [
              "       quantity      profit\n",
              "0    480.874497 -329.023632\n",
              "1    453.134620 -321.608098\n",
              "2    478.573881 -321.147651\n",
              "3    467.417002 -323.973709\n",
              "4    448.937249 -322.463989\n",
              "..          ...         ...\n",
              "995  472.219630 -318.063812\n",
              "996  438.708501 -311.120436\n",
              "997  453.134620 -333.227597\n",
              "998  495.291499 -331.570237\n",
              "999  485.479753 -334.164499\n",
              "\n",
              "[1000 rows x 2 columns]"
            ]
          },
          "execution_count": 14,
          "metadata": {},
          "output_type": "execute_result"
        }
      ],
      "source": [
        "result_p = pd.DataFrame()\n",
        "result_p['quantity'] = quantity_p\n",
        "result_p['profit'] = profit_p\n",
        "result_p"
      ]
    },
    {
      "cell_type": "code",
      "execution_count": 15,
      "metadata": {
        "colab": {
          "base_uri": "https://localhost:8080/",
          "height": 313
        },
        "id": "n5oUAnJ1RzOy",
        "outputId": "0588e1de-4446-4922-cee9-6fb00140b47d"
      },
      "outputs": [
        {
          "data": {
            "text/plain": [
              "Text(0, 0.5, 'Frequency')"
            ]
          },
          "execution_count": 15,
          "metadata": {},
          "output_type": "execute_result"
        },
        {
          "data": {
            "image/png": "[encoded data removed]",
            "text/plain": [
              "<Figure size 432x288 with 1 Axes>"
            ]
          },
          "metadata": {
            "needs_background": "light"
          },
          "output_type": "display_data"
        }
      ],
      "source": [
        "#plotting histogram for quantity \n",
        "result_p.hist(column='quantity',grid=False, bins = 15, color = 'orange')\n",
        "plt.title(\"Optimal Quantities for P=1 NV Model\")\n",
        "plt.xlabel('Quantity')\n",
        "plt.ylabel('Frequency')"
      ]
    },
    {
      "cell_type": "code",
      "execution_count": 16,
      "metadata": {
        "colab": {
          "base_uri": "https://localhost:8080/",
          "height": 313
        },
        "id": "Y59JuJUGR76P",
        "outputId": "cab24620-2218-4f10-c37d-68e417b8f8b2"
      },
      "outputs": [
        {
          "data": {
            "text/plain": [
              "Text(0, 0.5, 'Frequency')"
            ]
          },
          "execution_count": 16,
          "metadata": {},
          "output_type": "execute_result"
        },
        {
          "data": {
            "image/png": "[encoded data removed]",
            "text/plain": [
              "<Figure size 432x288 with 1 Axes>"
            ]
          },
          "metadata": {
            "needs_background": "light"
          },
          "output_type": "display_data"
        }
      ],
      "source": [
        "#plotting histogram for profit \n",
        "result_p.hist(column='profit',grid=False, bins = 15, color = 'orange')\n",
        "plt.title(\"Expected Profit for P=1 NV Model\")\n",
        "plt.xlabel('Profit')\n",
        "plt.ylabel('Frequency')"
      ]
    },
    {
      "cell_type": "markdown",
      "metadata": {
        "id": "_NNzGcXlSswN"
      },
      "source": [
        "## Question 4"
      ]
    },
    {
      "cell_type": "code",
      "execution_count": 17,
      "metadata": {
        "colab": {
          "base_uri": "https://localhost:8080/",
          "height": 423
        },
        "id": "LJeRLl2F-wTP",
        "outputId": "e7ff0ae9-6a62-4495-8080-74e03447ccf3"
      },
      "outputs": [
        {
          "data": {
            "text/html": [
              "<div>\n",
              "<style scoped>\n",
              "    .dataframe tbody tr th:only-of-type {\n",
              "        vertical-align: middle;\n",
              "    }\n",
              "\n",
              "    .dataframe tbody tr th {\n",
              "        vertical-align: top;\n",
              "    }\n",
              "\n",
              "    .dataframe thead th {\n",
              "        text-align: right;\n",
              "    }\n",
              "</style>\n",
              "<table border=\"1\" class=\"dataframe\">\n",
              "  <thead>\n",
              "    <tr style=\"text-align: right;\">\n",
              "      <th></th>\n",
              "      <th>demand</th>\n",
              "    </tr>\n",
              "  </thead>\n",
              "  <tbody>\n",
              "    <tr>\n",
              "      <th>0</th>\n",
              "      <td>1719.098150</td>\n",
              "    </tr>\n",
              "    <tr>\n",
              "      <th>1</th>\n",
              "      <td>1947.232771</td>\n",
              "    </tr>\n",
              "    <tr>\n",
              "      <th>2</th>\n",
              "      <td>1839.932154</td>\n",
              "    </tr>\n",
              "    <tr>\n",
              "      <th>3</th>\n",
              "      <td>1816.649773</td>\n",
              "    </tr>\n",
              "    <tr>\n",
              "      <th>4</th>\n",
              "      <td>2041.461518</td>\n",
              "    </tr>\n",
              "    <tr>\n",
              "      <th>...</th>\n",
              "      <td>...</td>\n",
              "    </tr>\n",
              "    <tr>\n",
              "      <th>94</th>\n",
              "      <td>1866.515152</td>\n",
              "    </tr>\n",
              "    <tr>\n",
              "      <th>95</th>\n",
              "      <td>2036.815769</td>\n",
              "    </tr>\n",
              "    <tr>\n",
              "      <th>96</th>\n",
              "      <td>1809.421025</td>\n",
              "    </tr>\n",
              "    <tr>\n",
              "      <th>97</th>\n",
              "      <td>2226.066775</td>\n",
              "    </tr>\n",
              "    <tr>\n",
              "      <th>98</th>\n",
              "      <td>1969.160902</td>\n",
              "    </tr>\n",
              "  </tbody>\n",
              "</table>\n",
              "<p>99 rows × 1 columns</p>\n",
              "</div>"
            ],
            "text/plain": [
              "         demand\n",
              "0   1719.098150\n",
              "1   1947.232771\n",
              "2   1839.932154\n",
              "3   1816.649773\n",
              "4   2041.461518\n",
              "..          ...\n",
              "94  1866.515152\n",
              "95  2036.815769\n",
              "96  1809.421025\n",
              "97  2226.066775\n",
              "98  1969.160902\n",
              "\n",
              "[99 rows x 1 columns]"
            ]
          },
          "execution_count": 17,
          "metadata": {},
          "output_type": "execute_result"
        }
      ],
      "source": [
        "#Creating a new demand df for Di with intercept + residual \n",
        "demand_q = pd.DataFrame()\n",
        "demand_q['demand'] = residual[0:,0].tolist() + model.intercept_[0] \n",
        "demand_q"
      ]
    },
    {
      "cell_type": "code",
      "execution_count": 18,
      "metadata": {
        "colab": {
          "base_uri": "https://localhost:8080/"
        },
        "id": "7wDS_rWkSsJ8",
        "outputId": "adbbd2fb-d8ba-4b94-bc9a-c0d264f3237c"
      },
      "outputs": [
        {
          "data": {
            "text/plain": [
              "array([[-1367.71252416,     0.        ,     0.        , ...,\n",
              "            0.        ,     0.        ,     0.        ],\n",
              "       [    0.        ,     0.        ,     0.        , ...,\n",
              "            0.        ,     0.        ,     0.        ],\n",
              "       [    0.        ,     0.        ,     0.        , ...,\n",
              "            0.        ,     0.        ,     0.        ],\n",
              "       ...,\n",
              "       [    0.        ,     0.        ,     0.        , ...,\n",
              "            0.        ,     0.        ,     0.        ],\n",
              "       [    0.        ,     0.        ,     0.        , ...,\n",
              "            0.        ,     0.        ,     0.        ],\n",
              "       [    0.        ,     0.        ,     0.        , ...,\n",
              "            0.        ,     0.        ,     0.        ]])"
            ]
          },
          "execution_count": 18,
          "metadata": {},
          "output_type": "execute_result"
        }
      ],
      "source": [
        "#creating the Q matrix \n",
        "#this takes care of the quadratic in the objective function \n",
        "Q = np.zeros((101,101))\n",
        "Q[0][0] = model.coef_[0][0]\n",
        "Q"
      ]
    },
    {
      "cell_type": "code",
      "execution_count": 19,
      "metadata": {
        "id": "-hWucXmq-sVI"
      },
      "outputs": [],
      "source": [
        "#Linear part \n",
        "c = 0.5\n",
        "g = 0.75\n",
        "t = 0.15\n",
        "nd = demand_q.shape[0]\n",
        "\n",
        "# decision variables are (p,q, h1, h2, ..., h99) coeff of p would be Di (mean(residual)+intercept)\n",
        "#obj is the revenue + cost, revenue represented by pDi\n",
        "obj = np.zeros(nd+2)\n",
        "obj[0] = np.mean(residual[0:,0].tolist()) + model.intercept_[0] \n",
        "obj[2:] = 1.0/nd \n",
        "ub = np.zeros(nd+2)\n",
        "ub[:2] = np.inf #p will be positive\n",
        "lb = np.zeros(nd+2)\n",
        "lb[2:] = -np.inf\n",
        "rhs = np.zeros(2*nd)\n",
        "direction = np.array(['<']*(2*nd))"
      ]
    },
    {
      "cell_type": "code",
      "execution_count": 20,
      "metadata": {
        "id": "zKt8vxhZT8cQ"
      },
      "outputs": [],
      "source": [
        "A = np.zeros((2*nd,nd+2))#99*2 rows + 101 cols\n",
        "for r in range(nd):\n",
        "  #the constraint when P >= Di\n",
        "  A[2*r,[0,1,r+2]] = [g*model.coef_[0][0],c-g,1] #for p, the coefficient beta1 and g is present after substituting in the function for Di\n",
        "  rhs[2*r] = -g*demand_q.demand[r]\n",
        "  #constraint when P <= Di\n",
        "  A[2*r+1,[0,1,r+2]] = [-t*model.coef_[0][0],c+t,1]\n",
        "  rhs[2*r+1] = t*demand_q.demand[r]"
      ]
    },
    {
      "cell_type": "code",
      "execution_count": 21,
      "metadata": {
        "colab": {
          "base_uri": "https://localhost:8080/"
        },
        "id": "DZhB24oMUKtw",
        "outputId": "214724a4-8a5c-4bae-dfeb-3756f0008683"
      },
      "outputs": [],
      "source": [
        "spMod = gp.Model()\n",
        "spMod_x = spMod.addMVar(len(obj),lb=lb,ub=ub) # tell the model how many variables there are\n",
        "# must define the variables before adding constraints because variables go into the constraints\n",
        "spMod_con = spMod.addMConstrs(A, spMod_x, direction, rhs) # NAME THE CONSTRAINTS!!! so we can get information about them later!\n",
        "spMod.setMObjective(Q,obj,0,sense=gp.GRB.MAXIMIZE) # add the objective to the model...we'll talk about the None and the 0\n",
        "\n",
        "spMod.Params.OutputFlag = 0 # tell gurobi to shut up!!\n",
        "spMod.optimize()"
      ]
    },
    {
      "cell_type": "code",
      "execution_count": 22,
      "metadata": {
        "colab": {
          "base_uri": "https://localhost:8080/"
        },
        "id": "jBZ-oM6XWuHZ",
        "outputId": "67462c3c-395d-4ace-f411-98a299f685f6"
      },
      "outputs": [
        {
          "data": {
            "text/plain": [
              "(0.9536264966228529, 535.2910009500025)"
            ]
          },
          "execution_count": 22,
          "metadata": {},
          "output_type": "execute_result"
        }
      ],
      "source": [
        "#optimal price and quantity \n",
        "spMod_x.x[0],spMod_x.x[1] "
      ]
    },
    {
      "cell_type": "code",
      "execution_count": 23,
      "metadata": {
        "colab": {
          "base_uri": "https://localhost:8080/"
        },
        "id": "dZavwxuraguY",
        "outputId": "986521f2-41bd-4e43-f5a4-efa4757c6883"
      },
      "outputs": [
        {
          "data": {
            "text/plain": [
              "234.42493491247865"
            ]
          },
          "execution_count": 23,
          "metadata": {},
          "output_type": "execute_result"
        }
      ],
      "source": [
        "#objective value: expected profit\n",
        "spMod.objval"
      ]
    },
    {
      "cell_type": "markdown",
      "metadata": {
        "id": "Qhoc8xb7a2Sl"
      },
      "source": [
        "## Question 6"
      ]
    },
    {
      "cell_type": "code",
      "execution_count": 24,
      "metadata": {
        "colab": {
          "base_uri": "https://localhost:8080/",
          "height": 423
        },
        "id": "obd9Ys2_a9bO",
        "outputId": "c01f96f7-b352-4631-f987-dce8a51358e4"
      },
      "outputs": [
        {
          "data": {
            "text/html": [
              "<div>\n",
              "<style scoped>\n",
              "    .dataframe tbody tr th:only-of-type {\n",
              "        vertical-align: middle;\n",
              "    }\n",
              "\n",
              "    .dataframe tbody tr th {\n",
              "        vertical-align: top;\n",
              "    }\n",
              "\n",
              "    .dataframe thead th {\n",
              "        text-align: right;\n",
              "    }\n",
              "</style>\n",
              "<table border=\"1\" class=\"dataframe\">\n",
              "  <thead>\n",
              "    <tr style=\"text-align: right;\">\n",
              "      <th></th>\n",
              "      <th>price</th>\n",
              "      <th>demand</th>\n",
              "    </tr>\n",
              "  </thead>\n",
              "  <tbody>\n",
              "    <tr>\n",
              "      <th>49</th>\n",
              "      <td>1.11</td>\n",
              "      <td>389</td>\n",
              "    </tr>\n",
              "    <tr>\n",
              "      <th>27</th>\n",
              "      <td>0.91</td>\n",
              "      <td>423</td>\n",
              "    </tr>\n",
              "    <tr>\n",
              "      <th>68</th>\n",
              "      <td>0.97</td>\n",
              "      <td>585</td>\n",
              "    </tr>\n",
              "    <tr>\n",
              "      <th>2</th>\n",
              "      <td>1.21</td>\n",
              "      <td>185</td>\n",
              "    </tr>\n",
              "    <tr>\n",
              "      <th>7</th>\n",
              "      <td>0.88</td>\n",
              "      <td>645</td>\n",
              "    </tr>\n",
              "    <tr>\n",
              "      <th>...</th>\n",
              "      <td>...</td>\n",
              "      <td>...</td>\n",
              "    </tr>\n",
              "    <tr>\n",
              "      <th>31</th>\n",
              "      <td>0.90</td>\n",
              "      <td>476</td>\n",
              "    </tr>\n",
              "    <tr>\n",
              "      <th>67</th>\n",
              "      <td>1.23</td>\n",
              "      <td>164</td>\n",
              "    </tr>\n",
              "    <tr>\n",
              "      <th>69</th>\n",
              "      <td>1.20</td>\n",
              "      <td>341</td>\n",
              "    </tr>\n",
              "    <tr>\n",
              "      <th>68</th>\n",
              "      <td>0.97</td>\n",
              "      <td>585</td>\n",
              "    </tr>\n",
              "    <tr>\n",
              "      <th>17</th>\n",
              "      <td>1.06</td>\n",
              "      <td>303</td>\n",
              "    </tr>\n",
              "  </tbody>\n",
              "</table>\n",
              "<p>99 rows × 2 columns</p>\n",
              "</div>"
            ],
            "text/plain": [
              "    price  demand\n",
              "49   1.11     389\n",
              "27   0.91     423\n",
              "68   0.97     585\n",
              "2    1.21     185\n",
              "7    0.88     645\n",
              "..    ...     ...\n",
              "31   0.90     476\n",
              "67   1.23     164\n",
              "69   1.20     341\n",
              "68   0.97     585\n",
              "17   1.06     303\n",
              "\n",
              "[99 rows x 2 columns]"
            ]
          },
          "execution_count": 24,
          "metadata": {},
          "output_type": "execute_result"
        }
      ],
      "source": [
        "#generating a bootstrap sample of demand\n",
        "boot_samp = demand.sample(n=nd,replace=True) # take a random sample of demand each iteration\n",
        "boot_samp.iloc[:,:2]"
      ]
    },
    {
      "cell_type": "code",
      "execution_count": 25,
      "metadata": {
        "colab": {
          "base_uri": "https://localhost:8080/",
          "height": 459
        },
        "id": "l9aGS_a3-L8A",
        "outputId": "c59b04c3-fac4-4ee4-f4be-d3b51c0f500f"
      },
      "outputs": [
        {
          "name": "stdout",
          "output_type": "stream",
          "text": [
            "Intercept:  2000.5908696960955\n",
            "Coefficient:  -1444.4005998594018\n"
          ]
        },
        {
          "data": {
            "text/html": [
              "<div>\n",
              "<style scoped>\n",
              "    .dataframe tbody tr th:only-of-type {\n",
              "        vertical-align: middle;\n",
              "    }\n",
              "\n",
              "    .dataframe tbody tr th {\n",
              "        vertical-align: top;\n",
              "    }\n",
              "\n",
              "    .dataframe thead th {\n",
              "        text-align: right;\n",
              "    }\n",
              "</style>\n",
              "<table border=\"1\" class=\"dataframe\">\n",
              "  <thead>\n",
              "    <tr style=\"text-align: right;\">\n",
              "      <th></th>\n",
              "      <th>price</th>\n",
              "      <th>demand</th>\n",
              "      <th>residual</th>\n",
              "    </tr>\n",
              "  </thead>\n",
              "  <tbody>\n",
              "    <tr>\n",
              "      <th>49</th>\n",
              "      <td>1.11</td>\n",
              "      <td>389</td>\n",
              "      <td>-8.306204</td>\n",
              "    </tr>\n",
              "    <tr>\n",
              "      <th>27</th>\n",
              "      <td>0.91</td>\n",
              "      <td>423</td>\n",
              "      <td>-263.186324</td>\n",
              "    </tr>\n",
              "    <tr>\n",
              "      <th>68</th>\n",
              "      <td>0.97</td>\n",
              "      <td>585</td>\n",
              "      <td>-14.522288</td>\n",
              "    </tr>\n",
              "    <tr>\n",
              "      <th>2</th>\n",
              "      <td>1.21</td>\n",
              "      <td>185</td>\n",
              "      <td>-67.866144</td>\n",
              "    </tr>\n",
              "    <tr>\n",
              "      <th>7</th>\n",
              "      <td>0.88</td>\n",
              "      <td>645</td>\n",
              "      <td>-84.518342</td>\n",
              "    </tr>\n",
              "    <tr>\n",
              "      <th>...</th>\n",
              "      <td>...</td>\n",
              "      <td>...</td>\n",
              "      <td>...</td>\n",
              "    </tr>\n",
              "    <tr>\n",
              "      <th>31</th>\n",
              "      <td>0.90</td>\n",
              "      <td>476</td>\n",
              "      <td>-224.630330</td>\n",
              "    </tr>\n",
              "    <tr>\n",
              "      <th>67</th>\n",
              "      <td>1.23</td>\n",
              "      <td>164</td>\n",
              "      <td>-59.978132</td>\n",
              "    </tr>\n",
              "    <tr>\n",
              "      <th>69</th>\n",
              "      <td>1.20</td>\n",
              "      <td>341</td>\n",
              "      <td>73.689850</td>\n",
              "    </tr>\n",
              "    <tr>\n",
              "      <th>68</th>\n",
              "      <td>0.97</td>\n",
              "      <td>585</td>\n",
              "      <td>-14.522288</td>\n",
              "    </tr>\n",
              "    <tr>\n",
              "      <th>17</th>\n",
              "      <td>1.06</td>\n",
              "      <td>303</td>\n",
              "      <td>-166.526234</td>\n",
              "    </tr>\n",
              "  </tbody>\n",
              "</table>\n",
              "<p>99 rows × 3 columns</p>\n",
              "</div>"
            ],
            "text/plain": [
              "    price  demand    residual\n",
              "49   1.11     389   -8.306204\n",
              "27   0.91     423 -263.186324\n",
              "68   0.97     585  -14.522288\n",
              "2    1.21     185  -67.866144\n",
              "7    0.88     645  -84.518342\n",
              "..    ...     ...         ...\n",
              "31   0.90     476 -224.630330\n",
              "67   1.23     164  -59.978132\n",
              "69   1.20     341   73.689850\n",
              "68   0.97     585  -14.522288\n",
              "17   1.06     303 -166.526234\n",
              "\n",
              "[99 rows x 3 columns]"
            ]
          },
          "execution_count": 25,
          "metadata": {},
          "output_type": "execute_result"
        }
      ],
      "source": [
        "#fitting new regression\n",
        "y2 = boot_samp['demand'].values.reshape(-1, 1)\n",
        "x2 = boot_samp['price'].values.reshape(-1, 1)\n",
        "model2 = LinearRegression().fit(x2,y2)\n",
        "prediction2 = model2.predict(x2)\n",
        "residual2 = (y2 - prediction2)\n",
        "boot_samp['residual'] = residual2\n",
        "print('Intercept: ', model2.intercept_[0])\n",
        "print('Coefficient: ', model2.coef_[0][0])\n",
        "boot_samp"
      ]
    },
    {
      "cell_type": "markdown",
      "metadata": {},
      "source": []
    },
    {
      "cell_type": "code",
      "execution_count": 26,
      "metadata": {
        "id": "5HW6rNEG_FD1"
      },
      "outputs": [],
      "source": [
        "#Recreating Question 4\n",
        "\n",
        "#Creating a new demand df for Di with intercept + residual \n",
        "boot_q = pd.DataFrame()\n",
        "boot_q['demand'] = residual2[0:,0].tolist() + model2.intercept_[0] \n",
        "\n",
        "#creating the Q matrix \n",
        "Q2 = np.zeros((101,101))\n",
        "Q2[0][0] = model2.coef_[0][0]\n",
        "\n",
        "#Linear part \n",
        "c = 0.5\n",
        "g = 0.75\n",
        "t = 0.15\n",
        "nd = boot_q.shape[0]\n",
        "\n",
        "obj = np.zeros(nd+2)\n",
        "obj[0] = np.mean(residual2[0:,0].tolist()) + model2.intercept_[0] \n",
        "obj[2:] = 1.0/nd \n",
        "ub = np.zeros(nd+2)\n",
        "ub[:2] = np.inf #p will be positive\n",
        "lb = np.zeros(nd+2)\n",
        "lb[2:] = -np.inf\n",
        "rhs = np.zeros(2*nd)\n",
        "direction = np.array(['<']*(2*nd))\n",
        "\n",
        "#Creating constraints\n",
        "A = np.zeros((2*nd,nd+2))#99*2 rows + 101 cols\n",
        "for r in range(nd):\n",
        "  #the constraint when P >= Di\n",
        "  A[2*r,[0,1,r+2]] = [g*model2.coef_[0][0],c-g,1] #for p, the coefficient beta1 and g is present after substituting in the function for Di\n",
        "  rhs[2*r] = -g*boot_q.demand[r]\n",
        "  #constraint when P <= Di\n",
        "  A[2*r+1,[0,1,r+2]] = [-t*model2.coef_[0][0],c+t,1]\n",
        "  rhs[2*r+1] = t*boot_q.demand[r]\n",
        "\n",
        "spMod = gp.Model()\n",
        "spMod_x = spMod.addMVar(len(obj),lb=lb,ub=ub)\n",
        "spMod_con = spMod.addMConstrs(A, spMod_x, direction, rhs) \n",
        "spMod.setMObjective(Q2,obj,0,sense=gp.GRB.MAXIMIZE) \n",
        "\n",
        "spMod.Params.OutputFlag = 0 \n",
        "spMod.optimize()"
      ]
    },
    {
      "cell_type": "code",
      "execution_count": 27,
      "metadata": {
        "colab": {
          "base_uri": "https://localhost:8080/"
        },
        "id": "5j-L8QYPAWtv",
        "outputId": "9d843404-8abd-45f1-e5bc-7dc00d0d0cd9"
      },
      "outputs": [
        {
          "data": {
            "text/plain": [
              "(0.9425332452346348, 569.4411290283039)"
            ]
          },
          "execution_count": 27,
          "metadata": {},
          "output_type": "execute_result"
        }
      ],
      "source": [
        "#optimal price and quantity \n",
        "spMod_x.x[0],spMod_x.x[1] "
      ]
    },
    {
      "cell_type": "code",
      "execution_count": 28,
      "metadata": {
        "colab": {
          "base_uri": "https://localhost:8080/"
        },
        "id": "TZ3PGeYJAc9t",
        "outputId": "62159613-ddd3-496d-9bda-e4b1861e7b4c"
      },
      "outputs": [
        {
          "data": {
            "text/plain": [
              "231.9491027398144"
            ]
          },
          "execution_count": 28,
          "metadata": {},
          "output_type": "execute_result"
        }
      ],
      "source": [
        "#profit\n",
        "spMod.objval"
      ]
    },
    {
      "cell_type": "markdown",
      "metadata": {
        "id": "zL0lmKEOA687"
      },
      "source": [
        "## Question 7"
      ]
    },
    {
      "cell_type": "code",
      "execution_count": 29,
      "metadata": {
        "id": "WfUE5-sPA6bz"
      },
      "outputs": [],
      "source": [
        "#make function for fitting model and the gurobi process\n",
        "\n",
        "def fit_model(data):\n",
        "  y = data['demand'].values.reshape(-1, 1)\n",
        "  x = data['price'].values.reshape(-1, 1)\n",
        "  model = LinearRegression().fit(x,y)\n",
        "  prediction = model.predict(x)\n",
        "  residual = (y - prediction)\n",
        "  data2 = data.copy()\n",
        "  data2['residual'] = residual\n",
        "\n",
        "  return model,data2\n",
        "\n",
        "def gurobi_fit(data,model):\n",
        "\n",
        "  boot_q = pd.DataFrame()\n",
        "  boot_q['demand'] = data['residual'] + model.intercept_[0] \n",
        "  boot_q.reset_index(inplace = True)\n",
        "  \n",
        "  Q2 = np.zeros((101,101))\n",
        "  Q2[0][0] = model.coef_[0][0]\n",
        "\n",
        "  c = 0.5\n",
        "  g = 0.75\n",
        "  t = 0.15\n",
        "  nd = boot_q.shape[0]\n",
        "\n",
        "  obj = np.zeros(nd+2)\n",
        "  obj[0] = np.mean(data['residual']) + model.intercept_[0] \n",
        "  obj[2:] = 1.0/nd \n",
        "  ub = np.zeros(nd+2)\n",
        "  ub[:2] = np.inf \n",
        "  lb = np.zeros(nd+2)\n",
        "  lb[2:] = -np.inf\n",
        "  rhs = np.zeros(2*nd)\n",
        "  direction = np.array(['<']*(2*nd))\n",
        "\n",
        "\n",
        "  A = np.zeros((2*nd,nd+2))\n",
        "  for r in range(nd):\n",
        "    #the constraint when P >= Di\n",
        "    A[2*r,[0,1,r+2]] = [g*model.coef_[0][0],c-g,1] \n",
        "    rhs[2*r] = -g*boot_q.demand[r]\n",
        "    #constraint when P <= Di\n",
        "    A[2*r+1,[0,1,r+2]] = [-t*model.coef_[0][0],c+t,1]\n",
        "    rhs[2*r+1] = t*boot_q.demand[r]\n",
        "\n",
        "  spMod = gp.Model()\n",
        "  spMod_x = spMod.addMVar(len(obj),lb=lb,ub=ub)\n",
        "  spMod_con = spMod.addMConstrs(A, spMod_x, direction, rhs) \n",
        "  spMod.setMObjective(Q2,obj,0,sense=gp.GRB.MAXIMIZE) \n",
        "\n",
        "  spMod.Params.OutputFlag = 0 \n",
        "  spMod.optimize()\n",
        "  \n",
        "  price,quantity = spMod_x.x[0],spMod_x.x[1] \n",
        "  profit = spMod.objval\n",
        "  return price,quantity,profit"
      ]
    },
    {
      "cell_type": "code",
      "execution_count": null,
      "metadata": {
        "colab": {
          "base_uri": "https://localhost:8080/"
        },
        "id": "i22fAL8MCwPC",
        "outputId": "ae30e79f-7c8c-457d-fc69-e5b27f60c9f0"
      },
      "outputs": [],
      "source": [
        "#stimulation\n",
        "price_l = []\n",
        "quantity_l = []\n",
        "profit_l = []\n",
        "sim = 1000\n",
        "\n",
        "for i in range(sim):\n",
        "  samp = demand.sample(n=demand.shape[0],replace=True)\n",
        "  new_model,new_data = fit_model(samp)\n",
        "  new_p,new_q,new_pro = gurobi_fit(new_data,new_model)\n",
        "  price_l.append(new_p)\n",
        "  quantity_l.append(new_q)\n",
        "  profit_l.append(new_pro)"
      ]
    },
    {
      "cell_type": "code",
      "execution_count": 31,
      "metadata": {
        "colab": {
          "base_uri": "https://localhost:8080/",
          "height": 423
        },
        "id": "r3AG982AHPol",
        "outputId": "19333c7b-fe53-41b2-a840-1951dac692d5"
      },
      "outputs": [
        {
          "data": {
            "text/html": [
              "<div>\n",
              "<style scoped>\n",
              "    .dataframe tbody tr th:only-of-type {\n",
              "        vertical-align: middle;\n",
              "    }\n",
              "\n",
              "    .dataframe tbody tr th {\n",
              "        vertical-align: top;\n",
              "    }\n",
              "\n",
              "    .dataframe thead th {\n",
              "        text-align: right;\n",
              "    }\n",
              "</style>\n",
              "<table border=\"1\" class=\"dataframe\">\n",
              "  <thead>\n",
              "    <tr style=\"text-align: right;\">\n",
              "      <th></th>\n",
              "      <th>price</th>\n",
              "      <th>quantity</th>\n",
              "      <th>profit</th>\n",
              "    </tr>\n",
              "  </thead>\n",
              "  <tbody>\n",
              "    <tr>\n",
              "      <th>0</th>\n",
              "      <td>0.950588</td>\n",
              "      <td>537.657516</td>\n",
              "      <td>235.845250</td>\n",
              "    </tr>\n",
              "    <tr>\n",
              "      <th>1</th>\n",
              "      <td>0.971827</td>\n",
              "      <td>493.915007</td>\n",
              "      <td>238.835242</td>\n",
              "    </tr>\n",
              "    <tr>\n",
              "      <th>2</th>\n",
              "      <td>0.970575</td>\n",
              "      <td>496.979372</td>\n",
              "      <td>234.140057</td>\n",
              "    </tr>\n",
              "    <tr>\n",
              "      <th>3</th>\n",
              "      <td>0.960903</td>\n",
              "      <td>512.843407</td>\n",
              "      <td>228.959224</td>\n",
              "    </tr>\n",
              "    <tr>\n",
              "      <th>4</th>\n",
              "      <td>0.921006</td>\n",
              "      <td>567.693946</td>\n",
              "      <td>219.172458</td>\n",
              "    </tr>\n",
              "    <tr>\n",
              "      <th>...</th>\n",
              "      <td>...</td>\n",
              "      <td>...</td>\n",
              "      <td>...</td>\n",
              "    </tr>\n",
              "    <tr>\n",
              "      <th>995</th>\n",
              "      <td>0.951549</td>\n",
              "      <td>535.023133</td>\n",
              "      <td>230.589739</td>\n",
              "    </tr>\n",
              "    <tr>\n",
              "      <th>996</th>\n",
              "      <td>0.933919</td>\n",
              "      <td>574.461694</td>\n",
              "      <td>229.232715</td>\n",
              "    </tr>\n",
              "    <tr>\n",
              "      <th>997</th>\n",
              "      <td>0.952805</td>\n",
              "      <td>554.453483</td>\n",
              "      <td>246.121561</td>\n",
              "    </tr>\n",
              "    <tr>\n",
              "      <th>998</th>\n",
              "      <td>0.962682</td>\n",
              "      <td>503.841167</td>\n",
              "      <td>237.476021</td>\n",
              "    </tr>\n",
              "    <tr>\n",
              "      <th>999</th>\n",
              "      <td>0.971280</td>\n",
              "      <td>511.275883</td>\n",
              "      <td>241.817469</td>\n",
              "    </tr>\n",
              "  </tbody>\n",
              "</table>\n",
              "<p>1000 rows × 3 columns</p>\n",
              "</div>"
            ],
            "text/plain": [
              "        price    quantity      profit\n",
              "0    0.950588  537.657516  235.845250\n",
              "1    0.971827  493.915007  238.835242\n",
              "2    0.970575  496.979372  234.140057\n",
              "3    0.960903  512.843407  228.959224\n",
              "4    0.921006  567.693946  219.172458\n",
              "..        ...         ...         ...\n",
              "995  0.951549  535.023133  230.589739\n",
              "996  0.933919  574.461694  229.232715\n",
              "997  0.952805  554.453483  246.121561\n",
              "998  0.962682  503.841167  237.476021\n",
              "999  0.971280  511.275883  241.817469\n",
              "\n",
              "[1000 rows x 3 columns]"
            ]
          },
          "execution_count": 31,
          "metadata": {},
          "output_type": "execute_result"
        }
      ],
      "source": [
        "result = pd.DataFrame()\n",
        "result['price'] = price_l\n",
        "result['quantity'] = quantity_l\n",
        "result['profit'] = profit_l\n",
        "result"
      ]
    },
    {
      "cell_type": "code",
      "execution_count": 32,
      "metadata": {
        "colab": {
          "base_uri": "https://localhost:8080/",
          "height": 313
        },
        "id": "wM71vsQ6NIVW",
        "outputId": "4a0d7f7a-cc84-4cae-e59b-2f7d985311a4"
      },
      "outputs": [
        {
          "data": {
            "text/plain": [
              "Text(0, 0.5, 'Frequency')"
            ]
          },
          "execution_count": 32,
          "metadata": {},
          "output_type": "execute_result"
        },
        {
          "data": {
            "image/png": "[encoded data removed]",
            "text/plain": [
              "<Figure size 432x288 with 1 Axes>"
            ]
          },
          "metadata": {
            "needs_background": "light"
          },
          "output_type": "display_data"
        }
      ],
      "source": [
        "#plotting histogram for price\n",
        "result.hist(column='price',grid=False,bins=30,color='#FFCF56')\n",
        "plt.title(\"Optimal Prices\")\n",
        "plt.xlabel('Price')\n",
        "plt.ylabel('Frequency')"
      ]
    },
    {
      "cell_type": "code",
      "execution_count": 33,
      "metadata": {
        "colab": {
          "base_uri": "https://localhost:8080/",
          "height": 313
        },
        "id": "om456zHzOw9z",
        "outputId": "b6cf892a-00ba-4208-da66-99da1dfec822"
      },
      "outputs": [
        {
          "data": {
            "text/plain": [
              "Text(0, 0.5, 'Frequency')"
            ]
          },
          "execution_count": 33,
          "metadata": {},
          "output_type": "execute_result"
        },
        {
          "data": {
            "image/png": "[encoded data removed]",
            "text/plain": [
              "<Figure size 432x288 with 1 Axes>"
            ]
          },
          "metadata": {
            "needs_background": "light"
          },
          "output_type": "display_data"
        }
      ],
      "source": [
        "#plotting histogram for quantity \n",
        "result.hist(column='quantity',grid=False,bins=30,color='#FFCF56')\n",
        "plt.title(\"Optimal Quantities\")\n",
        "plt.xlabel('Quantity')\n",
        "plt.ylabel('Frequency')"
      ]
    },
    {
      "cell_type": "code",
      "execution_count": 34,
      "metadata": {
        "colab": {
          "base_uri": "https://localhost:8080/",
          "height": 313
        },
        "id": "ZPbbO_d4PAws",
        "outputId": "6a87ba9d-b02c-4118-bf9d-3dfea40e477f"
      },
      "outputs": [
        {
          "data": {
            "text/plain": [
              "Text(0, 0.5, 'Frequency')"
            ]
          },
          "execution_count": 34,
          "metadata": {},
          "output_type": "execute_result"
        },
        {
          "data": {
            "image/png": "[encoded data removed]",
            "text/plain": [
              "<Figure size 432x288 with 1 Axes>"
            ]
          },
          "metadata": {
            "needs_background": "light"
          },
          "output_type": "display_data"
        }
      ],
      "source": [
        "#plotting histogram for profit\n",
        "result.hist(column='profit',grid=False,bins=30,color='#FFCF56')\n",
        "plt.title(\"Expected Profit\")\n",
        "plt.xlabel('Profit')\n",
        "plt.ylabel('Frequency')"
      ]
    },
    {
      "cell_type": "code",
      "execution_count": 35,
      "metadata": {
        "colab": {
          "base_uri": "https://localhost:8080/",
          "height": 459
        },
        "id": "0VMoZ2_7Pz-w",
        "outputId": "240482d8-ea78-4b56-91c9-7e373e5ca931"
      },
      "outputs": [
        {
          "data": {
            "text/plain": [
              "<seaborn.axisgrid.JointGrid at 0x1c809f47190>"
            ]
          },
          "execution_count": 35,
          "metadata": {},
          "output_type": "execute_result"
        },
        {
          "data": {
            "image/png": "[encoded data removed]",
            "text/plain": [
              "<Figure size 432x432 with 3 Axes>"
            ]
          },
          "metadata": {
            "needs_background": "light"
          },
          "output_type": "display_data"
        }
      ],
      "source": [
        "#scatterplot for quantity and price\n",
        "sns.jointplot(x='price', y='quantity',data=result, kind = 'reg',color = '#FFCF56' )"
      ]
    },
    {
      "cell_type": "markdown",
      "metadata": {
        "id": "4mwiKW9I3P6E"
      },
      "source": [
        "## Question 8"
      ]
    },
    {
      "cell_type": "code",
      "execution_count": 36,
      "metadata": {
        "id": "AKxmmB4B3RUf"
      },
      "outputs": [],
      "source": [
        "#creating the standard NV model\n",
        "c = 0.5\n",
        "p = 1\n",
        "nd = demand.shape[0]\n",
        "\n",
        "# decision variables are (q, h1, h2, ..., h99) coeff of q would be 0, h1,h2... would have coeff of 1/99\n",
        "obj = np.zeros(nd+1)\n",
        "obj[1:] = 1.0/nd \n",
        "lb = np.zeros(nd+1)\n",
        "lb[1:] = -np.inf\n",
        "rhs = np.zeros(2*nd)\n",
        "direction = np.array(['<']*(2*nd))"
      ]
    },
    {
      "cell_type": "code",
      "execution_count": 37,
      "metadata": {
        "id": "l5GuuHLy89MN"
      },
      "outputs": [],
      "source": [
        "A = np.zeros((2*nd,nd+1))\n",
        "for r in range(nd):\n",
        "    A[2*r,[0,r+1]] = [c,1] \n",
        "    rhs[2*r] = p*new_d.demand[r] \n",
        "    A[2*r+1,[0,r+1]] = [c-p,1]#this is the hi + (c-p)q constraint\n",
        "    rhs[2*r+1] = 0 #rhs of the above constraint is 0 "
      ]
    },
    {
      "cell_type": "code",
      "execution_count": 38,
      "metadata": {
        "id": "2ODurhv3B__w"
      },
      "outputs": [],
      "source": [
        "spMod = gp.Model()\n",
        "spMod_x = spMod.addMVar(len(obj),lb=lb)\n",
        "spMod_con = spMod.addMConstrs(A, spMod_x, direction, rhs)\n",
        "spMod.setMObjective(None,obj,0,sense=gp.GRB.MAXIMIZE)\n",
        "\n",
        "spMod.Params.OutputFlag = 0 # tell gurobi to shut up!!\n",
        "spMod.optimize()"
      ]
    },
    {
      "cell_type": "code",
      "execution_count": 39,
      "metadata": {
        "colab": {
          "base_uri": "https://localhost:8080/"
        },
        "id": "Bib0_F80Exm9",
        "outputId": "ac342eae-dd15-4e9b-a42d-9d1c879a0ac6"
      },
      "outputs": [
        {
          "data": {
            "text/plain": [
              "569.8967553157715"
            ]
          },
          "execution_count": 39,
          "metadata": {},
          "output_type": "execute_result"
        }
      ],
      "source": [
        "#optimal quantity\n",
        "spMod_x.x[0]"
      ]
    },
    {
      "cell_type": "code",
      "execution_count": 40,
      "metadata": {
        "colab": {
          "base_uri": "https://localhost:8080/"
        },
        "id": "bK5x19CAFC-5",
        "outputId": "9811e54d-d346-480f-c0a9-a7baf6c00b63"
      },
      "outputs": [
        {
          "data": {
            "text/plain": [
              "219.28316552851413"
            ]
          },
          "execution_count": 40,
          "metadata": {},
          "output_type": "execute_result"
        }
      ],
      "source": [
        "#expected profit \n",
        "spMod.objval"
      ]
    },
    {
      "cell_type": "code",
      "execution_count": 41,
      "metadata": {
        "id": "-8zq6kThFiH5"
      },
      "outputs": [],
      "source": [
        "#doing bootstrapping for the standard model\n",
        "def gurobi_fit_standard(data):\n",
        "  c = 0.5\n",
        "  p = 1\n",
        "  nd = data.shape[0]\n",
        "\n",
        "  obj = np.zeros(nd+1)\n",
        "  obj[1:] = 1.0/nd \n",
        "  lb = np.zeros(nd+1)\n",
        "  lb[1:] = -np.inf\n",
        "  rhs = np.zeros(2*nd)\n",
        "  direction = np.array(['<']*(2*nd))\n",
        "\n",
        "  A = np.zeros((2*nd,nd+1))\n",
        "  for r in range(nd):\n",
        "    A[2*r,[0,r+1]] = [c,1] \n",
        "    rhs[2*r] = p*data.demand[r] \n",
        "    A[2*r+1,[0,r+1]] = [c-p,1]#this is the hi + (c-p)q constraint\n",
        "    rhs[2*r+1] = 0 #rhs of the above constraint is 0 \n",
        "\n",
        "  spMod = gp.Model()\n",
        "  spMod_x = spMod.addMVar(len(obj),lb=lb)\n",
        "  spMod_con = spMod.addMConstrs(A, spMod_x, direction, rhs)\n",
        "  spMod.setMObjective(None,obj,0,sense=gp.GRB.MAXIMIZE)\n",
        "\n",
        "  spMod.Params.OutputFlag = 0 # tell gurobi to shut up!!\n",
        "  spMod.optimize()\n",
        "\n",
        "  quantity = spMod_x.x[0]\n",
        "  profit = spMod.objval\n",
        "  return quantity,profit"
      ]
    },
    {
      "cell_type": "code",
      "execution_count": 42,
      "metadata": {
        "colab": {
          "base_uri": "https://localhost:8080/"
        },
        "id": "vOl5p6VoHbvu",
        "outputId": "19b93d59-bd50-4a78-d618-e00f5f612651"
      },
      "outputs": [
        {
          "name": "stderr",
          "output_type": "stream",
          "text": [
            "C:\\Users\\User\\AppData\\Local\\Temp\\ipykernel_4872\\2453740169.py:9: DeprecationWarning: Deprecated, use Model.addMConstr() instead\n",
            "  new_q,new_pro = gurobi_fit_standard(samp)\n"
          ]
        }
      ],
      "source": [
        "#simulation for standard model \n",
        "quantity_s = []\n",
        "profit_s = []\n",
        "sim = 1000\n",
        "\n",
        "for i in range(sim):\n",
        "  samp = new_d.sample(n=new_d.shape[0],replace=True)\n",
        "  samp.reset_index(inplace=True)\n",
        "  new_q,new_pro = gurobi_fit_standard(samp)\n",
        "  quantity_s.append(new_q)\n",
        "  profit_s.append(new_pro)"
      ]
    },
    {
      "cell_type": "code",
      "execution_count": 43,
      "metadata": {
        "colab": {
          "base_uri": "https://localhost:8080/",
          "height": 423
        },
        "id": "j70AgwdKI4cA",
        "outputId": "cb1056ec-dd4e-4a3d-fdac-50aa5f942c17"
      },
      "outputs": [
        {
          "data": {
            "text/html": [
              "<div>\n",
              "<style scoped>\n",
              "    .dataframe tbody tr th:only-of-type {\n",
              "        vertical-align: middle;\n",
              "    }\n",
              "\n",
              "    .dataframe tbody tr th {\n",
              "        vertical-align: top;\n",
              "    }\n",
              "\n",
              "    .dataframe thead th {\n",
              "        text-align: right;\n",
              "    }\n",
              "</style>\n",
              "<table border=\"1\" class=\"dataframe\">\n",
              "  <thead>\n",
              "    <tr style=\"text-align: right;\">\n",
              "      <th></th>\n",
              "      <th>quantity</th>\n",
              "      <th>profit</th>\n",
              "    </tr>\n",
              "  </thead>\n",
              "  <tbody>\n",
              "    <tr>\n",
              "      <th>0</th>\n",
              "      <td>569.896755</td>\n",
              "      <td>215.442788</td>\n",
              "    </tr>\n",
              "    <tr>\n",
              "      <th>1</th>\n",
              "      <td>597.156879</td>\n",
              "      <td>215.135929</td>\n",
              "    </tr>\n",
              "    <tr>\n",
              "      <th>2</th>\n",
              "      <td>561.708501</td>\n",
              "      <td>220.683311</td>\n",
              "    </tr>\n",
              "    <tr>\n",
              "      <th>3</th>\n",
              "      <td>554.197372</td>\n",
              "      <td>217.022599</td>\n",
              "    </tr>\n",
              "    <tr>\n",
              "      <th>4</th>\n",
              "      <td>552.802628</td>\n",
              "      <td>219.395815</td>\n",
              "    </tr>\n",
              "    <tr>\n",
              "      <th>...</th>\n",
              "      <td>...</td>\n",
              "      <td>...</td>\n",
              "    </tr>\n",
              "    <tr>\n",
              "      <th>995</th>\n",
              "      <td>593.739877</td>\n",
              "      <td>231.250526</td>\n",
              "    </tr>\n",
              "    <tr>\n",
              "      <th>996</th>\n",
              "      <td>569.896755</td>\n",
              "      <td>215.913456</td>\n",
              "    </tr>\n",
              "    <tr>\n",
              "      <th>997</th>\n",
              "      <td>551.062751</td>\n",
              "      <td>211.473909</td>\n",
              "    </tr>\n",
              "    <tr>\n",
              "      <th>998</th>\n",
              "      <td>579.520247</td>\n",
              "      <td>214.292275</td>\n",
              "    </tr>\n",
              "    <tr>\n",
              "      <th>999</th>\n",
              "      <td>597.156879</td>\n",
              "      <td>234.644967</td>\n",
              "    </tr>\n",
              "  </tbody>\n",
              "</table>\n",
              "<p>1000 rows × 2 columns</p>\n",
              "</div>"
            ],
            "text/plain": [
              "       quantity      profit\n",
              "0    569.896755  215.442788\n",
              "1    597.156879  215.135929\n",
              "2    561.708501  220.683311\n",
              "3    554.197372  217.022599\n",
              "4    552.802628  219.395815\n",
              "..          ...         ...\n",
              "995  593.739877  231.250526\n",
              "996  569.896755  215.913456\n",
              "997  551.062751  211.473909\n",
              "998  579.520247  214.292275\n",
              "999  597.156879  234.644967\n",
              "\n",
              "[1000 rows x 2 columns]"
            ]
          },
          "execution_count": 43,
          "metadata": {},
          "output_type": "execute_result"
        }
      ],
      "source": [
        "result_s = pd.DataFrame()\n",
        "result_s['quantity'] = quantity_s\n",
        "result_s['profit'] = profit_s\n",
        "result_s"
      ]
    },
    {
      "cell_type": "code",
      "execution_count": 44,
      "metadata": {
        "colab": {
          "base_uri": "https://localhost:8080/",
          "height": 313
        },
        "id": "u-ipE-oJJIyI",
        "outputId": "136b4e61-87bc-40d9-ec15-0b60c1ecc40d"
      },
      "outputs": [
        {
          "data": {
            "text/plain": [
              "Text(0, 0.5, 'Frequency')"
            ]
          },
          "execution_count": 44,
          "metadata": {},
          "output_type": "execute_result"
        },
        {
          "data": {
            "image/png": "[encoded data removed]",
            "text/plain": [
              "<Figure size 432x288 with 1 Axes>"
            ]
          },
          "metadata": {
            "needs_background": "light"
          },
          "output_type": "display_data"
        }
      ],
      "source": [
        "#plotting histogram for quantity for the standard model\n",
        "result_s.hist(column='quantity',grid=False, bins = 15)\n",
        "plt.title(\"Optimal Quantities for Standard Model\")\n",
        "plt.xlabel('Quantity')\n",
        "plt.ylabel('Frequency')"
      ]
    },
    {
      "cell_type": "code",
      "execution_count": 45,
      "metadata": {
        "colab": {
          "base_uri": "https://localhost:8080/",
          "height": 313
        },
        "id": "2h26_BDyJdbb",
        "outputId": "731968c4-2aa0-455c-ebde-db3896288ffc"
      },
      "outputs": [
        {
          "data": {
            "text/plain": [
              "Text(0, 0.5, 'Frequency')"
            ]
          },
          "execution_count": 45,
          "metadata": {},
          "output_type": "execute_result"
        },
        {
          "data": {
            "image/png": "[encoded data removed]",
            "text/plain": [
              "<Figure size 432x288 with 1 Axes>"
            ]
          },
          "metadata": {
            "needs_background": "light"
          },
          "output_type": "display_data"
        }
      ],
      "source": [
        "#plotting histogram for profit for the standard model\n",
        "result_s.hist(column='profit',grid=False, bins = 15)\n",
        "plt.title(\"Expected Profit for Standard Model\")\n",
        "plt.xlabel('Profit')\n",
        "plt.ylabel('Frequency')"
      ]
    }
  ],
  "metadata": {
    "colab": {
      "collapsed_sections": [],
      "name": "Project1.ipynb",
      "provenance": []
    },
    "interpreter": {
      "hash": "cf92aa13fedf815d5c8dd192b8d835913fde3e8bc926b2a0ad6cc74ef2ba3ca2"
    },
    "kernelspec": {
      "display_name": "Python 3.9.5 64-bit",
      "language": "python",
      "name": "python3"
    },
    "language_info": {
      "codemirror_mode": {
        "name": "ipython",
        "version": 3
      },
      "file_extension": ".py",
      "mimetype": "text/x-python",
      "name": "python",
      "nbconvert_exporter": "python",
      "pygments_lexer": "ipython3",
      "version": "3.9.5"
    }
  },
  "nbformat": 4,
  "nbformat_minor": 0
}
