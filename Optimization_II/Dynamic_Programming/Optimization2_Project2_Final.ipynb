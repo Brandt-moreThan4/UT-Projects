{
  "cells": [
    {
      "cell_type": "markdown",
      "metadata": {
        "id": "Q-D6ZI0grNOU"
      },
      "source": [
        "# MSBA –Optimization 2: Project 2 – Dynamic Programming"
      ]
    },
    {
      "cell_type": "code",
      "execution_count": 1,
      "metadata": {
        "id": "zPInNsGo4ULh"
      },
      "outputs": [],
      "source": [
        "import numpy as np\n",
        "import pandas as pd\n",
        "import matplotlib.pyplot as plt\n",
        "import seaborn as sns; sns.set_theme()\n",
        "from scipy.stats import binom\n",
        "# %matplotlib inline"
      ]
    },
    {
      "cell_type": "markdown",
      "metadata": {
        "id": "92pJusZdq2dy"
      },
      "source": [
        "First, we need to set up the parameters of the problem, these will be referenced thorughout the code:"
      ]
    },
    {
      "cell_type": "code",
      "execution_count": 2,
      "metadata": {
        "id": "ozTqKl4naaw9"
      },
      "outputs": [],
      "source": [
        "## price for coach ticket\n",
        "c_priceL = 300\n",
        "c_priceH = 350\n",
        "## price for first class ticket\n",
        "f_priceL = 425\n",
        "f_priceH = 500\n",
        "\n",
        "## demand probabilities for coach ticket\n",
        "c_pL = [0.35,0.65] # demand probabilities for low price\n",
        "c_pH = [0.7,0.3] # demand probabilities for high price\n",
        "\n",
        "## demand probabilities for first class ticket\n",
        "f_pL = [0.92,0.08] # demand probabilities for low price\n",
        "f_pH = [0.96,0.04] # demand probabilities for high price\n",
        "\n",
        "delta = 1/(1+0.15/365) # discount rate\n",
        "\n",
        "overbook = 5 # seat can be overbooked\n",
        "cap = 100 # coach capacity\n",
        "c_M1 = cap + overbook # number of seats for coach ticket\n",
        "f_M1 = 20 # number of seats for first class ticket\n",
        "\n",
        "T = 365 # days until takeoff\n",
        "\n",
        "c_p_SU = 0.95 # coach class show up possibility \n",
        "f_p_SU = 0.97 # first class show up possibility\n",
        "\n",
        "cost_f = 50 # cost for first class bump\n",
        "cost_o = 425  # cost for no-seat bump\n",
        "\n",
        "# Below, are our three state variables\n",
        "cValues = np.arange(c_M1+1) # all possible number of seats left in coach\n",
        "fValues = np.arange(f_M1+1) # all possible number of seats left in first class\n",
        "tValues = np.arange(T+1) # all possible days until takeoff\n",
        "\n",
        "cN = len(cValues) # count possible state values\n",
        "fN = len(fValues) # count possible state values\n",
        "tN = len(tValues)  # count possible state values"
      ]
    },
    {
      "cell_type": "markdown",
      "metadata": {
        "id": "Lcu-4GKJo3Sr"
      },
      "source": [
        "## Question 1\n",
        "In this phase, we would like to determine the value today, and the optimal decisions at each state when we only allow coach to be oversold by five tickets.\n",
        "\n",
        "\n"
      ]
    },
    {
      "cell_type": "code",
      "execution_count": 3,
      "metadata": {
        "id": "difVMqyRsqIe"
      },
      "outputs": [],
      "source": [
        "def get_overbook(seats:int):\n",
        "  \"\"\" This function takes in the number of coach seats that are allowed to be overbooked and\n",
        "      will return four values: Value matrix, Coach Decision Matrix, First Class Decision Matrix, and the discounted profit at time 0.\n",
        "  \"\"\"\n",
        "\n",
        "  cValues = np.arange(cap + seats+1) # all possible number of seats left in coach\n",
        "  cN = len(cValues)  # count possible state values\n",
        "\n",
        "  V = np.zeros((cN,fN,tN)) # initialize value function\n",
        "  U_c = np.zeros((cN,fN,tN)) # initialize optimal choice variable - coach\n",
        "  U_f = np.zeros((cN,fN,tN)) # initialize optimal choice variable - first class\n",
        "\n",
        "  #First, we need to set up the terminal condition. This condition is defined as the expected cost at takeoff due to overbooking.\n",
        "  for i in range(cN):\n",
        "    for j in range(fN):\n",
        "      ## sell less or equal than 100 coach tickets\n",
        "      if i <= cap:\n",
        "        V[i,j,tN-1] = 0\n",
        "      ## sell more than 100 coach tickets\n",
        "      else:\n",
        "        ## adding up all the possibilities of showing up can come up with expected cost\n",
        "        cost = 0\n",
        "        for m in range(i+1):\n",
        "          for n in range(j+1):\n",
        "            if m <= cap:\n",
        "              cost += 0\n",
        "            else:\n",
        "              overbook = m - cap \n",
        "              firstleft = f_M1 - n\n",
        "              diff = overbook - firstleft\n",
        "              if diff <= 0:\n",
        "                cost += cost_f*overbook*binom.pmf(m, i, c_p_SU)*binom.pmf(n, j, f_p_SU)\n",
        "              else:\n",
        "                cost += (cost_f*firstleft+cost_o*diff)*binom.pmf(m, i, c_p_SU)*binom.pmf(n, j, f_p_SU)\n",
        "        V[i,j,tN-1] = -cost  \n",
        "\n",
        "\n",
        "  # Now we can loop backward in time, to fill out the value matrix and decision matrices.\n",
        "  for t in reversed(range(tN-1)):\n",
        "    for c in range(cN):\n",
        "        for f in range(fN):\n",
        "\n",
        "          ## coach class and first class both sold out\n",
        "          if c ==  cap + seats and f == f_M1: # is the flight full (0 seats left)\n",
        "              V[c,f,t] = delta*V[c,f,t+1] # if so, you can't make any more money, the same with later period\n",
        "              U_c[c,f,t] = 0 # no tickets for sale\n",
        "              U_f[c,f,t] = 0 # no tickets for sale\n",
        "\n",
        "          ## only coach class sold out\n",
        "          elif c == cap + seats:\n",
        "              ## expected revenue today for both two possible price combination in first class\n",
        "              ErevH_f = f_priceH*f_pH[1] + 0*f_pH[0]\n",
        "              ErevL_f = f_priceL*f_pL[1] + 0*f_pL[0]\n",
        "              \n",
        "              ## tomorrow's expected value\n",
        "              EtomH_f = V[c,f+1,t+1]*f_pH[1] + V[c,f,t+1]*f_pH[0]\n",
        "              EtomL_f = V[c,f+1,t+1]*f_pL[1] + V[c,f,t+1]*f_pL[0]\n",
        "\n",
        "              # value function = expected revenue today + discounted expected value function next time\n",
        "              valueH_f = ErevH_f + delta*EtomH_f\n",
        "              valueL_f = ErevL_f + delta*EtomL_f\n",
        "\n",
        "              V[c,f,t]=max(valueH_f,valueL_f)\n",
        "              index_f = np.argmax([valueH_f,valueL_f])+1\n",
        "\n",
        "              ## choice of price: 1 means low price, 2 means high price, 0 means not sold\n",
        "              U_c[c,f,t] = 0\n",
        "              if index_f  == 1:\n",
        "                U_f[c,f,t] = 2\n",
        "              elif index_f == 2:\n",
        "                U_f[c,f,t] = 1\n",
        "\n",
        "          ## only first class sold out\n",
        "          elif f == f_M1:\n",
        "              ErevH_c = c_priceH*c_pH[1] + 0*c_pH[0]\n",
        "              ErevL_c = c_priceL*c_pL[1] + 0*c_pL[0]\n",
        "              \n",
        "              ## tomorrow's expected value\n",
        "              EtomH_c = V[c+1,f,t+1]*c_pH[1] + V[c,f,t+1]*c_pH[0]\n",
        "              EtomL_c = V[c+1,f,t+1]*c_pL[1] + V[c,f,t+1]*c_pL[0]\n",
        "\n",
        "              # value function = expected revenue today + discounted expected value function next time\n",
        "              valueH_c = ErevH_c + delta*EtomH_c\n",
        "              valueL_c = ErevL_c + delta*EtomL_c\n",
        "\n",
        "              V[c,f,t]=max(valueH_c,valueL_c)\n",
        "              index_c = np.argmax([valueH_c,valueL_c])+1\n",
        "\n",
        "              ## choice of price: 1 means low price, 2 means high price, 0 means not sold\n",
        "              U_f[c,f,t] = 0\n",
        "              if index_c  == 1:\n",
        "                U_c[c,f,t] = 2\n",
        "              elif index_c == 2:\n",
        "                U_c[c,f,t] = 1\n",
        "\n",
        "          ## both available for sale\n",
        "          else:\n",
        "              ## expected revenue today for all four possible price combination\n",
        "              ErevHH = (c_priceH+f_priceH)*c_pH[1]*f_pH[1] + (c_priceH)*c_pH[1]*f_pH[0] + (f_priceH)*c_pH[0]*f_pH[1] + 0*c_pH[0]*f_pH[0]\n",
        "              ErevHL = (c_priceH+f_priceL)*c_pH[1]*f_pL[1] + (c_priceH)*c_pH[1]*f_pL[0] + (f_priceL)*c_pH[0]*f_pL[1] + 0*c_pH[0]*f_pL[0]\n",
        "              ErevLH = (c_priceL+f_priceH)*c_pL[1]*f_pH[1] + (c_priceL)*c_pL[1]*f_pH[0] + (f_priceH)*c_pL[0]*f_pH[1] + 0*c_pL[0]*f_pH[0]\n",
        "              ErevLL = (c_priceL+f_priceL)*c_pL[1]*f_pL[1] + (c_priceL)*c_pL[1]*f_pL[0] + (f_priceL)*c_pL[0]*f_pL[1] + 0*c_pL[0]*f_pL[0]\n",
        "              \n",
        "              ## tomorrow's expected value\n",
        "              EtomHH = V[c+1,f+1,t+1]*c_pH[1]*f_pH[1] + V[c+1,f,t+1]*c_pH[1]*f_pH[0] + V[c,f+1,t+1]*c_pH[0]*f_pH[1] + V[c,f,t+1]*c_pH[0]*f_pH[0]\n",
        "              EtomHL = V[c+1,f+1,t+1]*c_pH[1]*f_pL[1] + V[c+1,f,t+1]*c_pH[1]*f_pL[0] + V[c,f+1,t+1]*c_pH[0]*f_pL[1] + V[c,f,t+1]*c_pH[0]*f_pL[0]\n",
        "              EtomLH = V[c+1,f+1,t+1]*c_pL[1]*f_pH[1] + V[c+1,f,t+1]*c_pL[1]*f_pH[0] + V[c,f+1,t+1]*c_pL[0]*f_pH[1] + V[c,f,t+1]*c_pL[0]*f_pH[0]\n",
        "              EtomLL = V[c+1,f+1,t+1]*c_pL[1]*f_pL[1] + V[c+1,f,t+1]*c_pL[1]*f_pL[0] + V[c,f+1,t+1]*c_pL[0]*f_pL[1] + V[c,f,t+1]*c_pL[0]*f_pL[0]\n",
        "\n",
        "              # value function = expected revenue today + discounted expected value function next time\n",
        "              valueHH = ErevHH + delta*EtomHH\n",
        "              valueHL = ErevHL + delta*EtomHL\n",
        "              valueLH = ErevLH + delta*EtomLH\n",
        "              valueLL = ErevLL + delta*EtomLL\n",
        "              \n",
        "\n",
        "              V[c,f,t]=max(valueHH,valueHL,valueLH,valueLL) # value funciton maximizes expected revenue\n",
        "              index = np.argmax([valueHH,valueHL,valueLH,valueLL])+1\n",
        "              \n",
        "              ## choice of price: 1 means low price, 2 means high price, 0 means not sold\n",
        "              if index == 1:\n",
        "                U_c[c,f,t] = 2\n",
        "                U_f[c,f,t] = 2\n",
        "              elif index == 2:\n",
        "                U_c[c,f,t] = 2\n",
        "                U_f[c,f,t] = 1\n",
        "              elif index == 3:\n",
        "                U_c[c,f,t] = 1\n",
        "                U_f[c,f,t] = 2\n",
        "              elif index == 4:\n",
        "                U_c[c,f,t] = 1\n",
        "                U_f[c,f,t] = 1\n",
        "\n",
        "  return V, U_c, U_f, V[0,0,0] # Value matrix, Coach Decision matrix, first clas decision matrix, and discounted value today."
      ]
    },
    {
      "cell_type": "code",
      "execution_count": 4,
      "metadata": {
        "id": "nEujj-kOCHN-"
      },
      "outputs": [],
      "source": [
        "V, U_c, U_f, profit_ob5 = get_overbook(seats=5) # Solve the problem, with 5 overbooking seats allowed"
      ]
    },
    {
      "cell_type": "code",
      "execution_count": 5,
      "metadata": {
        "colab": {
          "base_uri": "https://localhost:8080/"
        },
        "id": "a7Nmu-bAtKE3",
        "outputId": "c80b6bd5-e156-49c5-e3bb-e7177f6f45f4"
      },
      "outputs": [
        {
          "name": "stdout",
          "output_type": "stream",
          "text": [
            "The current expected discounted profit of allowing 5 seats overbooked is 42,242.86\n"
          ]
        }
      ],
      "source": [
        "print(f\"The current expected discounted profit of allowing 5 seats overbooked is {profit_ob5:,.2F}\")"
      ]
    },
    {
      "cell_type": "markdown",
      "metadata": {
        "id": "BNIIDpyIo90X"
      },
      "source": [
        "## Question 2\n",
        "\n",
        "We will now follow the same approach as above, but we would like to explore how the expected present value changes based on different policies that allow us to overbook coach tickets by an increasing number of seats. "
      ]
    },
    {
      "cell_type": "code",
      "execution_count": 6,
      "metadata": {
        "colab": {
          "base_uri": "https://localhost:8080/"
        },
        "id": "qxgBcXKgCHci",
        "outputId": "a0ef78c1-339b-49d7-ea8b-28da93532b55"
      },
      "outputs": [
        {
          "name": "stdout",
          "output_type": "stream",
          "text": [
            "The discounted profit of allowing 6 seats overbooked is 42,368.87\n",
            "The discounted profit of allowing 7 seats overbooked is 42,444.24\n",
            "The discounted profit of allowing 8 seats overbooked is 42,482.21\n",
            "The discounted profit of allowing 9 seats overbooked is 42,496.11\n",
            "The discounted profit of allowing 10 seats overbooked is 42,495.97\n",
            "The discounted profit of allowing 11 seats overbooked is 42,488.26\n",
            "The discounted profit of allowing 12 seats overbooked is 42,477.00\n",
            "The discounted profit of allowing 13 seats overbooked is 42,464.60\n",
            "The discounted profit of allowing 14 seats overbooked is 42,452.36\n",
            "The discounted profit of allowing 15 seats overbooked is 42,440.94\n"
          ]
        }
      ],
      "source": [
        "profits = [profit_ob5] # Create a list to store profits and add in the value calculated above for 5.\n",
        "\n",
        "for i in range(6,16):\n",
        "  profit = get_overbook(seats=i)[3] # Profit is the fourth returned value in that Tuple\n",
        "  print(f\"The discounted profit of allowing {i} seats overbooked is {profit:,.2F}\")\n",
        "  profits.append(profit)"
      ]
    },
    {
      "cell_type": "code",
      "execution_count": 7,
      "metadata": {
        "colab": {
          "base_uri": "https://localhost:8080/"
        },
        "id": "q9i4u50Pvyin",
        "outputId": "797581df-c805-40f6-94e8-dd69b71e5cd8"
      },
      "outputs": [
        {
          "name": "stdout",
          "output_type": "stream",
          "text": [
            "The best strategy is to overbook by 9 seats which provides and expected discounted profit of 42496.11230437858.\n"
          ]
        }
      ],
      "source": [
        "max_profit = max(profits)\n",
        "optimal_seats = np.argmax(profits)+5\n",
        "print(f'The best strategy is to overbook by {optimal_seats} seats which provides and expected discounted profit of {max_profit}.')\n"
      ]
    },
    {
      "cell_type": "code",
      "execution_count": 8,
      "metadata": {
        "colab": {
          "base_uri": "https://localhost:8080/",
          "height": 301
        },
        "id": "vNRGGBpWsTfN",
        "outputId": "e8abc2f9-29b3-46f6-86ba-336a06d4531c"
      },
      "outputs": [
        {
          "name": "stderr",
          "output_type": "stream",
          "text": [
            "C:\\Users\\User\\AppData\\Local\\Temp\\ipykernel_4972\\1696372957.py:7: UserWarning: FixedFormatter should only be used together with FixedLocator\n",
            "  plt.gca().set_yticklabels(['{:,.0f}'.format(x) for x in plt.gca().get_yticks()])\n"
          ]
        },
        {
          "data": {
            "image/png": "[encoded data removed]",
            "text/plain": [
              "<Figure size 432x288 with 1 Axes>"
            ]
          },
          "metadata": {
            "needs_background": "light"
          },
          "output_type": "display_data"
        }
      ],
      "source": [
        "fix, ax = plt.subplots()\n",
        "plt.plot(range(5,16),profits)\n",
        "plt.title('Present Value of Expected Profit by Overbooking Strategy')\n",
        "plt.xlabel('Seats Overbooked')\n",
        "plt.ylabel('Profit')\n",
        "ax.scatter(optimal_seats,max_profit,c='red',lw=15,label=f'Maximum Profit Point')\n",
        "plt.gca().set_yticklabels(['{:,.0f}'.format(x) for x in plt.gca().get_yticks()])\n",
        "plt.legend();"
      ]
    },
    {
      "cell_type": "markdown",
      "metadata": {
        "id": "zTrEk052r2tz"
      },
      "source": [
        "## Question 3\n",
        "\n",
        "Finally, we consider another third policy approach. In this policy, we allow coach tickets to be overbooked by 20 seats, but we also provide another decision possibility. To not offer coach seats for sale entirely."
      ]
    },
    {
      "cell_type": "code",
      "execution_count": 9,
      "metadata": {
        "id": "-HNVEakP1Rca"
      },
      "outputs": [],
      "source": [
        "overbook = 20 # seat can be overbooked\n",
        "c_M1 = cap + overbook # number of seats allowed to be sold for coach ticket\n",
        "cValues = np.arange(c_M1+1) # all possible number of seats left in coach\n",
        "cN = len(cValues) # count possible state values\n",
        "\n",
        "V_120 = np.zeros((cN,fN,tN)) # initialize value function\n",
        "U_c_120 = np.zeros((cN,fN,tN)) # initialize optimal choice variable - coach\n",
        "U_f_120 = np.zeros((cN,fN,tN)) # initialize optimal choice variable - first class"
      ]
    },
    {
      "cell_type": "code",
      "execution_count": 10,
      "metadata": {
        "id": "wga8w_zR1dBD"
      },
      "outputs": [],
      "source": [
        "## boundary/terminal condition\n",
        "for i in range(cN):\n",
        "  for j in range(fN):\n",
        "    ## sell less or equal than 100 coach tickets\n",
        "    if i <= cap:\n",
        "      V_120[i,j,tN-1] = 0\n",
        "    ## sell more than 100 coach tickets\n",
        "    else:\n",
        "      ## adding up all the possibilities of showing up can come up with expected cost\n",
        "      cost = 0\n",
        "      for m in range(i+1):\n",
        "        for n in range(j+1):\n",
        "          if m <= cap:\n",
        "            cost += 0\n",
        "          else:\n",
        "            overbook = m - cap \n",
        "            firstleft = f_M1 - n\n",
        "            diff = overbook - firstleft\n",
        "            if diff <= 0:\n",
        "              cost += cost_f*overbook*binom.pmf(m, i, c_p_SU)*binom.pmf(n, j, f_p_SU)\n",
        "            else:\n",
        "              cost += (cost_f*firstleft+cost_o*diff)*binom.pmf(m, i, c_p_SU)*binom.pmf(n, j, f_p_SU)\n",
        "      V_120[i,j,tN-1] = -cost  "
      ]
    },
    {
      "cell_type": "code",
      "execution_count": 11,
      "metadata": {
        "id": "VNREX3KC1dBD"
      },
      "outputs": [],
      "source": [
        "for t in reversed(range(tN-1)):\n",
        "    for c in range(cN):\n",
        "        for f in range(fN):\n",
        "\n",
        "          ## coach class and first class both sold out\n",
        "          if c ==  c_M1 and f == f_M1: # is the flight full (0 seats left)\n",
        "              V_120[c,f,t] = delta*V_120[c,f,t+1] # if so, you can't make any more money, the same with later period\n",
        "              U_c_120[c,f,t] = 0 # no tickets for sale\n",
        "              U_f_120[c,f,t] = 0 # no tickets for sale\n",
        "\n",
        "          ## only coach class sold out\n",
        "          elif c == c_M1:\n",
        "              ## expected revenue today for both two possible price combination in first class\n",
        "              ErevH_f = f_priceH*f_pH[1] + 0*f_pH[0]\n",
        "              ErevL_f = f_priceL*f_pL[1] + 0*f_pL[0]\n",
        "              \n",
        "              ## tomorrow's expected value\n",
        "              EtomH_f = V_120[c,f+1,t+1]*f_pH[1] + V_120[c,f,t+1]*f_pH[0]\n",
        "              EtomL_f = V_120[c,f+1,t+1]*f_pL[1] + V_120[c,f,t+1]*f_pL[0]\n",
        "\n",
        "              # value function = expected revenue today + discounted expected value function next time\n",
        "              valueH_f = ErevH_f + delta*EtomH_f\n",
        "              valueL_f = ErevL_f + delta*EtomL_f\n",
        "\n",
        "              V_120[c,f,t]=max(valueH_f,valueL_f)\n",
        "              index_f = np.argmax([valueH_f,valueL_f])+1\n",
        "\n",
        "              ## choice of price: 1 means low price, 2 means high price, 0 means not sold\n",
        "              U_c_120[c,f,t] = 0\n",
        "              if index_f  == 1:\n",
        "                U_f_120[c,f,t] = 2\n",
        "              elif index_f == 2:\n",
        "                U_f_120[c,f,t] = 1\n",
        "\n",
        "          ## only first class sold out\n",
        "          elif f == f_M1:\n",
        "              ErevH_c = c_priceH*c_pH[1] + 0*c_pH[0]\n",
        "              ErevL_c = c_priceL*c_pL[1] + 0*c_pL[0]\n",
        "              Erev0_c = 0\n",
        "              \n",
        "              ## tomorrow's expected value\n",
        "              EtomH_c = V_120[c+1,f,t+1]*c_pH[1] + V_120[c,f,t+1]*c_pH[0]\n",
        "              EtomL_c = V_120[c+1,f,t+1]*c_pL[1] + V_120[c,f,t+1]*c_pL[0]\n",
        "              Etom0_c = V_120[c,f,t+1]*1\n",
        "\n",
        "\n",
        "              # value function = expected revenue today + discounted expected value function next time\n",
        "              valueH_c = ErevH_c + delta*EtomH_c\n",
        "              valueL_c = ErevL_c + delta*EtomL_c\n",
        "              value0_c = Erev0_c + delta*Etom0_c\n",
        "\n",
        "              V_120[c,f,t]=max(valueH_c,valueL_c,value0_c)\n",
        "              index_c = np.argmax([valueH_c,valueL_c,value0_c])+1\n",
        "\n",
        "              ## choice of price: 1 means low price, 2 means high price, 0 means not sold\n",
        "              U_f_120[c,f,t] = 0\n",
        "              if index_c  == 1:\n",
        "                U_c_120[c,f,t] = 2\n",
        "              elif index_c == 2:\n",
        "                U_c_120[c,f,t] = 1\n",
        "              elif index_c == 3:\n",
        "                U_c_120[c,f,t] = 3\n",
        "              \n",
        "\n",
        "          ## both available for sale\n",
        "          else:\n",
        "              ## expected revenue today for all six possible price combination\n",
        "              ErevHH = (c_priceH+f_priceH)*c_pH[1]*f_pH[1] + (c_priceH)*c_pH[1]*f_pH[0] + (f_priceH)*c_pH[0]*f_pH[1] + 0*c_pH[0]*f_pH[0]\n",
        "              ErevHL = (c_priceH+f_priceL)*c_pH[1]*f_pL[1] + (c_priceH)*c_pH[1]*f_pL[0] + (f_priceL)*c_pH[0]*f_pL[1] + 0*c_pH[0]*f_pL[0]\n",
        "              ErevLH = (c_priceL+f_priceH)*c_pL[1]*f_pH[1] + (c_priceL)*c_pL[1]*f_pH[0] + (f_priceH)*c_pL[0]*f_pH[1] + 0*c_pL[0]*f_pH[0]\n",
        "              ErevLL = (c_priceL+f_priceL)*c_pL[1]*f_pL[1] + (c_priceL)*c_pL[1]*f_pL[0] + (f_priceL)*c_pL[0]*f_pL[1] + 0*c_pL[0]*f_pL[0]\n",
        "              Erev0H = (0+f_priceH)*f_pH[1] + 0*f_pH[0] \n",
        "              Erev0L = (0+f_priceL)*f_pL[1] + 0*f_pL[0]\n",
        "\n",
        "              ## tomorrow's expected value\n",
        "              EtomHH = V_120[c+1,f+1,t+1]*c_pH[1]*f_pH[1] + V_120[c+1,f,t+1]*c_pH[1]*f_pH[0] + V_120[c,f+1,t+1]*c_pH[0]*f_pH[1] + V_120[c,f,t+1]*c_pH[0]*f_pH[0]\n",
        "              EtomHL = V_120[c+1,f+1,t+1]*c_pH[1]*f_pL[1] + V_120[c+1,f,t+1]*c_pH[1]*f_pL[0] + V_120[c,f+1,t+1]*c_pH[0]*f_pL[1] + V_120[c,f,t+1]*c_pH[0]*f_pL[0]\n",
        "              EtomLH = V_120[c+1,f+1,t+1]*c_pL[1]*f_pH[1] + V_120[c+1,f,t+1]*c_pL[1]*f_pH[0] + V_120[c,f+1,t+1]*c_pL[0]*f_pH[1] + V_120[c,f,t+1]*c_pL[0]*f_pH[0]\n",
        "              EtomLL = V_120[c+1,f+1,t+1]*c_pL[1]*f_pL[1] + V_120[c+1,f,t+1]*c_pL[1]*f_pL[0] + V_120[c,f+1,t+1]*c_pL[0]*f_pL[1] + V_120[c,f,t+1]*c_pL[0]*f_pL[0]\n",
        "              Etom0H = V_120[c,f+1,t+1]*f_pH[1] + V_120[c,f,t+1]*f_pH[0]\n",
        "              Etom0L = V_120[c,f+1,t+1]*f_pL[1] + V_120[c,f,t+1]*f_pL[0]\n",
        "\n",
        "              # value function = expected revenue today + discounted expected value function next time\n",
        "              valueHH = ErevHH + delta*EtomHH\n",
        "              valueHL = ErevHL + delta*EtomHL\n",
        "              valueLH = ErevLH + delta*EtomLH\n",
        "              valueLL = ErevLL + delta*EtomLL\n",
        "              value0H = Erev0H + delta*Etom0H\n",
        "              value0L = Erev0L + delta*Etom0L\n",
        "              \n",
        "\n",
        "              V_120[c,f,t]=max(valueHH,valueHL,valueLH,valueLL,value0H,value0L) # value funciton maximizes expected revenue\n",
        "              index = np.argmax([valueHH,valueHL,valueLH,valueLL,value0H,value0L])+1\n",
        "              \n",
        "              ## choice of price: 1 means low price, 2 means high price, 0 means not sold\n",
        "              if index == 1:\n",
        "                U_c_120[c,f,t] = 2\n",
        "                U_f_120[c,f,t] = 2\n",
        "              elif index == 2:\n",
        "                U_c_120[c,f,t] = 2\n",
        "                U_f_120[c,f,t] = 1\n",
        "              elif index == 3:\n",
        "                U_c_120[c,f,t] = 1\n",
        "                U_f_120[c,f,t] = 2\n",
        "              elif index == 4:\n",
        "                U_c_120[c,f,t] = 1\n",
        "                U_f_120[c,f,t] = 1\n",
        "              elif index == 5:\n",
        "                U_c_120[c,f,t] = 3\n",
        "                U_f_120[c,f,t] = 2\n",
        "              elif index == 6:\n",
        "                U_c_120[c,f,t] = 3\n",
        "                U_f_120[c,f,t] = 1\n"
      ]
    },
    {
      "cell_type": "code",
      "execution_count": 12,
      "metadata": {
        "colab": {
          "base_uri": "https://localhost:8080/"
        },
        "id": "jnwt1vkCoFFv",
        "outputId": "d12c1365-f3de-4daf-d01b-e54ee9425b8c"
      },
      "outputs": [
        {
          "name": "stdout",
          "output_type": "stream",
          "text": [
            "Discounted profit of this policy is: 42,502.67\n"
          ]
        }
      ],
      "source": [
        "print(f'Discounted profit of this policy is: {V_120[0,0,0]:,.2F}')"
      ]
    },
    {
      "cell_type": "markdown",
      "metadata": {
        "id": "UImtXl68BebE"
      },
      "source": [
        "We can see that this profit is higher than the maximum profit on the previous approach."
      ]
    },
    {
      "cell_type": "markdown",
      "metadata": {
        "id": "4N3mJ2AmCIAN"
      },
      "source": [
        "## Question 4: Simulating Scenarios\n",
        "\n",
        "Now we would like to simulate events using the two optimal decision methods above:\n",
        "\n",
        "* Method 1: Seats, must be offered for sale every day if it is not sold out and the max allowable overbooking for coach is 9 seats.\n",
        "* Method 2: Coach seats can be withheld from sale for a given day and the amaximum allowable overbooking is 20 seats."
      ]
    },
    {
      "cell_type": "markdown",
      "metadata": {
        "id": "P3LVBC5emrwF"
      },
      "source": [
        "### Simulating Results of using Optimal Policy for Method 1"
      ]
    },
    {
      "cell_type": "code",
      "execution_count": 13,
      "metadata": {
        "id": "aquBTJ8VmrsF"
      },
      "outputs": [],
      "source": [
        "sim_count = 100_000 # Number of simulations for each policy\n",
        "rng = np.random.default_rng() # This object is used for generating random numbers below"
      ]
    },
    {
      "cell_type": "markdown",
      "metadata": {
        "id": "iR5L6PaGHZfN"
      },
      "source": [
        "Below, we create two helper functions:"
      ]
    },
    {
      "cell_type": "code",
      "execution_count": 14,
      "metadata": {
        "id": "CraCewnsmro5"
      },
      "outputs": [],
      "source": [
        "def get_overbooking_cost(coach_people:int,fclass_people:int) -> float:\n",
        "    \"\"\"Send in the amount of coach people and fclass people that showed up the flight and this will return the dollar cost.\"\"\"\n",
        "\n",
        "    if coach_people <= cap:\n",
        "        return 0 # No cost if less people show up than seats available\n",
        "    overbooked = coach_people - cap\n",
        "    fclass_left = 20-fclass_people\n",
        "\n",
        "    diff = overbooked - fclass_left\n",
        "    if diff > 0:\n",
        "        cost = diff*cost_o + fclass_left*cost_f\n",
        "    else:\n",
        "        cost = cost_f*overbooked\n",
        "    return -cost\n",
        "\n",
        "def simulate_policy(U_c,U_f):\n",
        "\n",
        "    # Start out with a blank slate\n",
        "    coach_sold = 0\n",
        "    fclass_sold = 0\n",
        "    total_discounted_rev = 0\n",
        "\n",
        "    # Loop through each day and decide on the decision that would be made for that day regarding pricing.\n",
        "    # Then, simulate if sales occurred\n",
        "    for time in range(tN-1): # We only need to simulate through day 364\n",
        "        coach_decision = U_c[coach_sold,fclass_sold,time]\n",
        "        fclass_decision = U_f[coach_sold,fclass_sold,time]\n",
        "\n",
        "        # Figure out the price to charge and the prob of sale for coach\n",
        "        if coach_decision == 1: # Low Price\n",
        "            coach_price = c_priceL\n",
        "            coach_prob = c_pL[1]\n",
        "        elif coach_decision == 2: # High Price\n",
        "            coach_price = c_priceH\n",
        "            coach_prob = c_pH[1]\n",
        "        else: # No sale is offered, but we can just set the prob of sale equal to 0 to get same result\n",
        "            coach_price = 0\n",
        "            coach_prob = 0\n",
        "\n",
        "        # Figure out the price to charge and the prob of sale for fclass\n",
        "        if fclass_decision == 1:\n",
        "            fclass_price = f_priceL\n",
        "            fclass_prob = f_pL[1]\n",
        "        elif fclass_decision == 2:\n",
        "            fclass_price = f_priceH\n",
        "            fclass_prob = f_pH[1]\n",
        "        else: # No sale is offered, but we can just set the prob of sale equal to 0 to get same result\n",
        "            fclass_price = 0\n",
        "            fclass_prob = 0\n",
        "\n",
        "        # Simulate the sales\n",
        "        coach_sale = int(np.random.random() < coach_prob) # This will be a 1 if sale. 0 otherwise\n",
        "        fclass_sale = int(np.random.random() < fclass_prob) # This will be a 1 if sale. 0 otherwise\n",
        "\n",
        "        coach_sold += coach_sale\n",
        "        fclass_sold += fclass_sale\n",
        "\n",
        "        total_discounted_rev += (coach_price*coach_sale + fclass_price*fclass_sale)*delta**time\n",
        "        \n",
        "\n",
        "    return coach_sold, fclass_sold, total_discounted_rev\n"
      ]
    },
    {
      "cell_type": "markdown",
      "metadata": {
        "id": "Kxc29RK1HiNa"
      },
      "source": [
        "Now we can simulated the first policy. We first create several arrays to store the results of each simulation, then we beging the simulation. We will loop through time for each simulation and examine a possible sequence of events."
      ]
    },
    {
      "cell_type": "code",
      "execution_count": 15,
      "metadata": {
        "id": "6bL5sqP8qv1A"
      },
      "outputs": [],
      "source": [
        "V_9, U_c_9, U_f_9, V009 = get_overbook(9) # Get the decision matrices\n",
        "\n",
        "# Set up some arrays that we can use to store some of the important final results of each simulation. \n",
        "coach_arrived_m1 = np.zeros(sim_count) # How many coach people showed up\n",
        "fclass_arrived_m1 = np.zeros(sim_count) # How many first class passengers showed up\n",
        "overbooking_costs_m1 = np.zeros(sim_count) # How much did the overbooking cost us\n",
        "expected_cost_m1 = np.zeros(sim_count)\n",
        "\n",
        "total_coach_solds_m1 = np.zeros(sim_count) # How many coach seats were sold\n",
        "total_fclass_solds_m1 = np.zeros(sim_count) # How many first class seats were sold\n",
        "discounted_revs_m1 = np.zeros(sim_count) # What was our total discounted rev"
      ]
    },
    {
      "cell_type": "code",
      "execution_count": 16,
      "metadata": {
        "id": "FDRAqdvFqn8R"
      },
      "outputs": [],
      "source": [
        "# This cell will take 1 minute to run probably.\n",
        "for sim in range(sim_count):\n",
        "    coach_sold, fclass_sold, total_discounted_rev = simulate_policy(U_c_9, U_f_9)\n",
        "\n",
        "    total_coach_solds_m1[sim] = coach_sold\n",
        "    total_fclass_solds_m1[sim] = fclass_sold\n",
        "    discounted_revs_m1[sim] = total_discounted_rev\n",
        "\n",
        "    fclass_arrived_m1[sim] = rng.binomial(fclass_sold,f_p_SU) # Simulate how many people may show up to first class\n",
        "    coach_arrived_m1[sim] = rng.binomial(coach_sold,c_p_SU) # Simulate how many people may show up to coach\n",
        "    overbooking_costs_m1[sim] = get_overbooking_cost(coach_arrived_m1[sim],fclass_arrived_m1[sim]) # Store the cost\n",
        "\n",
        "    expected_cost_m1[sim] = V_9[coach_sold,fclass_sold,-1]\n",
        "\n",
        "discounted_overbooking_cost_m1 = overbooking_costs_m1*delta**365 \n",
        "discounted_e_overbooking_cost_m1 = expected_cost_m1*delta**365 \n",
        "profits_m1 = discounted_revs_m1 + discounted_overbooking_cost_m1"
      ]
    },
    {
      "cell_type": "markdown",
      "metadata": {
        "id": "_pcU2WugVQ-y"
      },
      "source": [
        "#### Graphical Summary of Simulation"
      ]
    },
    {
      "cell_type": "markdown",
      "metadata": {
        "id": "Hr4gUZlvVeGy"
      },
      "source": [
        "How often is coach overbooked?"
      ]
    },
    {
      "cell_type": "code",
      "execution_count": 17,
      "metadata": {
        "colab": {
          "base_uri": "https://localhost:8080/"
        },
        "id": "wBBBe4LjVt66",
        "outputId": "5827c775-e8e4-4d9b-e878-60ebca55788f"
      },
      "outputs": [
        {
          "data": {
            "text/plain": [
              "1.0"
            ]
          },
          "execution_count": 17,
          "metadata": {},
          "output_type": "execute_result"
        }
      ],
      "source": [
        "sum(total_coach_solds_m1 > cap)/sim_count # as a percent of total simulations"
      ]
    },
    {
      "cell_type": "code",
      "execution_count": 18,
      "metadata": {
        "colab": {
          "base_uri": "https://localhost:8080/",
          "height": 284
        },
        "id": "_JjVJexzXvfU",
        "outputId": "fb9a524c-1b40-442a-d0f2-54399d588500"
      },
      "outputs": [
        {
          "data": {
            "image/png": "[encoded data removed]",
            "text/plain": [
              "<Figure size 432x288 with 1 Axes>"
            ]
          },
          "metadata": {
            "needs_background": "light"
          },
          "output_type": "display_data"
        }
      ],
      "source": [
        "plt.hist(total_coach_solds_m1,density=True) \n",
        "plt.title('Number of coach Seats Sold - Method 1');"
      ]
    },
    {
      "cell_type": "markdown",
      "metadata": {
        "id": "PDQtVK4FYwGq"
      },
      "source": [
        "How often are passengers kicked off plane?"
      ]
    },
    {
      "cell_type": "code",
      "execution_count": 19,
      "metadata": {
        "id": "ZFleUv84gUM5"
      },
      "outputs": [],
      "source": [
        "excess_fclass = (f_M1-fclass_arrived_m1)\n",
        "passengers_kicked_off = np.maximum(coach_arrived_m1 - excess_fclass -  cap,0)"
      ]
    },
    {
      "cell_type": "code",
      "execution_count": 20,
      "metadata": {
        "colab": {
          "base_uri": "https://localhost:8080/"
        },
        "id": "yTheiTK72k-a",
        "outputId": "b760f7b1-21e9-43dc-dd31-1924273dd8b2"
      },
      "outputs": [
        {
          "data": {
            "text/plain": [
              "0.68905"
            ]
          },
          "execution_count": 20,
          "metadata": {},
          "output_type": "execute_result"
        }
      ],
      "source": [
        "sum(passengers_kicked_off > 0)/sim_count"
      ]
    },
    {
      "cell_type": "code",
      "execution_count": 21,
      "metadata": {
        "colab": {
          "base_uri": "https://localhost:8080/",
          "height": 301
        },
        "id": "o57o-CyFhpEG",
        "outputId": "0f6024b2-aecf-4793-d26b-3fc557e0303d"
      },
      "outputs": [
        {
          "data": {
            "image/png": "[encoded data removed]",
            "text/plain": [
              "<Figure size 432x288 with 1 Axes>"
            ]
          },
          "metadata": {
            "needs_background": "light"
          },
          "output_type": "display_data"
        }
      ],
      "source": [
        "plt.hist(passengers_kicked_off,density=True)\n",
        "plt.xlabel('Passengers Kicked')\n",
        "plt.title('Number of Passengers Kicked Off - Method 1');"
      ]
    },
    {
      "cell_type": "markdown",
      "metadata": {
        "id": "Tz4sgzxKZZZt"
      },
      "source": [
        "What is the average overbooking cost?"
      ]
    },
    {
      "cell_type": "code",
      "execution_count": 22,
      "metadata": {
        "colab": {
          "base_uri": "https://localhost:8080/"
        },
        "id": "Qo9iK7poYwNq",
        "outputId": "3d274089-4af8-4c04-9e80-33317b5bca1f"
      },
      "outputs": [
        {
          "data": {
            "text/plain": [
              "-958.146"
            ]
          },
          "execution_count": 22,
          "metadata": {},
          "output_type": "execute_result"
        }
      ],
      "source": [
        "mean_cost = np.mean(overbooking_costs_m1)\n",
        "mean_cost"
      ]
    },
    {
      "cell_type": "code",
      "execution_count": 23,
      "metadata": {
        "colab": {
          "base_uri": "https://localhost:8080/",
          "height": 301
        },
        "id": "yQV8rrwyYwKS",
        "outputId": "60261c97-4587-44dd-e3b7-a4176ecc8679"
      },
      "outputs": [
        {
          "name": "stderr",
          "output_type": "stream",
          "text": [
            "C:\\Users\\User\\AppData\\Local\\Temp\\ipykernel_4972\\1640241648.py:5: UserWarning: FixedFormatter should only be used together with FixedLocator\n",
            "  plt.gca().set_xticklabels(['{:,.0f}'.format(x) for x in plt.gca().get_xticks()])\n"
          ]
        },
        {
          "data": {
            "image/png": "[encoded data removed]",
            "text/plain": [
              "<Figure size 432x288 with 1 Axes>"
            ]
          },
          "metadata": {
            "needs_background": "light"
          },
          "output_type": "display_data"
        }
      ],
      "source": [
        "plt.hist(overbooking_costs_m1)\n",
        "plt.axvline(x=mean_cost,c='r',label=f'Mean = {mean_cost:,.2f}')\n",
        "plt.legend()\n",
        "plt.xlabel('Cost')\n",
        "plt.gca().set_xticklabels(['{:,.0f}'.format(x) for x in plt.gca().get_xticks()])\n",
        "plt.title('Overbooking Costs - Method 1');"
      ]
    },
    {
      "cell_type": "markdown",
      "metadata": {
        "id": "pjbj22IdYwBx"
      },
      "source": [
        "What is the volatility of\n",
        "discounted profits?"
      ]
    },
    {
      "cell_type": "code",
      "execution_count": 24,
      "metadata": {
        "colab": {
          "base_uri": "https://localhost:8080/"
        },
        "id": "Wx6u3-n8ftfP",
        "outputId": "45fa4f4d-5397-4353-e77a-56831e60bc42"
      },
      "outputs": [
        {
          "name": "stdout",
          "output_type": "stream",
          "text": [
            "Expected Discounted Profit Mean = 42,496.90\n",
            "Profit Voaltility = 941.95\n"
          ]
        }
      ],
      "source": [
        "profit_mean = profits_m1.mean()\n",
        "print(f'Expected Discounted Profit Mean = {profit_mean:,.2f}')\n",
        "profit_std = profits_m1.std()\n",
        "print(f'Profit Voaltility = {profit_std:,.2f}')"
      ]
    },
    {
      "cell_type": "code",
      "execution_count": 25,
      "metadata": {
        "colab": {
          "base_uri": "https://localhost:8080/",
          "height": 284
        },
        "id": "cKn0-QvJf7b2",
        "outputId": "f32a2ddd-65c7-497a-b318-1d022b00f748"
      },
      "outputs": [
        {
          "name": "stderr",
          "output_type": "stream",
          "text": [
            "C:\\Users\\User\\AppData\\Local\\Temp\\ipykernel_4972\\1143159164.py:4: UserWarning: FixedFormatter should only be used together with FixedLocator\n",
            "  plt.gca().set_xticklabels(['{:,.0f}'.format(x) for x in plt.gca().get_xticks()])\n"
          ]
        },
        {
          "data": {
            "image/png": "[encoded data removed]",
            "text/plain": [
              "<Figure size 432x288 with 1 Axes>"
            ]
          },
          "metadata": {
            "needs_background": "light"
          },
          "output_type": "display_data"
        }
      ],
      "source": [
        "sns.histplot(data=profits_m1,kde=True)\n",
        "plt.axvline(x=profit_mean,c='r',label=f'Mean = ${profit_mean:,.0f}')\n",
        "plt.legend()\n",
        "plt.gca().set_xticklabels(['{:,.0f}'.format(x) for x in plt.gca().get_xticks()])\n",
        "plt.title('Discounted Profits - Method 1');"
      ]
    },
    {
      "cell_type": "code",
      "execution_count": null,
      "metadata": {
        "id": "QeeI9wPJw5zL"
      },
      "outputs": [],
      "source": []
    },
    {
      "cell_type": "code",
      "execution_count": null,
      "metadata": {
        "id": "VfMgYsOJ6MYI"
      },
      "outputs": [],
      "source": []
    },
    {
      "cell_type": "markdown",
      "metadata": {
        "id": "k8d1qmpX6MUP"
      },
      "source": [
        "### Policy 2:\n",
        "We will use decision matrices that were set in question 3."
      ]
    },
    {
      "cell_type": "code",
      "execution_count": null,
      "metadata": {
        "id": "BE_-TT1S6MPi"
      },
      "outputs": [],
      "source": []
    },
    {
      "cell_type": "code",
      "execution_count": 26,
      "metadata": {
        "id": "DjYkY5r8vMux"
      },
      "outputs": [],
      "source": [
        "# Set up some arrays that we can use to store some of the important final results of each simulation. \n",
        "coach_arrived_m2 = np.zeros(sim_count) # How many coach people showed up\n",
        "fclass_arrived_m2 = np.zeros(sim_count) # How many first class passengers showed up\n",
        "overbooking_costs_m2 = np.zeros(sim_count) # How much did the overbooking cost us\n",
        "expected_cost_m2 = np.zeros(sim_count)\n",
        "\n",
        "total_coach_solds_m2 = np.zeros(sim_count) # How many coach seats were sold\n",
        "total_fclass_solds_m2 = np.zeros(sim_count) # How many first class seats were sold\n",
        "discounted_revs_m2 = np.zeros(sim_count) # What was our total discounted rev"
      ]
    },
    {
      "cell_type": "code",
      "execution_count": 27,
      "metadata": {
        "id": "KJhqsIbLvMuz"
      },
      "outputs": [],
      "source": [
        "# This cell will take 1 minute to run probably.\n",
        "for sim in range(sim_count):\n",
        "    coach_sold, fclass_sold, total_discounted_rev = simulate_policy(U_c_120, U_f_120)\n",
        "\n",
        "    total_coach_solds_m2[sim] = coach_sold\n",
        "    total_fclass_solds_m2[sim] = fclass_sold\n",
        "    discounted_revs_m2[sim] = total_discounted_rev\n",
        "\n",
        "    fclass_arrived_m2[sim] = rng.binomial(fclass_sold,f_p_SU) # Simulate how many people may show up to first class\n",
        "    coach_arrived_m2[sim] = rng.binomial(coach_sold,c_p_SU) # Simulate how many people may show up to coach\n",
        "    overbooking_costs_m2[sim] = get_overbooking_cost(coach_arrived_m2[sim],fclass_arrived_m2[sim]) # Store the cost\n",
        "    expected_cost_m2[sim] = V_120[coach_sold,fclass_sold,-1]\n",
        "\n",
        "discounted_overbooking_cost_m2 = overbooking_costs_m2*delta**365 \n",
        "discounted_e_overbooking_cost_m2 = expected_cost_m2*delta**365 \n",
        "\n",
        "profits_m2 = discounted_revs_m2 + discounted_overbooking_cost_m2"
      ]
    },
    {
      "cell_type": "markdown",
      "metadata": {
        "id": "0jNAO4FJL534"
      },
      "source": [
        "#### Graphical Summary of Simulation"
      ]
    },
    {
      "cell_type": "markdown",
      "metadata": {
        "id": "TUiJKPMYL534"
      },
      "source": [
        "How often is coach overbooked?"
      ]
    },
    {
      "cell_type": "code",
      "execution_count": 28,
      "metadata": {
        "colab": {
          "base_uri": "https://localhost:8080/"
        },
        "id": "faNI2qkWL535",
        "outputId": "0decb623-5c41-4551-9ba4-abc35b8df43c"
      },
      "outputs": [
        {
          "data": {
            "text/plain": [
              "1.0"
            ]
          },
          "execution_count": 28,
          "metadata": {},
          "output_type": "execute_result"
        }
      ],
      "source": [
        "sum(total_coach_solds_m2 > cap)/sim_count # as a percent of total simulations"
      ]
    },
    {
      "cell_type": "code",
      "execution_count": 29,
      "metadata": {
        "colab": {
          "base_uri": "https://localhost:8080/",
          "height": 284
        },
        "id": "_t2yTHv7L535",
        "outputId": "75efb88b-1b20-40b9-bb92-808be6783e4e"
      },
      "outputs": [
        {
          "data": {
            "image/png": "[encoded data removed]",
            "text/plain": [
              "<Figure size 432x288 with 1 Axes>"
            ]
          },
          "metadata": {
            "needs_background": "light"
          },
          "output_type": "display_data"
        }
      ],
      "source": [
        "plt.hist(total_coach_solds_m2,density=True) # Why is this plot now lookign weird\n",
        "plt.title('Number of coach Seats Sold - Method 2');"
      ]
    },
    {
      "cell_type": "markdown",
      "metadata": {
        "id": "4M3jUPfDL536"
      },
      "source": [
        "How often are passengers kicked off plane?"
      ]
    },
    {
      "cell_type": "code",
      "execution_count": 30,
      "metadata": {
        "id": "EOAfut05L536"
      },
      "outputs": [],
      "source": [
        "excess_fclass = (f_M1-fclass_arrived_m2)\n",
        "passengers_kicked_off = np.maximum(coach_arrived_m2 - excess_fclass -  cap,0)"
      ]
    },
    {
      "cell_type": "code",
      "execution_count": 31,
      "metadata": {
        "colab": {
          "base_uri": "https://localhost:8080/"
        },
        "id": "d_MWwssaL537",
        "outputId": "f13d18ef-b610-49c7-f03e-c9a5fc060be9"
      },
      "outputs": [
        {
          "data": {
            "text/plain": [
              "0.7091"
            ]
          },
          "execution_count": 31,
          "metadata": {},
          "output_type": "execute_result"
        }
      ],
      "source": [
        "sum(passengers_kicked_off > 0)/sim_count"
      ]
    },
    {
      "cell_type": "code",
      "execution_count": 32,
      "metadata": {
        "colab": {
          "base_uri": "https://localhost:8080/",
          "height": 301
        },
        "id": "BJnX8p3lL537",
        "outputId": "1aa1dba1-8520-4547-b1ad-32d6d7974c69"
      },
      "outputs": [
        {
          "data": {
            "image/png": "[encoded data removed]",
            "text/plain": [
              "<Figure size 432x288 with 1 Axes>"
            ]
          },
          "metadata": {
            "needs_background": "light"
          },
          "output_type": "display_data"
        }
      ],
      "source": [
        "plt.hist(passengers_kicked_off,density=True)\n",
        "plt.xlabel('Passengers Kicked')\n",
        "plt.title('Number of Passengers Kicked Off - Method 2');"
      ]
    },
    {
      "cell_type": "markdown",
      "metadata": {
        "id": "G4ctk4UyL538"
      },
      "source": [
        "What is the average overbooking cost?"
      ]
    },
    {
      "cell_type": "code",
      "execution_count": 33,
      "metadata": {
        "colab": {
          "base_uri": "https://localhost:8080/"
        },
        "id": "Mhf72TgTL538",
        "outputId": "49449b27-dab1-4e75-de0f-8eadc383f63f"
      },
      "outputs": [
        {
          "data": {
            "text/plain": [
              "-1014.17375"
            ]
          },
          "execution_count": 33,
          "metadata": {},
          "output_type": "execute_result"
        }
      ],
      "source": [
        "mean_cost = np.mean(overbooking_costs_m2)\n",
        "mean_cost"
      ]
    },
    {
      "cell_type": "code",
      "execution_count": 34,
      "metadata": {
        "colab": {
          "base_uri": "https://localhost:8080/",
          "height": 301
        },
        "id": "UZx_xpNRL539",
        "outputId": "31af504d-88a7-431b-ae68-027dc375e31a"
      },
      "outputs": [
        {
          "name": "stderr",
          "output_type": "stream",
          "text": [
            "C:\\Users\\User\\AppData\\Local\\Temp\\ipykernel_4972\\3297570470.py:5: UserWarning: FixedFormatter should only be used together with FixedLocator\n",
            "  plt.gca().set_xticklabels(['{:,.0f}'.format(x) for x in plt.gca().get_xticks()])\n"
          ]
        },
        {
          "data": {
            "image/png": "[encoded data removed]",
            "text/plain": [
              "<Figure size 432x288 with 1 Axes>"
            ]
          },
          "metadata": {
            "needs_background": "light"
          },
          "output_type": "display_data"
        }
      ],
      "source": [
        "plt.hist(overbooking_costs_m2)\n",
        "plt.axvline(x=mean_cost,c='r',label=f'Mean = {mean_cost:,.2f}')\n",
        "plt.legend()\n",
        "plt.xlabel('Cost')\n",
        "plt.gca().set_xticklabels(['{:,.0f}'.format(x) for x in plt.gca().get_xticks()])\n",
        "plt.title('Overbooking Costs - Method 2');"
      ]
    },
    {
      "cell_type": "markdown",
      "metadata": {
        "id": "CGJ6sAFyL539"
      },
      "source": [
        "What is the volatility of\n",
        "discounted profits?"
      ]
    },
    {
      "cell_type": "code",
      "execution_count": 35,
      "metadata": {
        "colab": {
          "base_uri": "https://localhost:8080/"
        },
        "id": "RZMCmbCcL539",
        "outputId": "369a217d-e5d4-4d56-d83a-9880b5b4e2d0"
      },
      "outputs": [
        {
          "name": "stdout",
          "output_type": "stream",
          "text": [
            "Expected Discounted Profit Mean = 42,500.85\n",
            "Profit Voaltility = 951.69\n"
          ]
        }
      ],
      "source": [
        "profit_mean2 = profits_m2.mean()\n",
        "print(f'Expected Discounted Profit Mean = {profit_mean2:,.2f}')\n",
        "profit_std2 = profits_m2.std()\n",
        "print(f'Profit Voaltility = {profit_std2:,.2f}')"
      ]
    },
    {
      "cell_type": "code",
      "execution_count": 36,
      "metadata": {
        "colab": {
          "base_uri": "https://localhost:8080/",
          "height": 284
        },
        "id": "YreOmBUuL53-",
        "outputId": "ffc10982-3631-4e73-c545-58cbc71e39eb"
      },
      "outputs": [
        {
          "name": "stderr",
          "output_type": "stream",
          "text": [
            "C:\\Users\\User\\AppData\\Local\\Temp\\ipykernel_4972\\3602730498.py:4: UserWarning: FixedFormatter should only be used together with FixedLocator\n",
            "  plt.gca().set_xticklabels(['{:,.0f}'.format(x) for x in plt.gca().get_xticks()])\n"
          ]
        },
        {
          "data": {
            "image/png": "[encoded data removed]",
            "text/plain": [
              "<Figure size 432x288 with 1 Axes>"
            ]
          },
          "metadata": {
            "needs_background": "light"
          },
          "output_type": "display_data"
        }
      ],
      "source": [
        "sns.histplot(data=profits_m2,kde=True)\n",
        "plt.axvline(x=profit_mean2,c='r',label=f'Mean = ${profit_mean2:,.0f}')\n",
        "plt.legend()\n",
        "plt.gca().set_xticklabels(['{:,.0f}'.format(x) for x in plt.gca().get_xticks()])\n",
        "plt.title('Discounted Profits - Method 2');"
      ]
    },
    {
      "cell_type": "code",
      "execution_count": null,
      "metadata": {
        "id": "kVjUzCChL53-"
      },
      "outputs": [],
      "source": []
    },
    {
      "cell_type": "code",
      "execution_count": null,
      "metadata": {
        "id": "dgqJfWR5L53_"
      },
      "outputs": [],
      "source": []
    },
    {
      "cell_type": "markdown",
      "metadata": {
        "id": "hgB02hu6xh9y"
      },
      "source": [
        "#### Joint Plots"
      ]
    },
    {
      "cell_type": "code",
      "execution_count": 37,
      "metadata": {
        "colab": {
          "base_uri": "https://localhost:8080/",
          "height": 447
        },
        "id": "AFqAsOOqxh5D",
        "outputId": "031485ef-a81c-4f9a-cbf5-5061651019fc"
      },
      "outputs": [
        {
          "name": "stderr",
          "output_type": "stream",
          "text": [
            "C:\\Users\\User\\AppData\\Local\\Temp\\ipykernel_4972\\2560483531.py:6: UserWarning: FixedFormatter should only be used together with FixedLocator\n",
            "  plt.gca().set_xticklabels(['{:,.0f}'.format(x) for x in plt.gca().get_xticks()])\n"
          ]
        },
        {
          "data": {
            "image/png": "[encoded data removed]",
            "text/plain": [
              "<Figure size 1080x504 with 1 Axes>"
            ]
          },
          "metadata": {
            "needs_background": "light"
          },
          "output_type": "display_data"
        }
      ],
      "source": [
        "fig, ax = plt.subplots(figsize=(15,7))\n",
        "plt.hist(profits_m1,alpha=.5,label='Method 1')\n",
        "plt.hist(profits_m2,alpha=.5,label='Method 2')\n",
        "# plt.axvline(x=profit_mean2,c='blue',label=f'Mean Method 1: ${profit_mean:,.0f}')\n",
        "# plt.axvline(x=profit_mean2,c='orange',label=f'Mean Method 2: ${profit_mean2:,.0f}')\n",
        "plt.gca().set_xticklabels(['{:,.0f}'.format(x) for x in plt.gca().get_xticks()])\n",
        "plt.title('Discounted Profits');\n",
        "plt.legend();"
      ]
    },
    {
      "cell_type": "code",
      "execution_count": null,
      "metadata": {
        "id": "72M1rd94xhwo"
      },
      "outputs": [],
      "source": []
    },
    {
      "cell_type": "code",
      "execution_count": null,
      "metadata": {
        "id": "qwIDMAbGxhpC"
      },
      "outputs": [],
      "source": []
    },
    {
      "cell_type": "code",
      "execution_count": null,
      "metadata": {
        "id": "ShYJMW_ixhkR"
      },
      "outputs": [],
      "source": []
    },
    {
      "cell_type": "code",
      "execution_count": null,
      "metadata": {
        "id": "TWtteX3zf7Pe"
      },
      "outputs": [],
      "source": []
    },
    {
      "cell_type": "code",
      "execution_count": null,
      "metadata": {
        "id": "P5f0BywgCDDb"
      },
      "outputs": [],
      "source": []
    },
    {
      "cell_type": "code",
      "execution_count": null,
      "metadata": {
        "id": "ThQYDIIrCDF9"
      },
      "outputs": [],
      "source": []
    }
  ],
  "metadata": {
    "colab": {
      "collapsed_sections": [],
      "name": "Optimization2-Project2.ipynb",
      "provenance": []
    },
    "interpreter": {
      "hash": "cf92aa13fedf815d5c8dd192b8d835913fde3e8bc926b2a0ad6cc74ef2ba3ca2"
    },
    "kernelspec": {
      "display_name": "Python 3.9.5 64-bit",
      "language": "python",
      "name": "python3"
    },
    "language_info": {
      "codemirror_mode": {
        "name": "ipython",
        "version": 3
      },
      "file_extension": ".py",
      "mimetype": "text/x-python",
      "name": "python",
      "nbconvert_exporter": "python",
      "pygments_lexer": "ipython3",
      "version": "3.9.5"
    }
  },
  "nbformat": 4,
  "nbformat_minor": 0
}
