{
  "cells": [
    {
      "cell_type": "markdown",
      "metadata": {
        "id": "RNVBEEI-zis9"
      },
      "source": [
        "# Optimization 2 - Project 3: Reinforcement Learning\n"
      ]
    },
    {
      "cell_type": "code",
      "execution_count": 1,
      "metadata": {
        "id": "camw_py8JDgq"
      },
      "outputs": [],
      "source": [
        "import numpy as np\n",
        "import gym\n",
        "import tensorflow as tf\n",
        "import time\n",
        "from tensorflow.keras.models import Model\n",
        "from tensorflow.keras.layers import Dense, Flatten, Dropout, Conv2D, Input, Conv3D"
      ]
    },
    {
      "cell_type": "code",
      "execution_count": 2,
      "metadata": {
        "colab": {
          "base_uri": "https://localhost:8080/"
        },
        "id": "G9t-EyACMRvg",
        "outputId": "2cc72c4b-dce4-4cc6-af60-cb45473dd842"
      },
      "outputs": [
        {
          "output_type": "stream",
          "name": "stdout",
          "text": [
            "Drive already mounted at /content/drive; to attempt to forcibly remount, call drive.mount(\"/content/drive\", force_remount=True).\n"
          ]
        }
      ],
      "source": [
        "from google.colab import drive\n",
        "drive.mount('/content/drive')"
      ]
    },
    {
      "cell_type": "code",
      "execution_count": 3,
      "metadata": {
        "id": "108U9ZOFMcDh"
      },
      "outputs": [],
      "source": [
        "%%capture\n",
        "# modify the location where the ROMs are saved on your GoogleDrive\n",
        "!python -m atari_py.import_roms /content/drive/MyDrive/Roms/"
      ]
    },
    {
      "cell_type": "code",
      "execution_count": 4,
      "metadata": {
        "id": "psSsaPDUJDg1"
      },
      "outputs": [],
      "source": [
        "def prepro(I):\n",
        "    # preprocess each frame for learning\n",
        "    # save some memory and computation\n",
        "    # pre-process the image from a 210x160x3 uint8 frame into an (80x80) float array \n",
        "    I = I[35:195,:,:].copy() # crop the top of the image...score image doesn't matter for how to play\n",
        "    I = I[::2,::2,0].copy()\n",
        "    I[I == 144] = 0 # erase background (background type 1)\n",
        "    I[I == 109] = 0 # erase background (background type 2)\n",
        "    I[I != 0] = 1 # everything else (paddles, ball) just set to 1\n",
        "    return np.array(I.copy())"
      ]
    },
    {
      "cell_type": "code",
      "execution_count": 5,
      "metadata": {
        "id": "Nn6hDx4YJDg6"
      },
      "outputs": [],
      "source": [
        "# Only needed for policy gradient, approach. \n",
        "def discount_rewards(r,delt):\n",
        "    \"\"\"Send in an array 'r' of scores and a discount factor 'delt'. This function will return and array of discounted rewards.\"\"\"\n",
        "    # take 1D float array of rewards and compute discounted reward\n",
        "    # gym returns a reward with every single frame.  most of those rewards are 0\n",
        "    # sometimes they're 1 or -1 if we win or lose a point in that specific frame\n",
        "    # we want non-0 rewards for every frame. \n",
        "    # so take each frame, figure out if we eventually won the corresponding point or not\n",
        "    # if so make the reward positive, if not negative\n",
        "    # but more recent actions (relative to the frame where the point is awarded) are more \n",
        "    # impactful to the score that frames a long time ago, so discount rewards...\n",
        "    \n",
        "    nr = len(r)\n",
        "    # we want to change all those zeros into discounted values of the next reward (this is the value function!)\n",
        "    discounted_r = [0.0]*nr\n",
        "    \n",
        "    for t in range(nr):\n",
        "        # start at the end\n",
        "        if r[nr-t-1] > 0: # if you won a point in this frame we want a good reward\n",
        "            discounted_r[nr-t-1] = 1\n",
        "        elif r[nr-t-1] < 0: # if we lost the point we want a bad reward\n",
        "            discounted_r[nr-t-1] = -1\n",
        "        elif t==0: # this is just for error catching...at t==0 r[nr-t-1] should have already been + or -...\n",
        "            discounted_r[nr-t-1] = 0\n",
        "        elif discounted_r[nr-t-1] == 0: # otherwise you want to look at the next reward value and discount it\n",
        "            discounted_r[nr-t-1] = delt*discounted_r[nr-t]\n",
        "    return discounted_r\n"
      ]
    },
    {
      "cell_type": "code",
      "execution_count": 6,
      "metadata": {
        "id": "N1onESTCyoiM"
      },
      "outputs": [],
      "source": [
        "def move_toward_ball(pixels:np.array) -> int:\n",
        "    \"\"\"This function returns the action necessary to move towards the ball.\"\"\"\n",
        "\n",
        "    r_pad_y = np.where(pixels[:,71])[0].mean() # Where is our paddle\n",
        "    ball_p_range = pixels[:,10:70] # What is the range of pixels the ball could be in\n",
        "\n",
        "    if ball_p_range.sum() < 1:\n",
        "        action = 0 # If the ball isn't in our range, we don't do anything\n",
        "    else:\n",
        "        ball_col = np.where(ball_p_range.sum(axis=0))[0][0]\n",
        "        ball_y = np.where(ball_p_range[:,ball_col])[0].mean()\n",
        "\n",
        "        if ball_y > r_pad_y:\n",
        "            action = 3\n",
        "        elif ball_y < r_pad_y:\n",
        "            action = 2\n",
        "        else:\n",
        "            action = 0\n",
        "\n",
        "    return action"
      ]
    },
    {
      "cell_type": "markdown",
      "metadata": {
        "id": "JY82-vDx0RCn"
      },
      "source": [
        "Below cells depict a few of the modeling arhitectures we chosen, because it was the one that was the least error prone, but we thought it helpful to keep these here so that we have a record of some of the other options chosen."
      ]
    },
    {
      "cell_type": "code",
      "execution_count": 7,
      "metadata": {
        "id": "_mXligTNJDg9"
      },
      "outputs": [],
      "source": [
        "def create_model(height,width,channels):\n",
        "    # we cannot simply have 3 output nodes because we want to put a weight on each node's impact to the objective\n",
        "    # that is different for each data point.  the only way to achieve this is to have 3 output layers, each having 1 node\n",
        "    # the effect is the same, just the way TF/keras handles weights is different\n",
        "    imp = Input(shape=(height,width,channels))\n",
        "    mid = Flatten()(imp)\n",
        "    mid = Dense(16,activation='relu',kernel_regularizer = tf.keras.regularizers.l1(0.001))(mid)\n",
        "    mid = Dense(16,activation='relu',kernel_regularizer = tf.keras.regularizers.l1(0.001))(mid)\n",
        "    mid = Dense(16,activation='relu',kernel_regularizer = tf.keras.regularizers.l1(0.001))(mid)\n",
        "    mid = Dense(16,activation='relu',kernel_regularizer = tf.keras.regularizers.l1(0.001))(mid)\n",
        "    mid = Dense(8,activation='relu',kernel_regularizer = tf.keras.regularizers.l1(0.001))(mid)\n",
        "    out0 = Dense(3,activation='softmax')(mid)\n",
        "    model = Model(imp,out0) \n",
        "    \n",
        "    model.compile(optimizer=tf.keras.optimizers.Adam(learning_rate=.00003),loss='sparse_categorical_crossentropy')\n",
        "    \n",
        "    return model\n",
        "\n",
        "def create_model(height,width,channels):\n",
        "    # we cannot simply have 3 output nodes because we want to put a weight on each node's impact to the objective\n",
        "    # that is different for each data point.  the only way to achieve this is to have 3 output layers, each having 1 node\n",
        "    # the effect is the same, just the way TF/keras handles weights is different\n",
        "    imp = Input(shape=(height,width,channels))\n",
        "    mid = Flatten()(imp)\n",
        "    mid = Dense(16,activation='elu',kernel_regularizer = tf.keras.regularizers.l1(0.0001),kernel_initializer='he_uniform')(mid)\n",
        "    mid = Dense(4,activation='elu',kernel_regularizer = tf.keras.regularizers.l1(0.0001),kernel_initializer='he_uniform')(mid)\n",
        "    out0 = Dense(3,activation='softmax',kernel_initializer='he_uniform')(mid)\n",
        "    model = Model(imp,out0) \n",
        "    \n",
        "    model.compile(optimizer=tf.keras.optimizers.RMSprop(learning_rate=.00003),loss='sparse_categorical_crossentropy')\n",
        "    \n",
        "    return model\n",
        "\n",
        "def create_model(height,width,channels):\n",
        "    # we cannot simply have 3 output nodes because we want to put a weight on each node's impact to the objective\n",
        "    # that is different for each data point.  the only way to achieve this is to have 3 output layers, each having 1 node\n",
        "    # the effect is the same, just the way TF/keras handles weights is different\n",
        "    imp = Input(shape=(height,width,channels))\n",
        "    mid = Conv2D(16,(8,8),strides=4,activation='relu')(imp)\n",
        "    mid = Conv2D(32,(4,4),strides=2,activation='relu')(mid)\n",
        "    mid = Flatten()(mid)\n",
        "    mid = Dense(256,activation='relu')(mid)\n",
        "    mid = Dense(128,activation='relu')(mid)\n",
        "    out0 = Dense(3,activation='softmax')(mid)\n",
        "    model = Model(imp,out0) \n",
        "    \n",
        "    model.compile(optimizer=tf.keras.optimizers.Adam(learning_rate=1e-6),loss='sparse_categorical_crossentropy')\n",
        "    \n",
        "    return model\n",
        "\n",
        "# frames_to_net = 4   # how many previous frames will we feed the NN\n",
        "# possible_actions = [0,2,3] # Do Nothing, Down, Up\n",
        "\n",
        "# mod = create_model(80,80,frames_to_net)\n",
        "# # mod = tf.keras.models.load_model('drive/MyDrive/Opti/mod.tf')\n",
        "# mod.call = tf.function(mod.call,experimental_relax_shapes=True)\n",
        "# mod.summary()"
      ]
    },
    {
      "cell_type": "code",
      "source": [
        "frames_to_net = 4   # how many previous frames will we feed the NN\n",
        "possible_actions = [0,2,3] # Do Nothing, Down, Up"
      ],
      "metadata": {
        "id": "cAJSYOiT62SE"
      },
      "execution_count": 8,
      "outputs": []
    },
    {
      "cell_type": "markdown",
      "metadata": {
        "id": "Hh8DL3GmCkdN"
      },
      "source": [
        "### Gameplaying Mechanics\n",
        "The below function is used to simulate playing one game. It take three arguments: a model to make predictions with, an epsisol_rand, which indicates the likelihood of choosing a random action, and an epsilon_track, which indicates the likelihood of choosing the action that will move the paddle closest to the ball.\n",
        "\n",
        "We have set up this function so that our model will only make a decision every four frames and that decision is persisted through for the following four frames. This provides a more human like, flow to the gameplay, rather than having a jerky paddle. Additionally, we adjusted how frames, rewards, adn actions are recorded. Instead of saving the feed and reward for every action, we store these values in chunks. The \"frame_chunk\" that we save is the feed that was used to make the decision for the following four frames. We then save the actions that were chosen over the next four frames and the total rewards that were accumulated."
      ]
    },
    {
      "cell_type": "code",
      "execution_count": 9,
      "metadata": {
        "id": "GRLU-FM98oRZ"
      },
      "outputs": [],
      "source": [
        "def play_game(model, epsilon_rand,epsilon_track):\n",
        "    \"\"\"Send in a model to make decisions with\"\"\"\n",
        "\n",
        "    env0 = gym.make(\"Pong-v0\")\n",
        "    pix = env0.reset()\n",
        "    pix = prepro(pix)\n",
        "    frames_this_game = 0\n",
        "    feed = np.zeros((1,80,80,frames_to_net)) # store past four frames. Intially they are blank. 0 index is most recent frame. 3 index is oldest.\n",
        "    feed[0,:,:,0] = pix.copy() \n",
        "    \n",
        "    frame_chunks = []\n",
        "    actions = []\n",
        "    rewards = []\n",
        "    \n",
        "    score = 0\n",
        "    done = False\n",
        "    fcount = 0\n",
        "    chunk_reward = 0\n",
        "\n",
        "    decision_feed = feed.copy()\n",
        "    action_input = 0\n",
        "\n",
        "    # Play the game until it is over.\n",
        "    while not done:\n",
        "        \n",
        "        if fcount == 0: # If we are back to fcount of 0 it means we need to make a new decision for next four frames\n",
        "            if np.random.random() < epsilon_track: # We might track the ball \n",
        "                action0 = move_toward_ball(pix)\n",
        "            elif np.random.random() < epsilon_rand: # Or we may just be quirky and random\n",
        "                action0 = np.random.choice(possible_actions)\n",
        "            else:\n",
        "                vf = model(feed,training=False).numpy()[0] # Get predicted probabilities for best action?\n",
        "                # action = np.random.choice(3,p=vf) # Randomly choose an action based on those probs\n",
        "                action0 = np.random.choice(possible_actions,p=vf)\n",
        "                fcount += 1\n",
        "\n",
        "            if frames_this_game > 0:\n",
        "                \n",
        "                # Store The most recent rewards with their old decisions\n",
        "                rewards.append(chunk_reward)\n",
        "                frame_chunks.append(decision_feed)\n",
        "                actions.append(action_input)\n",
        "\n",
        "                # Reset the variables for next time\n",
        "                decision_feed = feed.copy()\n",
        "                action_input = possible_actions.index(action0)\n",
        "                chunk_reward = 0 # Reset the rewards for this feed chunk\n",
        "\n",
        "\n",
        "        elif fcount == 3:\n",
        "            fcount = 0\n",
        "        else:\n",
        "            fcount += 1\n",
        "\n",
        "        frames_this_game += 1\n",
        "\n",
        "        # Take our action and get the results!\n",
        "        pix_new, reward, done, info = env0.step(action0)\n",
        "        \n",
        "        score += reward # Total Score\n",
        "        chunk_reward += reward # Cumulative Score for these four chunks\n",
        "\n",
        "        pix = prepro(pix_new) # Process the new pixels for the next step\n",
        "    \n",
        "        # Shift the feed backward and add in new frame\n",
        "        feed[0,:,:,1:] = feed[0,:,:,:frames_to_net-1].copy()\n",
        "        feed[0,:,:,0] = pix.copy()\n",
        "\n",
        "        if done: # Don't forget to store the last point\n",
        "            rewards.append(chunk_reward)\n",
        "            frame_chunks.append(decision_feed)\n",
        "            actions.append(action_input)\n",
        "\n",
        "        \n",
        "    return frame_chunks, actions, rewards, score\n",
        "\n",
        "# frames, actions, rewards, score =  play_game(mod,0,0)\n",
        "# score"
      ]
    },
    {
      "cell_type": "markdown",
      "metadata": {
        "id": "X5gtU-Nr1Jvw"
      },
      "source": [
        "## Model Training"
      ]
    },
    {
      "cell_type": "code",
      "execution_count": 10,
      "metadata": {
        "colab": {
          "base_uri": "https://localhost:8080/"
        },
        "id": "PbZN_XEp68oz",
        "outputId": "9ef3cfe0-05f3-4cdc-a04e-4918d9a86b85"
      },
      "outputs": [
        {
          "output_type": "stream",
          "name": "stdout",
          "text": [
            "Model: \"model\"\n",
            "_________________________________________________________________\n",
            " Layer (type)                Output Shape              Param #   \n",
            "=================================================================\n",
            " input_1 (InputLayer)        [(None, 80, 80, 4)]       0         \n",
            "                                                                 \n",
            " conv2d (Conv2D)             (None, 19, 19, 16)        4112      \n",
            "                                                                 \n",
            " conv2d_1 (Conv2D)           (None, 8, 8, 32)          8224      \n",
            "                                                                 \n",
            " flatten (Flatten)           (None, 2048)              0         \n",
            "                                                                 \n",
            " dense (Dense)               (None, 256)               524544    \n",
            "                                                                 \n",
            " dense_1 (Dense)             (None, 128)               32896     \n",
            "                                                                 \n",
            " dense_2 (Dense)             (None, 3)                 387       \n",
            "                                                                 \n",
            "=================================================================\n",
            "Total params: 570,163\n",
            "Trainable params: 570,163\n",
            "Non-trainable params: 0\n",
            "_________________________________________________________________\n"
          ]
        }
      ],
      "source": [
        "# Uncomment out the below line if you want to load in an already saved model\n",
        "mod = tf.keras.models.load_model('drive/MyDrive/Opti/mod.tf')\n",
        "mod.summary()"
      ]
    },
    {
      "cell_type": "markdown",
      "metadata": {
        "id": "FOIMYRTv1NYD"
      },
      "source": [
        "#### Setting Parameters"
      ]
    },
    {
      "cell_type": "code",
      "execution_count": 12,
      "metadata": {
        "id": "TXFCL6EwJDhI"
      },
      "outputs": [],
      "source": [
        "ngames = 15_000 # How many games to train for\n",
        "nbatch = 10 # How many batches per epoch\n",
        "buffn = 30_000 # How many frame chunks do we want to keep in memory? # Collab can only handle so much.\n",
        "warmupgames = 15 \n",
        "delt= .99 # \n",
        "epochs = 1\n",
        "epochs = 2\n",
        "\n",
        "# What should our probabilities for ball tracking be. We start with 100% chance of ball tracking for the first 5% of games. Then decrease it down to 0 over the next 5% of games.\n",
        "# Our hope is that this will allow our model to jump start the learning process by examining many successful points.\n",
        "# eps_tracking = [1]*int(ngames*.05) + list(np.linspace(1,0,int(ngames*.05))) # Possibility for ball tracking for first 30% of ga,es\n",
        "# How often should we choose a random action:\n",
        "# eps_rand = list(np.linspace(.05,0,int(ngames*.90)))\n",
        "eps_rand = []\n",
        "eps_tracking = []\n",
        "\n",
        "len_buff = 0\n",
        "buffer = {'frame_chunks':[],'actions':[],'rewards':[]}\n",
        "# print(len(eps_tracking))\n",
        "# print(len(eps_rand))"
      ]
    },
    {
      "cell_type": "code",
      "execution_count": null,
      "metadata": {
        "id": "yvP9fpTYKiUG"
      },
      "outputs": [],
      "source": [
        "rolling_score_total = 0\n",
        "for game in range(ngames):\n",
        "    \n",
        "    start = time.time()\n",
        "\n",
        "    # Select the appropriate epsilon values for this game.\n",
        "    if game < len(eps_tracking):\n",
        "        epsilon_track = eps_tracking[game]\n",
        "    else:\n",
        "        epsilon_track = 0\n",
        "    if game < len(eps_rand):\n",
        "        epsilon_rand = eps_rand[game]\n",
        "    else:\n",
        "        epsilon_rand = 0\n",
        "\n",
        "    frame_chunks, actions, rewards, score = play_game(mod,epsilon_rand,epsilon_track) # Get results of that one game.\n",
        "    rewards = discount_rewards(rewards.copy(),delt) # Every single one should have a number. But numbers that are far away from the point will be small.\n",
        "\n",
        "    # print(f'More Buffing after game = {game}')\n",
        "    # Add in the new results from the game\n",
        "    buffer['frame_chunks'] += frame_chunks.copy()\n",
        "    buffer['actions'] += actions.copy()\n",
        "    buffer['rewards'] += rewards.copy()\n",
        "    len_buff += len(actions)\n",
        "\n",
        "    if len_buff > buffn: \n",
        "        # Clean out the older frames if necessary\n",
        "        excess = len_buff - buffn\n",
        "        buffer['frame_chunks'] = buffer['frame_chunks'][excess:].copy()\n",
        "        buffer['actions'] = buffer['actions'][excess:].copy()\n",
        "        buffer['rewards'] = buffer['rewards'][excess:].copy()\n",
        "        len_buff = len(buffer['actions'])\n",
        "\n",
        "\n",
        "    if game >= warmupgames: # After the game is played, we want to update the neural neural network with a random sample from our buffer\n",
        "        # Set up the inputs and outputs that we will need to feed into the net. \n",
        "        frames_to_sample = len(frame_chunks)*2 # We would like a random same of frame chunks, rewards and actions from our buffer.\n",
        "\n",
        "        rewards = np.zeros(frames_to_sample)\n",
        "        actions = np.zeros(frames_to_sample)\n",
        "        current_frames = np.zeros((frames_to_sample,80,80,frames_to_net))\n",
        "\n",
        "        prob = np.ones(len_buff)\n",
        "        prob[np.array(buffer['rewards']) > 0] = 10.0 # Weight positive rewards higher than negative rewards.\n",
        "        prob /= np.sum(prob)\n",
        "        which_choose = np.random.choice(len_buff,size=frames_to_sample,replace=False,p=prob) # Pick a random sample of frames in the buffer to train on.\n",
        "    \n",
        "        for grab in range(frames_to_sample):\n",
        "            rewards[grab] = buffer['rewards'][which_choose[grab]]\n",
        "            actions[grab] = buffer['actions'][which_choose[grab]]\n",
        "            current_frames[grab] = buffer['frame_chunks'][which_choose[grab]]\n",
        "       \n",
        "        # Update neural network\n",
        "        mod.fit(current_frames,actions,epochs=epochs,steps_per_epoch=nbatch,verbose=0,sample_weight=rewards,use_multiprocessing=True)\n",
        "\n",
        "    stop = time.time()\n",
        "    rolling_score_total += score\n",
        "    print(game, score, stop-start,len_buff)\n",
        "    \n",
        "    if game % 50 == 0: # Save model every 50 games in awhile\n",
        "        print(f'Average Score for past 50 games: {rolling_score_total/50}') \n",
        "        rolling_score_total = 0\n",
        "        mod.save('drive/MyDrive/Opti/mod.tf')\n",
        "\n",
        "# mod.save('drive/MyDrive/Opti/mod.tf')   "
      ]
    },
    {
      "cell_type": "code",
      "execution_count": null,
      "metadata": {
        "id": "zkS_qGq1AK2G"
      },
      "outputs": [],
      "source": [
        ""
      ]
    },
    {
      "cell_type": "code",
      "execution_count": null,
      "metadata": {
        "id": "Bw90FwFh8X5H"
      },
      "outputs": [],
      "source": [
        ""
      ]
    },
    {
      "cell_type": "markdown",
      "metadata": {
        "id": "dWvpFdQw8Xxw"
      },
      "source": [
        "## Testing the Trained Model\n",
        "\n",
        "Now we test the model trained above to see how it performs."
      ]
    },
    {
      "cell_type": "code",
      "execution_count": 15,
      "metadata": {
        "id": "43KL780k8XUn",
        "colab": {
          "base_uri": "https://localhost:8080/"
        },
        "outputId": "fd2f49ce-eca4-448f-b4cc-41134dc5af61"
      },
      "outputs": [
        {
          "output_type": "execute_result",
          "data": {
            "text/plain": [
              "-17.77"
            ]
          },
          "metadata": {},
          "execution_count": 15
        }
      ],
      "source": [
        "mod_trained = tf.keras.models.load_model('drive/MyDrive/Opti/mod.tf')\n",
        "scores = []\n",
        "for game in range(200):\n",
        "    # Play the game with this model. Both epsilons should be 0 now.\n",
        "    frame_chunks, actions, rewards, score = play_game(mod_trained,0,0) \n",
        "    scores.append(score)\n",
        "\n",
        "scores = np.array(scores)\n",
        "scores.mean()"
      ]
    },
    {
      "cell_type": "code",
      "execution_count": 21,
      "metadata": {
        "id": "nSNZ_ntJacHM",
        "colab": {
          "base_uri": "https://localhost:8080/",
          "height": 302
        },
        "outputId": "99d0bd44-5666-454b-a78d-1d24b60c6706"
      },
      "outputs": [
        {
          "output_type": "execute_result",
          "data": {
            "text/plain": [
              "''"
            ],
            "application/vnd.google.colaboratory.intrinsic+json": {
              "type": "string"
            }
          },
          "metadata": {},
          "execution_count": 21
        },
        {
          "output_type": "display_data",
          "data": {
            "text/plain": [
              "<Figure size 432x288 with 1 Axes>"
            ],
            "image/png": "[encoded data removed]"
          },
          "metadata": {}
        }
      ],
      "source": [
        "from matplotlib import pyplot as plt\n",
        "import seaborn as sns; sns.set_theme()\n",
        "\n",
        "\n",
        "sns.histplot(scores)\n",
        "plt.title('Scores of final model in 200 games.')\n",
        ";"
      ]
    },
    {
      "cell_type": "code",
      "source": [
        "scores.max()"
      ],
      "metadata": {
        "colab": {
          "base_uri": "https://localhost:8080/"
        },
        "id": "Z5gdtjpu2o0a",
        "outputId": "7cba57f5-a904-4b12-e11f-4a48676147b3"
      },
      "execution_count": 19,
      "outputs": [
        {
          "output_type": "execute_result",
          "data": {
            "text/plain": [
              "-9.0"
            ]
          },
          "metadata": {},
          "execution_count": 19
        }
      ]
    },
    {
      "cell_type": "code",
      "execution_count": 20,
      "metadata": {
        "id": "3aaM03ppacDN",
        "colab": {
          "base_uri": "https://localhost:8080/"
        },
        "outputId": "c8fc9630-c6a9-41fd-e032-775100c9964d"
      },
      "outputs": [
        {
          "output_type": "execute_result",
          "data": {
            "text/plain": [
              "-17.77"
            ]
          },
          "metadata": {},
          "execution_count": 20
        }
      ],
      "source": [
        "scores.mean()"
      ]
    },
    {
      "cell_type": "markdown",
      "metadata": {
        "id": "71K9t9te4ZsU"
      },
      "source": [
        "### Model Training Part 2:\n",
        "Same as above, but now we only train on 5,000 games."
      ]
    },
    {
      "cell_type": "code",
      "execution_count": null,
      "metadata": {
        "id": "1rj3i4mo4vu5"
      },
      "outputs": [],
      "source": [
        "mod_2 = create_model(80,80,frames_to_net)\n",
        "mod_2.call = tf.function(mod_2.call,experimental_relax_shapes=True)"
      ]
    },
    {
      "cell_type": "code",
      "execution_count": null,
      "metadata": {
        "id": "X_q6cPRS4Zsq"
      },
      "outputs": [],
      "source": [
        "ngames = 5000\n",
        "nbatch = 10 # How many batches per epoch\n",
        "buffn = 30_000 # How many frame chunks do we want to keep in memory? # Collab can only handle so much.\n",
        "warmupgames = 15 \n",
        "delt= .99\n",
        "epochs = 1\n",
        "\n",
        "eps_tracking = [1]*int(ngames*.05) + list(np.linspace(1,0,int(ngames*.05))) # Possibility for ball tracking for first 30% of ga,es\n",
        "eps_rand = list(np.linspace(.05,0,int(ngames*.90)))\n",
        "eps_rand = []\n",
        "\n",
        "len_buff = 0\n",
        "buffer = {'frame_chunks':[],'actions':[],'rewards':[]}\n",
        "print(len(eps_tracking))\n",
        "print(len(eps_rand))"
      ]
    },
    {
      "cell_type": "code",
      "execution_count": null,
      "metadata": {
        "id": "MYe6enPJ4Zsr"
      },
      "outputs": [],
      "source": [
        "rolling_score_total = 0\n",
        "for game in range(ngames):\n",
        "    \n",
        "    start = time.time()\n",
        "\n",
        "    # Select the appropriate epsilon values for this game.\n",
        "    if game < len(eps_tracking):\n",
        "        epsilon_track = eps_tracking[game]\n",
        "    else:\n",
        "        epsilon_track = 0\n",
        "    if game < len(eps_rand):\n",
        "        epsilon_rand = eps_rand[game]\n",
        "    else:\n",
        "        epsilon_rand = 0\n",
        "\n",
        "    frame_chunks, actions, rewards, score = play_game(mod_2,epsilon_rand,epsilon_track) # Get results of that one game.\n",
        "    rewards = discount_rewards(rewards.copy(),delt) # Every single one should have a number. But numbers that are far away from the point will be small.\n",
        "\n",
        "    # print(f'More Buffing after game = {game}')\n",
        "    # Add in the new results from the game\n",
        "    buffer['frame_chunks'] += frame_chunks.copy()\n",
        "    buffer['actions'] += actions.copy()\n",
        "    buffer['rewards'] += rewards.copy()\n",
        "    len_buff += len(actions)\n",
        "\n",
        "    if len_buff > buffn: \n",
        "        # Clean out the older frames if necessary\n",
        "        excess = len_buff - buffn\n",
        "        buffer['frame_chunks'] = buffer['frame_chunks'][excess:].copy()\n",
        "        buffer['actions'] = buffer['actions'][excess:].copy()\n",
        "        buffer['rewards'] = buffer['rewards'][excess:].copy()\n",
        "        len_buff = len(buffer['actions'])\n",
        "\n",
        "\n",
        "    if game >= warmupgames: # After the game is played, we want to update the neural neural network with a random sample from our buffer\n",
        "        # Set up the inputs and outputs that we will need to feed into the net. \n",
        "        frames_to_sample = len(frame_chunks) # We would like a random same of frame chunks, rewards and actions from our buffer.\n",
        "\n",
        "        rewards = np.zeros(frames_to_sample)\n",
        "        actions = np.zeros(frames_to_sample)\n",
        "        current_frames = np.zeros((frames_to_sample,80,80,frames_to_net))\n",
        "\n",
        "        prob = np.ones(len_buff)\n",
        "        prob[np.array(buffer['rewards']) > 0] = 10.0 # Weight positive rewards higher than negative rewards.\n",
        "        prob /= np.sum(prob)\n",
        "        which_choose = np.random.choice(len_buff,size=frames_to_sample,replace=False,p=prob) # Pick a random sample of frames in the buffer to train on.\n",
        "    \n",
        "        for grab in range(frames_to_sample):\n",
        "            rewards[grab] = buffer['rewards'][which_choose[grab]]\n",
        "            actions[grab] = buffer['actions'][which_choose[grab]]\n",
        "            current_frames[grab] = buffer['frame_chunks'][which_choose[grab]]\n",
        "       \n",
        "        # Update neural network\n",
        "        mod_2.fit(current_frames,actions,epochs=epochs,steps_per_epoch=nbatch,verbose=0,sample_weight=rewards,use_multiprocessing=True)\n",
        "\n",
        "    stop = time.time()\n",
        "    rolling_score_total += score\n",
        "    print(game, score, stop-start,len_buff)"
      ]
    },
    {
      "cell_type": "code",
      "execution_count": null,
      "metadata": {
        "id": "6ih-faiu4Zss"
      },
      "outputs": [],
      "source": [
        ""
      ]
    },
    {
      "cell_type": "markdown",
      "metadata": {
        "id": "nSXvpGj74Zss"
      },
      "source": [
        "## Testing the Trained Model 2\n",
        "\n",
        "Now we test the model trained above to see how it performs."
      ]
    },
    {
      "cell_type": "code",
      "execution_count": null,
      "metadata": {
        "id": "wO533Fx94Zss"
      },
      "outputs": [],
      "source": [
        "scores2 = []\n",
        "for game in range(200):\n",
        "    # Play the game with this model. Both epsilons should be 0 now.\n",
        "    frame_chunks, actions, rewards, scores2 = play_game(mod_2,0,0) \n",
        "    scores2.append(scores2)\n",
        "\n",
        "scores2 = np.array(scores2)\n",
        "scores2.mean()"
      ]
    },
    {
      "cell_type": "code",
      "execution_count": null,
      "metadata": {
        "id": "KcEJCjbF4Zss"
      },
      "outputs": [],
      "source": [
        ""
      ]
    },
    {
      "cell_type": "code",
      "execution_count": null,
      "metadata": {
        "id": "EHOBtu-14Zss"
      },
      "outputs": [],
      "source": [
        ""
      ]
    },
    {
      "cell_type": "code",
      "execution_count": null,
      "metadata": {
        "id": "T1c-iRPDab9Z"
      },
      "outputs": [],
      "source": [
        ""
      ]
    },
    {
      "cell_type": "code",
      "execution_count": null,
      "metadata": {
        "id": "V74hFb18cebI"
      },
      "outputs": [],
      "source": [
        ""
      ]
    },
    {
      "cell_type": "code",
      "execution_count": null,
      "metadata": {
        "id": "0QRQkhtCOS7v"
      },
      "outputs": [],
      "source": [
        ""
      ]
    },
    {
      "cell_type": "code",
      "execution_count": null,
      "metadata": {
        "id": "t1U_WMIJhgi8"
      },
      "outputs": [],
      "source": [
        ""
      ]
    },
    {
      "cell_type": "code",
      "execution_count": null,
      "metadata": {
        "id": "UYLe4F2FxTn-"
      },
      "outputs": [],
      "source": [
        ""
      ]
    }
  ],
  "metadata": {
    "colab": {
      "collapsed_sections": [],
      "machine_shape": "hm",
      "name": "Project_3.ipynb",
      "provenance": []
    },
    "kernelspec": {
      "display_name": "Python 3",
      "language": "python",
      "name": "python3"
    },
    "language_info": {
      "codemirror_mode": {
        "name": "ipython",
        "version": 3
      },
      "file_extension": ".py",
      "mimetype": "text/x-python",
      "name": "python",
      "nbconvert_exporter": "python",
      "pygments_lexer": "ipython3",
      "version": "3.7.4"
    }
  },
  "nbformat": 4,
  "nbformat_minor": 0
}