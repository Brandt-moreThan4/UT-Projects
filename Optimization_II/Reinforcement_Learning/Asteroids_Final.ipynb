{
  "cells": [
    {
      "cell_type": "code",
      "execution_count": null,
      "metadata": {
        "id": "AMv3LdJwemtw"
      },
      "outputs": [],
      "source": [
        "import numpy as np\n",
        "import gym\n",
        "import tensorflow as tf\n",
        "import time\n",
        "from tensorflow.keras.models import Model\n",
        "from tensorflow.keras.layers import Dense, Flatten, Dropout, Conv2D, Input\n",
        "import matplotlib.pyplot as plt\n",
        "%matplotlib inline\n",
        "\n",
        "# tf.compat.v1.logging.set_verbosity(tf.compat.v1.logging.ERROR) # stop displaying warnings that mean nothing!!!"
      ]
    },
    {
      "cell_type": "code",
      "execution_count": null,
      "metadata": {
        "id": "c9Ho9pfrfZs_"
      },
      "outputs": [],
      "source": [
        "# !pip install autorom\n",
        "# !autorom\n",
        "%pip install -U gym>=0.21.0\n",
        "%pip install -U gym[atari,accept-rom-license]"
      ]
    },
    {
      "cell_type": "code",
      "execution_count": null,
      "metadata": {
        "colab": {
          "base_uri": "https://localhost:8080/"
        },
        "id": "-_-XFMYEMkvG",
        "outputId": "e875171f-7af1-48a5-f708-6606908bd15d"
      },
      "outputs": [
        {
          "name": "stdout",
          "output_type": "stream",
          "text": [
            "Mounted at /content/drive\n"
          ]
        }
      ],
      "source": [
        "from google.colab import drive\n",
        "drive.mount('/content/drive')"
      ]
    },
    {
      "cell_type": "code",
      "execution_count": null,
      "metadata": {
        "colab": {
          "base_uri": "https://localhost:8080/"
        },
        "id": "LeYZQ6_XqD3O",
        "outputId": "333cc9a9-8bea-46da-e55e-0436aa2e6ded"
      },
      "outputs": [
        {
          "name": "stderr",
          "output_type": "stream",
          "text": [
            "/usr/local/lib/python3.7/dist-packages/gym/logger.py:30: UserWarning: \u001b[33mWARN: obs_type \"image\" should be replaced with the image type, one of: rgb, grayscale\u001b[0m\n",
            "  \n"
          ]
        }
      ],
      "source": [
        "env = gym.make(\"Asteroids-v0\") # create the pong 'environment'"
      ]
    },
    {
      "cell_type": "code",
      "execution_count": null,
      "metadata": {
        "id": "3z7RGiChemt7"
      },
      "outputs": [],
      "source": [
        "def prepro(I):\n",
        "    # preprocess each frame for learning\n",
        "    # save some memory and computation\n",
        "    # pre-process the image from a 210x160x3 uint8 frame into an (80x80) float array \n",
        "    I = I[16:,:,:].copy() # crop the top of the image...score image doesn't matter for how to play\n",
        "    I = I[::2,::2,0].copy()\n",
        "    I[I == 144] = 0 # erase background (background type 1)\n",
        "    I[I == 109] = 0 # erase background (background type 2)\n",
        "    I[I != 0] = 1 # everything else (paddles, ball) just set to 1\n",
        "    return np.array(I.copy())"
      ]
    },
    {
      "cell_type": "code",
      "execution_count": null,
      "metadata": {
        "id": "2wGNTkczemt_"
      },
      "outputs": [],
      "source": [
        "def create_model(height,width,channels):\n",
        "\n",
        "    imp = Input(shape=(height,width,channels))\n",
        "    mid = Conv2D(16,(8,8),strides=4,activation='relu')(imp)\n",
        "    mid = Conv2D(32,(4,4),strides=2,activation='relu')(mid)\n",
        "    mid = Flatten()(mid)\n",
        "    mid = Dense(256,activation='relu')(mid)\n",
        "    out0 = Dense(1,activation='linear',name='out0')(mid)\n",
        "    out1 = Dense(1,activation='linear',name='out1')(mid)\n",
        "    out2 = Dense(1,activation='linear',name='out2')(mid)\n",
        "    out3 = Dense(1,activation='linear',name='out3')(mid)\n",
        "    out4 = Dense(1,activation='linear',name='out4')(mid)\n",
        "    out5 = Dense(1,activation='linear',name='out5')(mid)\n",
        "    out6 = Dense(1,activation='linear',name='out6')(mid)\n",
        "    out7 = Dense(1,activation='linear',name='out7')(mid)\n",
        "    out8 = Dense(1,activation='linear',name='out8')(mid)\n",
        "    out9 = Dense(1,activation='linear',name='out9')(mid)\n",
        "    out10 = Dense(1,activation='linear',name='out10')(mid)\n",
        "    out11 = Dense(1,activation='linear',name='out11')(mid)\n",
        "    out12 = Dense(1,activation='linear',name='out12')(mid)\n",
        "    out13 = Dense(1,activation='linear',name='out13')(mid)   \n",
        "    model = Model(imp,[out0,out1,out2,out3,out4,out5,out6,out7,out8,out9,out10,out11,out12,out13]) \n",
        "    \n",
        "    model.compile(optimizer=tf.keras.optimizers.Adam(learning_rate=1e-4),loss='mean_squared_error')\n",
        "    \n",
        "    return model"
      ]
    },
    {
      "cell_type": "code",
      "execution_count": null,
      "metadata": {
        "id": "MA65BpiIemuB"
      },
      "outputs": [],
      "source": [
        "frames_to_net = 4              # how many previous frames will we feed the NN\n",
        "possible_actions = [0,1,2,3,4,5,6,7,8,9,10,11,12,13]\n",
        "# mod2 = create_model(97,80,frames_to_net)\n",
        "# mod2.call = tf.function(mod2.call,experimental_relax_shapes=True)\n",
        "\n",
        "# mod2.summary()"
      ]
    },
    {
      "cell_type": "code",
      "execution_count": null,
      "metadata": {
        "id": "SOUXt3E5emuH"
      },
      "outputs": [],
      "source": [
        "def play1game(model,ep):\n",
        "    env0 = gym.make(\"Asteroids-v0\")\n",
        "    pix = env0.reset()\n",
        "    pix = prepro(pix)\n",
        "    frames_this_game = 0\n",
        "    feed = np.zeros((1,97,80,frames_to_net))\n",
        "    feed[0,:,:,0] = pix.copy()\n",
        "    \n",
        "    frame_array = []\n",
        "    action_array = []\n",
        "    reward_array = []\n",
        "    \n",
        "    score = 0\n",
        "    done = False\n",
        "    while not done:\n",
        "        if np.random.random() < ep:\n",
        "            action = np.random.choice(3)\n",
        "        else:\n",
        "            vf = mod2(feed,training=False)\n",
        "            vf = [vf[0][0,0].numpy(),vf[1][0,0].numpy(),vf[2][0,0].numpy(),\n",
        "                  vf[3][0,0].numpy(),vf[4][0,0].numpy(),vf[5][0,0].numpy(),\n",
        "                  vf[6][0,0].numpy(),vf[7][0,0].numpy(),vf[8][0,0].numpy(),\n",
        "                  vf[9][0,0].numpy(),vf[10][0,0].numpy(),vf[11][0,0].numpy(),\n",
        "                  vf[12][0,0].numpy(),vf[13][0,0].numpy()]\n",
        "            action = np.argmax(vf)\n",
        "        action0 = possible_actions[action]\n",
        "        pix_new, reward, done, info = env0.step(action0)\n",
        "        frame_array.append(pix)\n",
        "        action_array.append(action)\n",
        "        reward_array.append(reward)\n",
        "        if done == False:\n",
        "          if reward != 0:\n",
        "            reward_array.append(1)\n",
        "          else:\n",
        "            reward_array.append(reward)\n",
        "        else:\n",
        "          reward_array.append(-1)\n",
        "\n",
        "        pix = prepro(pix_new)\n",
        "        frames_this_game += 1\n",
        "\n",
        "        for f in range(1,frames_to_net):\n",
        "            feed[0,:,:,frames_to_net-f] = feed[0,:,:,frames_to_net-f-1].copy()\n",
        "        feed[0,:,:,0] = pix.copy()\n",
        "        score += reward\n",
        "    return frame_array, action_array, reward_array, score"
      ]
    },
    {
      "cell_type": "code",
      "execution_count": null,
      "metadata": {
        "id": "0ANsKtKYglSA"
      },
      "outputs": [],
      "source": [
        "ngames = 10000\n",
        "epsvec = np.linspace(0.135,0.05,ngames)\n",
        "delt = 0.99\n",
        "nbatch = 32"
      ]
    },
    {
      "cell_type": "code",
      "execution_count": null,
      "metadata": {
        "id": "jvZKYlF2ncRa"
      },
      "outputs": [],
      "source": [
        "mod2 = tf.keras.models.load_model(\"/content/drive/MyDrive/Opti/model2\")\n",
        "mod2.call = tf.function(mod2.call, experimental_relax_shapes = True)"
      ]
    },
    {
      "cell_type": "code",
      "execution_count": null,
      "metadata": {
        "colab": {
          "background_save": true
        },
        "id": "Ma18PhPxlgli"
      },
      "outputs": [],
      "source": [
        "for game in range(ngames):\n",
        "    start = time.time()\n",
        "    frames, actions, rewards, score = play1game(mod2,epsvec[game])\n",
        "\n",
        "    nframes = len(frames)\n",
        "    current_frames = np.zeros((nframes,97,80,frames_to_net))\n",
        "    future_frames = np.zeros((nframes,97,80,frames_to_net))\n",
        "  \n",
        "    for grab in range(nframes):\n",
        "        for f in range(frames_to_net):\n",
        "            if grab-f > 0:\n",
        "                current_frames[grab,:,:,f] = frames[grab-f].copy()\n",
        "            if (grab-f+1 > 0) & (grab-f+1 < (nframes-1)):\n",
        "                future_frames[grab,:,:,f] = frames[grab-f+1].copy()\n",
        "    target_vf = mod2.predict(future_frames)\n",
        "\n",
        "    y0 = np.zeros((nframes,1))\n",
        "    y1 = np.zeros((nframes,1))\n",
        "    y2 = np.zeros((nframes,1))\n",
        "    y3 = np.zeros((nframes,1))\n",
        "    y4 = np.zeros((nframes,1))\n",
        "    y5 = np.zeros((nframes,1))\n",
        "    y6 = np.zeros((nframes,1))\n",
        "    y7 = np.zeros((nframes,1))\n",
        "    y8 = np.zeros((nframes,1))\n",
        "    y9 = np.zeros((nframes,1))\n",
        "    y10 = np.zeros((nframes,1))\n",
        "    y11 = np.zeros((nframes,1))\n",
        "    y12 = np.zeros((nframes,1))\n",
        "    y13 = np.zeros((nframes,1))\n",
        "\n",
        "    weight0 = np.zeros(nframes)\n",
        "    weight1 = np.zeros(nframes)\n",
        "    weight2 = np.zeros(nframes)\n",
        "    weight3 = np.zeros(nframes)\n",
        "    weight4 = np.zeros(nframes)\n",
        "    weight5 = np.zeros(nframes)\n",
        "    weight6 = np.zeros(nframes)\n",
        "    weight7 = np.zeros(nframes)\n",
        "    weight8 = np.zeros(nframes)\n",
        "    weight9 = np.zeros(nframes)\n",
        "    weight10 = np.zeros(nframes)\n",
        "    weight11 = np.zeros(nframes)\n",
        "    weight12 = np.zeros(nframes)\n",
        "    weight13 = np.zeros(nframes)\n",
        "\n",
        "  \n",
        "    for grab in range(nframes):\n",
        "        rhs = rewards[grab]\n",
        "        if rhs == 0:\n",
        "            rhs = delt*np.max([target_vf[0][grab],target_vf[1][grab],target_vf[2][grab],\n",
        "                               target_vf[3][grab],target_vf[4][grab],target_vf[5][grab],\n",
        "                               target_vf[6][grab],target_vf[7][grab],target_vf[8][grab],\n",
        "                               target_vf[9][grab],target_vf[10][grab],target_vf[11][grab],\n",
        "                               target_vf[12][grab],target_vf[13][grab]])\n",
        "        if actions[grab] == 0:\n",
        "            y0[grab,0] = rhs\n",
        "            weight0[grab] = 1\n",
        "        elif actions[grab] == 1:\n",
        "            y1[grab,0] = rhs\n",
        "            weight1[grab] = 1\n",
        "        elif actions[grab] == 1:\n",
        "            y2[grab,0] = rhs\n",
        "            weight2[grab] = 1\n",
        "        elif actions[grab] == 1:\n",
        "            y3[grab,0] = rhs\n",
        "            weight3[grab] = 1\n",
        "        elif actions[grab] == 1:\n",
        "            y4[grab,0] = rhs\n",
        "            weight4[grab] = 1\n",
        "        elif actions[grab] == 1:\n",
        "            y5[grab,0] = rhs\n",
        "            weight5[grab] = 1\n",
        "        elif actions[grab] == 1:\n",
        "            y6[grab,0] = rhs\n",
        "            weight6[grab] = 1\n",
        "        elif actions[grab] == 1:\n",
        "            y7[grab,0] = rhs\n",
        "            weight7[grab] = 1\n",
        "        elif actions[grab] == 1:\n",
        "            y8[grab,0] = rhs\n",
        "            weight8[grab] = 1\n",
        "        elif actions[grab] == 1:\n",
        "            y9[grab,0] = rhs\n",
        "            weight9[grab] = 1\n",
        "        elif actions[grab] == 1:\n",
        "            y10[grab,0] = rhs\n",
        "            weight10[grab] = 1\n",
        "        elif actions[grab] == 1:\n",
        "            y11[grab,0] = rhs\n",
        "            weight11[grab] = 1\n",
        "        elif actions[grab] == 1:\n",
        "            y12[grab,0] = rhs\n",
        "            weight12[grab] = 1\n",
        "        else:\n",
        "            y13[grab,0] = rhs\n",
        "            weight13[grab] = 1\n",
        "  \n",
        "    mod2.fit(current_frames,[y0,y1,y2,y3,y4,y5,y6,y7,y8,y9,y10,y11,y12,y13],\n",
        "            epochs=1,batch_size=nbatch,verbose=0,\n",
        "            sample_weight={'out0':weight0,'out1':weight1,'out2':weight2,\n",
        "                           'out3':weight3,'out4':weight4,'out5':weight5,\n",
        "                           'out6':weight6,'out7':weight7,'out8':weight8,\n",
        "                           'out9':weight9,'out10':weight10,'out11':weight11,\n",
        "                           'out12':weight12,'out13':weight13},use_multiprocessing=True)\n",
        "    stop = time.time()\n",
        "    if game % 50 == 0:\n",
        "      mod2.save('/content/drive/MyDrive/Opti/model2')\n",
        "      print(\"Games: \",game)\n",
        "      print(\"Time: \", stop - start)\n",
        "      print(\"Score: \", score)"
      ]
    }
  ],
  "metadata": {
    "accelerator": "TPU",
    "colab": {
      "collapsed_sections": [],
      "machine_shape": "hm",
      "name": "Asteroids.ipynb",
      "provenance": []
    },
    "kernelspec": {
      "display_name": "Python 3",
      "language": "python",
      "name": "python3"
    },
    "language_info": {
      "codemirror_mode": {
        "name": "ipython",
        "version": 3
      },
      "file_extension": ".py",
      "mimetype": "text/x-python",
      "name": "python",
      "nbconvert_exporter": "python",
      "pygments_lexer": "ipython3",
      "version": "3.7.4"
    }
  },
  "nbformat": 4,
  "nbformat_minor": 0
}