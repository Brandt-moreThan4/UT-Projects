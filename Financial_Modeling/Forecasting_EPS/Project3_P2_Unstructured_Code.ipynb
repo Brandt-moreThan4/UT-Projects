{
  "cells": [
    {
      "cell_type": "markdown",
      "metadata": {
        "id": "YOebhGKtqFFX"
      },
      "source": [
        "# Unstrucutred Analysis\n"
      ]
    },
    {
      "cell_type": "markdown",
      "metadata": {
        "id": "3DdeoVnyqolP"
      },
      "source": [
        "If you want to explore the edgar data base of filings, follow the below link. You may need to login using the below credentials:\n",
        "\n",
        "[Accessing Edgar DB Examples](https://drive.google.com/file/d/13w75E5wanU46zSZR1cA0I2CRTshi7wzx/view?usp=sharing)\n",
        "\n",
        "#### MSBA Account Login to Gmail Info:\n",
        "* Email: financemsba@gmail.com\n",
        "* Password: qbH2jHq8sGN2KgE\n"
      ]
    },
    {
      "cell_type": "code",
      "execution_count": null,
      "metadata": {
        "id": "XrUSkxNraAUK"
      },
      "outputs": [],
      "source": [
        "# We need these packages to be installed, and they are not installed in collab by default.\n",
        "\n",
        "%%capture\n",
        "!pip install -i https://test.pypi.org/simple/ ut-msba-edgar-scraper\n",
        "!pip install faker\n",
        "!pip install pysentiment2"
      ]
    },
    {
      "cell_type": "code",
      "execution_count": null,
      "metadata": {
        "colab": {
          "base_uri": "https://localhost:8080/"
        },
        "id": "NHX0SGk599YE",
        "outputId": "ea0e1a99-2954-4df2-f37d-359b0fe8c824"
      },
      "outputs": [
        {
          "name": "stdout",
          "output_type": "stream",
          "text": [
            "Mounted at /content/drive\n"
          ]
        }
      ],
      "source": [
        "import pandas as pd\n",
        "from pathlib import Path\n",
        "import numpy as np\n",
        "import matplotlib.pyplot as plt\n",
        "\n",
        "from ut_msba_edgar_scraper import Downloader\n",
        "import ut_msba_edgar_scraper\n",
        "\n",
        "# Import all of the required stuff necessary for text analysis.\n",
        "import nltk\n",
        "nltk.download('punkt', quiet=True)\n",
        "nltk.download('stopwords', quiet=True)\n",
        "from nltk.corpus import stopwords\n",
        "from nltk.tokenize import sent_tokenize\n",
        "stop_words = set( stopwords.words('english'))\n",
        "\n",
        "from google.colab import drive\n",
        "drive.mount('/content/drive')"
      ]
    },
    {
      "cell_type": "code",
      "execution_count": null,
      "metadata": {
        "id": "Azux6uTX8xD2"
      },
      "outputs": [],
      "source": []
    },
    {
      "cell_type": "code",
      "execution_count": null,
      "metadata": {
        "colab": {
          "base_uri": "https://localhost:8080/",
          "height": 112
        },
        "id": "AYCNKk-Wr2ZV",
        "outputId": "a4e31be2-8dd4-47cb-ac2a-b961fb939878"
      },
      "outputs": [
        {
          "data": {
            "text/html": [
              "\n",
              "  <div id=\"df-6f8bca29-7e3a-41eb-b5c7-062d02675526\">\n",
              "    <div class=\"colab-df-container\">\n",
              "      <div>\n",
              "<style scoped>\n",
              "    .dataframe tbody tr th:only-of-type {\n",
              "        vertical-align: middle;\n",
              "    }\n",
              "\n",
              "    .dataframe tbody tr th {\n",
              "        vertical-align: top;\n",
              "    }\n",
              "\n",
              "    .dataframe thead th {\n",
              "        text-align: right;\n",
              "    }\n",
              "</style>\n",
              "<table border=\"1\" class=\"dataframe\">\n",
              "  <thead>\n",
              "    <tr style=\"text-align: right;\">\n",
              "      <th></th>\n",
              "      <th>gvkey</th>\n",
              "      <th>tic</th>\n",
              "      <th>conm</th>\n",
              "    </tr>\n",
              "  </thead>\n",
              "  <tbody>\n",
              "    <tr>\n",
              "      <th>0</th>\n",
              "      <td>61739</td>\n",
              "      <td>HIG</td>\n",
              "      <td>HARTFORD FINANCIAL SERVICES</td>\n",
              "    </tr>\n",
              "    <tr>\n",
              "      <th>1</th>\n",
              "      <td>1380</td>\n",
              "      <td>HES</td>\n",
              "      <td>HESS CORP</td>\n",
              "    </tr>\n",
              "  </tbody>\n",
              "</table>\n",
              "</div>\n",
              "      <button class=\"colab-df-convert\" onclick=\"convertToInteractive('df-6f8bca29-7e3a-41eb-b5c7-062d02675526')\"\n",
              "              title=\"Convert this dataframe to an interactive table.\"\n",
              "              style=\"display:none;\">\n",
              "        \n",
              "  <svg xmlns=\"http://www.w3.org/2000/svg\" height=\"24px\"viewBox=\"0 0 24 24\"\n",
              "       width=\"24px\">\n",
              "    <path d=\"M0 0h24v24H0V0z\" fill=\"none\"/>\n",
              "    <path d=\"M18.56 5.44l.94 2.06.94-2.06 2.06-.94-2.06-.94-.94-2.06-.94 2.06-2.06.94zm-11 1L8.5 8.5l.94-2.06 2.06-.94-2.06-.94L8.5 2.5l-.94 2.06-2.06.94zm10 10l.94 2.06.94-2.06 2.06-.94-2.06-.94-.94-2.06-.94 2.06-2.06.94z\"/><path d=\"M17.41 7.96l-1.37-1.37c-.4-.4-.92-.59-1.43-.59-.52 0-1.04.2-1.43.59L10.3 9.45l-7.72 7.72c-.78.78-.78 2.05 0 2.83L4 21.41c.39.39.9.59 1.41.59.51 0 1.02-.2 1.41-.59l7.78-7.78 2.81-2.81c.8-.78.8-2.07 0-2.86zM5.41 20L4 18.59l7.72-7.72 1.47 1.35L5.41 20z\"/>\n",
              "  </svg>\n",
              "      </button>\n",
              "      \n",
              "  <style>\n",
              "    .colab-df-container {\n",
              "      display:flex;\n",
              "      flex-wrap:wrap;\n",
              "      gap: 12px;\n",
              "    }\n",
              "\n",
              "    .colab-df-convert {\n",
              "      background-color: #E8F0FE;\n",
              "      border: none;\n",
              "      border-radius: 50%;\n",
              "      cursor: pointer;\n",
              "      display: none;\n",
              "      fill: #1967D2;\n",
              "      height: 32px;\n",
              "      padding: 0 0 0 0;\n",
              "      width: 32px;\n",
              "    }\n",
              "\n",
              "    .colab-df-convert:hover {\n",
              "      background-color: #E2EBFA;\n",
              "      box-shadow: 0px 1px 2px rgba(60, 64, 67, 0.3), 0px 1px 3px 1px rgba(60, 64, 67, 0.15);\n",
              "      fill: #174EA6;\n",
              "    }\n",
              "\n",
              "    [theme=dark] .colab-df-convert {\n",
              "      background-color: #3B4455;\n",
              "      fill: #D2E3FC;\n",
              "    }\n",
              "\n",
              "    [theme=dark] .colab-df-convert:hover {\n",
              "      background-color: #434B5C;\n",
              "      box-shadow: 0px 1px 3px 1px rgba(0, 0, 0, 0.15);\n",
              "      filter: drop-shadow(0px 1px 2px rgba(0, 0, 0, 0.3));\n",
              "      fill: #FFFFFF;\n",
              "    }\n",
              "  </style>\n",
              "\n",
              "      <script>\n",
              "        const buttonEl =\n",
              "          document.querySelector('#df-6f8bca29-7e3a-41eb-b5c7-062d02675526 button.colab-df-convert');\n",
              "        buttonEl.style.display =\n",
              "          google.colab.kernel.accessAllowed ? 'block' : 'none';\n",
              "\n",
              "        async function convertToInteractive(key) {\n",
              "          const element = document.querySelector('#df-6f8bca29-7e3a-41eb-b5c7-062d02675526');\n",
              "          const dataTable =\n",
              "            await google.colab.kernel.invokeFunction('convertToInteractive',\n",
              "                                                     [key], {});\n",
              "          if (!dataTable) return;\n",
              "\n",
              "          const docLinkHtml = 'Like what you see? Visit the ' +\n",
              "            '<a target=\"_blank\" href=https://colab.research.google.com/notebooks/data_table.ipynb>data table notebook</a>'\n",
              "            + ' to learn more about interactive tables.';\n",
              "          element.innerHTML = '';\n",
              "          dataTable['output_type'] = 'display_data';\n",
              "          await google.colab.output.renderOutput(dataTable, element);\n",
              "          const docLink = document.createElement('div');\n",
              "          docLink.innerHTML = docLinkHtml;\n",
              "          element.appendChild(docLink);\n",
              "        }\n",
              "      </script>\n",
              "    </div>\n",
              "  </div>\n",
              "  "
            ],
            "text/plain": [
              "   gvkey  tic                         conm\n",
              "0  61739  HIG  HARTFORD FINANCIAL SERVICES\n",
              "1   1380  HES                    HESS CORP"
            ]
          },
          "execution_count": 3,
          "metadata": {},
          "output_type": "execute_result"
        }
      ],
      "source": [
        "# Get S&P 500 memebrs\n",
        "sp_500_df = pd.read_csv('https://github.com/Brandt-moreThan4/Data/blob/main/sp_500_members.csv?raw=true')\n",
        "sp_500_df.head(2)"
      ]
    },
    {
      "cell_type": "code",
      "execution_count": null,
      "metadata": {
        "id": "BWfK0-dyH7qx"
      },
      "outputs": [],
      "source": []
    },
    {
      "cell_type": "code",
      "execution_count": null,
      "metadata": {
        "colab": {
          "base_uri": "https://localhost:8080/",
          "height": 129
        },
        "id": "7byBMUXYT4wq",
        "outputId": "4b8ab7da-f70b-41ff-952f-0762b3d8550d"
      },
      "outputs": [
        {
          "name": "stdout",
          "output_type": "stream",
          "text": [
            "(105066, 10)\n"
          ]
        },
        {
          "data": {
            "text/html": [
              "\n",
              "  <div id=\"df-6d8fe10c-12be-4e59-bc6f-bccd6e65be9b\">\n",
              "    <div class=\"colab-df-container\">\n",
              "      <div>\n",
              "<style scoped>\n",
              "    .dataframe tbody tr th:only-of-type {\n",
              "        vertical-align: middle;\n",
              "    }\n",
              "\n",
              "    .dataframe tbody tr th {\n",
              "        vertical-align: top;\n",
              "    }\n",
              "\n",
              "    .dataframe thead th {\n",
              "        text-align: right;\n",
              "    }\n",
              "</style>\n",
              "<table border=\"1\" class=\"dataframe\">\n",
              "  <thead>\n",
              "    <tr style=\"text-align: right;\">\n",
              "      <th></th>\n",
              "      <th>period_end_date</th>\n",
              "      <th>cik</th>\n",
              "      <th>cik_lookup</th>\n",
              "      <th>edgar_name</th>\n",
              "      <th>file_name_txt</th>\n",
              "      <th>report_type</th>\n",
              "      <th>gvkey</th>\n",
              "      <th>file_date</th>\n",
              "      <th>dd_year</th>\n",
              "      <th>dd_month</th>\n",
              "    </tr>\n",
              "  </thead>\n",
              "  <tbody>\n",
              "    <tr>\n",
              "      <th>20</th>\n",
              "      <td>2000-08-31</td>\n",
              "      <td>1750</td>\n",
              "      <td>1750</td>\n",
              "      <td>AAR CORP  (AIR)  (CIK 0000001750)</td>\n",
              "      <td>0000001004_2000-08-31_10-Q_0000912057-00-04471...</td>\n",
              "      <td>10-Q</td>\n",
              "      <td>1004</td>\n",
              "      <td>2000-10-13</td>\n",
              "      <td>2000</td>\n",
              "      <td>8</td>\n",
              "    </tr>\n",
              "    <tr>\n",
              "      <th>21</th>\n",
              "      <td>2000-11-30</td>\n",
              "      <td>1750</td>\n",
              "      <td>1750</td>\n",
              "      <td>AAR CORP  (AIR)  (CIK 0000001750)</td>\n",
              "      <td>0000001004_2000-11-30_10-Q_0000912057-01-00131...</td>\n",
              "      <td>10-Q</td>\n",
              "      <td>1004</td>\n",
              "      <td>2001-01-12</td>\n",
              "      <td>2000</td>\n",
              "      <td>11</td>\n",
              "    </tr>\n",
              "  </tbody>\n",
              "</table>\n",
              "</div>\n",
              "      <button class=\"colab-df-convert\" onclick=\"convertToInteractive('df-6d8fe10c-12be-4e59-bc6f-bccd6e65be9b')\"\n",
              "              title=\"Convert this dataframe to an interactive table.\"\n",
              "              style=\"display:none;\">\n",
              "        \n",
              "  <svg xmlns=\"http://www.w3.org/2000/svg\" height=\"24px\"viewBox=\"0 0 24 24\"\n",
              "       width=\"24px\">\n",
              "    <path d=\"M0 0h24v24H0V0z\" fill=\"none\"/>\n",
              "    <path d=\"M18.56 5.44l.94 2.06.94-2.06 2.06-.94-2.06-.94-.94-2.06-.94 2.06-2.06.94zm-11 1L8.5 8.5l.94-2.06 2.06-.94-2.06-.94L8.5 2.5l-.94 2.06-2.06.94zm10 10l.94 2.06.94-2.06 2.06-.94-2.06-.94-.94-2.06-.94 2.06-2.06.94z\"/><path d=\"M17.41 7.96l-1.37-1.37c-.4-.4-.92-.59-1.43-.59-.52 0-1.04.2-1.43.59L10.3 9.45l-7.72 7.72c-.78.78-.78 2.05 0 2.83L4 21.41c.39.39.9.59 1.41.59.51 0 1.02-.2 1.41-.59l7.78-7.78 2.81-2.81c.8-.78.8-2.07 0-2.86zM5.41 20L4 18.59l7.72-7.72 1.47 1.35L5.41 20z\"/>\n",
              "  </svg>\n",
              "      </button>\n",
              "      \n",
              "  <style>\n",
              "    .colab-df-container {\n",
              "      display:flex;\n",
              "      flex-wrap:wrap;\n",
              "      gap: 12px;\n",
              "    }\n",
              "\n",
              "    .colab-df-convert {\n",
              "      background-color: #E8F0FE;\n",
              "      border: none;\n",
              "      border-radius: 50%;\n",
              "      cursor: pointer;\n",
              "      display: none;\n",
              "      fill: #1967D2;\n",
              "      height: 32px;\n",
              "      padding: 0 0 0 0;\n",
              "      width: 32px;\n",
              "    }\n",
              "\n",
              "    .colab-df-convert:hover {\n",
              "      background-color: #E2EBFA;\n",
              "      box-shadow: 0px 1px 2px rgba(60, 64, 67, 0.3), 0px 1px 3px 1px rgba(60, 64, 67, 0.15);\n",
              "      fill: #174EA6;\n",
              "    }\n",
              "\n",
              "    [theme=dark] .colab-df-convert {\n",
              "      background-color: #3B4455;\n",
              "      fill: #D2E3FC;\n",
              "    }\n",
              "\n",
              "    [theme=dark] .colab-df-convert:hover {\n",
              "      background-color: #434B5C;\n",
              "      box-shadow: 0px 1px 3px 1px rgba(0, 0, 0, 0.15);\n",
              "      filter: drop-shadow(0px 1px 2px rgba(0, 0, 0, 0.3));\n",
              "      fill: #FFFFFF;\n",
              "    }\n",
              "  </style>\n",
              "\n",
              "      <script>\n",
              "        const buttonEl =\n",
              "          document.querySelector('#df-6d8fe10c-12be-4e59-bc6f-bccd6e65be9b button.colab-df-convert');\n",
              "        buttonEl.style.display =\n",
              "          google.colab.kernel.accessAllowed ? 'block' : 'none';\n",
              "\n",
              "        async function convertToInteractive(key) {\n",
              "          const element = document.querySelector('#df-6d8fe10c-12be-4e59-bc6f-bccd6e65be9b');\n",
              "          const dataTable =\n",
              "            await google.colab.kernel.invokeFunction('convertToInteractive',\n",
              "                                                     [key], {});\n",
              "          if (!dataTable) return;\n",
              "\n",
              "          const docLinkHtml = 'Like what you see? Visit the ' +\n",
              "            '<a target=\"_blank\" href=https://colab.research.google.com/notebooks/data_table.ipynb>data table notebook</a>'\n",
              "            + ' to learn more about interactive tables.';\n",
              "          element.innerHTML = '';\n",
              "          dataTable['output_type'] = 'display_data';\n",
              "          await google.colab.output.renderOutput(dataTable, element);\n",
              "          const docLink = document.createElement('div');\n",
              "          docLink.innerHTML = docLinkHtml;\n",
              "          element.appendChild(docLink);\n",
              "        }\n",
              "      </script>\n",
              "    </div>\n",
              "  </div>\n",
              "  "
            ],
            "text/plain": [
              "   period_end_date   cik  cik_lookup                         edgar_name  \\\n",
              "20      2000-08-31  1750        1750  AAR CORP  (AIR)  (CIK 0000001750)   \n",
              "21      2000-11-30  1750        1750  AAR CORP  (AIR)  (CIK 0000001750)   \n",
              "\n",
              "                                        file_name_txt report_type  gvkey  \\\n",
              "20  0000001004_2000-08-31_10-Q_0000912057-00-04471...        10-Q   1004   \n",
              "21  0000001004_2000-11-30_10-Q_0000912057-01-00131...        10-Q   1004   \n",
              "\n",
              "    file_date  dd_year  dd_month  \n",
              "20 2000-10-13     2000         8  \n",
              "21 2001-01-12     2000        11  "
            ]
          },
          "execution_count": 8,
          "metadata": {},
          "output_type": "execute_result"
        }
      ],
      "source": [
        "df_log = pd.read_csv('/content/drive/MyDrive/master_log.csv') # Read in the log\n",
        "df_log = df_log.iloc[:,1:] # Get rid of stupid index column\n",
        "\n",
        "df_log['period_end_date'] = pd.to_datetime(df_log['period_end_date'])\n",
        "df_log['file_date'] = pd.to_datetime(df_log['file_date']) \n",
        "df_log = df_log.sort_values(['gvkey','period_end_date'])\n",
        "\n",
        "# We need to merge by year and month, not the exact date, because sometimes the datadate in edgar is a day off from WRDS\n",
        "df_log['dd_year'] = df_log.period_end_date.dt.year\n",
        "df_log['dd_month'] = df_log.period_end_date.dt.month\n",
        "\n",
        "# Filter for successful scrapings only because those are the only filings you will actually find in the drive folder\n",
        "df_successes = df_log[df_log.success == True]\n",
        "# Get rid of useless columns\n",
        "df_successes = df_successes[['period_end_date', 'cik', 'cik_lookup', 'edgar_name',\n",
        "       'file_name_txt', 'report_type', 'gvkey', 'file_date', 'dd_year', 'dd_month']].copy()\n",
        "\n",
        "print(df_successes.shape)\n",
        "\n",
        "df_successes.head(2)"
      ]
    },
    {
      "cell_type": "code",
      "execution_count": null,
      "metadata": {
        "id": "A6r8CfOn_PSW"
      },
      "outputs": [],
      "source": [
        "# Log with only S&P 500 companies\n",
        "df_log_500 = df_successes[df_successes.gvkey.isin(sp_500_df.gvkey.unique())] "
      ]
    },
    {
      "cell_type": "code",
      "execution_count": null,
      "metadata": {
        "id": "btjOvtah-kVE"
      },
      "outputs": [],
      "source": []
    },
    {
      "cell_type": "code",
      "execution_count": null,
      "metadata": {
        "id": "-okcLKwp-kRu"
      },
      "outputs": [],
      "source": []
    },
    {
      "cell_type": "markdown",
      "metadata": {
        "id": "TU92VQFL9nm4"
      },
      "source": [
        "Create our helper functions here:"
      ]
    },
    {
      "cell_type": "code",
      "execution_count": null,
      "metadata": {
        "id": "0xUJc6gCyNNF"
      },
      "outputs": [],
      "source": [
        "def get_filing_text(file_name:str)->str:\n",
        "    \"\"\"Function to extract report text from drive, given a file name.\"\"\"\n",
        "    ROOT_FILE_PATH = '/content/drive/MyDrive/edgar_filings/'\n",
        "    with open(ROOT_FILE_PATH + file_name, 'r') as f:\n",
        "        return f.read()"
      ]
    },
    {
      "cell_type": "code",
      "execution_count": null,
      "metadata": {
        "colab": {
          "base_uri": "https://localhost:8080/",
          "height": 105
        },
        "id": "BFn1ySZf9wPR",
        "outputId": "a1ea1713-565d-4da5-b897-7aa1272c2ecd"
      },
      "outputs": [],
      "source": [
        "# Test to make sure that the drive is working this is so stupid, but sometimes you have to run this like 3 times to get it warmed up\n",
        "report_text = get_filing_text(df_successes[df_successes['gvkey'] == 1690].file_name_txt.iloc[1])\n",
        "report_text"
      ]
    },
    {
      "cell_type": "code",
      "execution_count": null,
      "metadata": {
        "id": "JgsO6Tj_9uTP"
      },
      "outputs": [],
      "source": []
    },
    {
      "cell_type": "markdown",
      "metadata": {
        "id": "-ONeRiC-__nO"
      },
      "source": [
        "This complicated stuff below is just to help extract out sentences from the report."
      ]
    },
    {
      "cell_type": "code",
      "execution_count": null,
      "metadata": {
        "id": "eeOVGLNKDsuo"
      },
      "outputs": [],
      "source": [
        "\n",
        "import re\n",
        "\n",
        "alphabets= \"([A-Za-z])\"\n",
        "prefixes = \"(Mr|St|Mrs|Ms|Dr)[.]\"\n",
        "suffixes = \"(Inc|Ltd|Jr|Sr|Co)\"\n",
        "starters = \"(Mr|Mrs|Ms|Dr|He\\s|She\\s|It\\s|They\\s|Their\\s|Our\\s|We\\s|But\\s|However\\s|That\\s|This\\s|Wherever)\"\n",
        "acronyms = \"([A-Z][.][A-Z][.](?:[A-Z][.])?)\"\n",
        "websites = \"[.](com|net|org|io|gov)\"\n",
        "\n",
        "def split_into_sentences(text:str) -> list:\n",
        "    \"\"\"Send in a block of text. Splits out a list of strings which are the sentences.\"\"\"\n",
        "    text = \" \" + text + \"  \"\n",
        "    text = text.replace(\"\\n\",\" \")\n",
        "    text = re.sub(prefixes,\"\\\\1<prd>\",text)\n",
        "    text = re.sub(websites,\"<prd>\\\\1\",text)\n",
        "    if \"Ph.D\" in text: text = text.replace(\"Ph.D.\",\"Ph<prd>D<prd>\")\n",
        "    text = re.sub(\"\\s\" + alphabets + \"[.] \",\" \\\\1<prd> \",text)\n",
        "    text = re.sub(acronyms+\" \"+starters,\"\\\\1<stop> \\\\2\",text)\n",
        "    text = re.sub(alphabets + \"[.]\" + alphabets + \"[.]\" + alphabets + \"[.]\",\"\\\\1<prd>\\\\2<prd>\\\\3<prd>\",text)\n",
        "    text = re.sub(alphabets + \"[.]\" + alphabets + \"[.]\",\"\\\\1<prd>\\\\2<prd>\",text)\n",
        "    text = re.sub(\" \"+suffixes+\"[.] \"+starters,\" \\\\1<stop> \\\\2\",text)\n",
        "    text = re.sub(\" \"+suffixes+\"[.]\",\" \\\\1<prd>\",text)\n",
        "    text = re.sub(\" \" + alphabets + \"[.]\",\" \\\\1<prd>\",text)\n",
        "    if \"”\" in text: text = text.replace(\".”\",\"”.\")\n",
        "    if \"\\\"\" in text: text = text.replace(\".\\\"\",\"\\\".\")\n",
        "    if \"!\" in text: text = text.replace(\"!\\\"\",\"\\\"!\")\n",
        "    if \"?\" in text: text = text.replace(\"?\\\"\",\"\\\"?\")\n",
        "    text = text.replace(\".\",\".<stop>\")\n",
        "    text = text.replace(\"?\",\"?<stop>\")\n",
        "    text = text.replace(\"!\",\"!<stop>\")\n",
        "    text = text.replace(\"<prd>\",\".\")\n",
        "    text = text.lower()\n",
        "    sentences = text.split(\"<stop>\")\n",
        "    sentences = sentences[:-1]\n",
        "    sentences = [s.strip() for s in sentences]\n",
        "    \n",
        "    return sentences"
      ]
    },
    {
      "cell_type": "code",
      "execution_count": null,
      "metadata": {
        "colab": {
          "base_uri": "https://localhost:8080/",
          "height": 206
        },
        "id": "_-dIcTcDwNvo",
        "outputId": "519ac16c-bdd9-4d36-e102-77d1d05d0605"
      },
      "outputs": [
        {
          "data": {
            "text/html": [
              "\n",
              "  <div id=\"df-0a195e54-bde9-4b13-b093-0dbb9618d7e1\">\n",
              "    <div class=\"colab-df-container\">\n",
              "      <div>\n",
              "<style scoped>\n",
              "    .dataframe tbody tr th:only-of-type {\n",
              "        vertical-align: middle;\n",
              "    }\n",
              "\n",
              "    .dataframe tbody tr th {\n",
              "        vertical-align: top;\n",
              "    }\n",
              "\n",
              "    .dataframe thead th {\n",
              "        text-align: right;\n",
              "    }\n",
              "</style>\n",
              "<table border=\"1\" class=\"dataframe\">\n",
              "  <thead>\n",
              "    <tr style=\"text-align: right;\">\n",
              "      <th></th>\n",
              "      <th>countries</th>\n",
              "      <th>regions</th>\n",
              "      <th>international</th>\n",
              "      <th>revenue</th>\n",
              "      <th>expense</th>\n",
              "      <th>growth</th>\n",
              "      <th>caution</th>\n",
              "    </tr>\n",
              "  </thead>\n",
              "  <tbody>\n",
              "    <tr>\n",
              "      <th>0</th>\n",
              "      <td>Afghanistan</td>\n",
              "      <td>asia</td>\n",
              "      <td>exchange rate</td>\n",
              "      <td>revenue</td>\n",
              "      <td>expense</td>\n",
              "      <td>increase</td>\n",
              "      <td>reduc</td>\n",
              "    </tr>\n",
              "    <tr>\n",
              "      <th>1</th>\n",
              "      <td>Albania</td>\n",
              "      <td>africa</td>\n",
              "      <td>u.s dollar</td>\n",
              "      <td>sales</td>\n",
              "      <td>cost</td>\n",
              "      <td>higher</td>\n",
              "      <td>decrease</td>\n",
              "    </tr>\n",
              "    <tr>\n",
              "      <th>2</th>\n",
              "      <td>Algeria</td>\n",
              "      <td>U.K.</td>\n",
              "      <td>foreign</td>\n",
              "      <td>profit</td>\n",
              "      <td>fees</td>\n",
              "      <td>double</td>\n",
              "      <td>decline</td>\n",
              "    </tr>\n",
              "    <tr>\n",
              "      <th>3</th>\n",
              "      <td>Andorra</td>\n",
              "      <td>americas</td>\n",
              "      <td>yuan</td>\n",
              "      <td>margin</td>\n",
              "      <td>loss</td>\n",
              "      <td>grow</td>\n",
              "      <td>lower</td>\n",
              "    </tr>\n",
              "    <tr>\n",
              "      <th>4</th>\n",
              "      <td>Angola</td>\n",
              "      <td>middle east</td>\n",
              "      <td>pound</td>\n",
              "      <td>income</td>\n",
              "      <td>tax</td>\n",
              "      <td>NaN</td>\n",
              "      <td>NaN</td>\n",
              "    </tr>\n",
              "  </tbody>\n",
              "</table>\n",
              "</div>\n",
              "      <button class=\"colab-df-convert\" onclick=\"convertToInteractive('df-0a195e54-bde9-4b13-b093-0dbb9618d7e1')\"\n",
              "              title=\"Convert this dataframe to an interactive table.\"\n",
              "              style=\"display:none;\">\n",
              "        \n",
              "  <svg xmlns=\"http://www.w3.org/2000/svg\" height=\"24px\"viewBox=\"0 0 24 24\"\n",
              "       width=\"24px\">\n",
              "    <path d=\"M0 0h24v24H0V0z\" fill=\"none\"/>\n",
              "    <path d=\"M18.56 5.44l.94 2.06.94-2.06 2.06-.94-2.06-.94-.94-2.06-.94 2.06-2.06.94zm-11 1L8.5 8.5l.94-2.06 2.06-.94-2.06-.94L8.5 2.5l-.94 2.06-2.06.94zm10 10l.94 2.06.94-2.06 2.06-.94-2.06-.94-.94-2.06-.94 2.06-2.06.94z\"/><path d=\"M17.41 7.96l-1.37-1.37c-.4-.4-.92-.59-1.43-.59-.52 0-1.04.2-1.43.59L10.3 9.45l-7.72 7.72c-.78.78-.78 2.05 0 2.83L4 21.41c.39.39.9.59 1.41.59.51 0 1.02-.2 1.41-.59l7.78-7.78 2.81-2.81c.8-.78.8-2.07 0-2.86zM5.41 20L4 18.59l7.72-7.72 1.47 1.35L5.41 20z\"/>\n",
              "  </svg>\n",
              "      </button>\n",
              "      \n",
              "  <style>\n",
              "    .colab-df-container {\n",
              "      display:flex;\n",
              "      flex-wrap:wrap;\n",
              "      gap: 12px;\n",
              "    }\n",
              "\n",
              "    .colab-df-convert {\n",
              "      background-color: #E8F0FE;\n",
              "      border: none;\n",
              "      border-radius: 50%;\n",
              "      cursor: pointer;\n",
              "      display: none;\n",
              "      fill: #1967D2;\n",
              "      height: 32px;\n",
              "      padding: 0 0 0 0;\n",
              "      width: 32px;\n",
              "    }\n",
              "\n",
              "    .colab-df-convert:hover {\n",
              "      background-color: #E2EBFA;\n",
              "      box-shadow: 0px 1px 2px rgba(60, 64, 67, 0.3), 0px 1px 3px 1px rgba(60, 64, 67, 0.15);\n",
              "      fill: #174EA6;\n",
              "    }\n",
              "\n",
              "    [theme=dark] .colab-df-convert {\n",
              "      background-color: #3B4455;\n",
              "      fill: #D2E3FC;\n",
              "    }\n",
              "\n",
              "    [theme=dark] .colab-df-convert:hover {\n",
              "      background-color: #434B5C;\n",
              "      box-shadow: 0px 1px 3px 1px rgba(0, 0, 0, 0.15);\n",
              "      filter: drop-shadow(0px 1px 2px rgba(0, 0, 0, 0.3));\n",
              "      fill: #FFFFFF;\n",
              "    }\n",
              "  </style>\n",
              "\n",
              "      <script>\n",
              "        const buttonEl =\n",
              "          document.querySelector('#df-0a195e54-bde9-4b13-b093-0dbb9618d7e1 button.colab-df-convert');\n",
              "        buttonEl.style.display =\n",
              "          google.colab.kernel.accessAllowed ? 'block' : 'none';\n",
              "\n",
              "        async function convertToInteractive(key) {\n",
              "          const element = document.querySelector('#df-0a195e54-bde9-4b13-b093-0dbb9618d7e1');\n",
              "          const dataTable =\n",
              "            await google.colab.kernel.invokeFunction('convertToInteractive',\n",
              "                                                     [key], {});\n",
              "          if (!dataTable) return;\n",
              "\n",
              "          const docLinkHtml = 'Like what you see? Visit the ' +\n",
              "            '<a target=\"_blank\" href=https://colab.research.google.com/notebooks/data_table.ipynb>data table notebook</a>'\n",
              "            + ' to learn more about interactive tables.';\n",
              "          element.innerHTML = '';\n",
              "          dataTable['output_type'] = 'display_data';\n",
              "          await google.colab.output.renderOutput(dataTable, element);\n",
              "          const docLink = document.createElement('div');\n",
              "          docLink.innerHTML = docLinkHtml;\n",
              "          element.appendChild(docLink);\n",
              "        }\n",
              "      </script>\n",
              "    </div>\n",
              "  </div>\n",
              "  "
            ],
            "text/plain": [
              "     countries      regions  international  revenue  expense    growth  \\\n",
              "0  Afghanistan         asia  exchange rate  revenue  expense  increase   \n",
              "1      Albania       africa     u.s dollar    sales     cost    higher   \n",
              "2      Algeria         U.K.        foreign   profit     fees    double   \n",
              "3      Andorra     americas           yuan   margin     loss      grow   \n",
              "4       Angola  middle east          pound   income      tax       NaN   \n",
              "\n",
              "    caution  \n",
              "0     reduc  \n",
              "1  decrease  \n",
              "2   decline  \n",
              "3     lower  \n",
              "4       NaN  "
            ]
          },
          "execution_count": 11,
          "metadata": {},
          "output_type": "execute_result"
        }
      ],
      "source": [
        "df_dict = pd.read_csv('https://github.com/Brandt-moreThan4/Data/blob/main/words_dict.csv?raw=True')\n",
        "df_dict.head()"
      ]
    },
    {
      "cell_type": "code",
      "execution_count": null,
      "metadata": {
        "colab": {
          "base_uri": "https://localhost:8080/"
        },
        "id": "mhjsck0-z8mw",
        "outputId": "4d1e7087-3b37-4ae0-85b1-3ec0b7410bc3"
      },
      "outputs": [
        {
          "data": {
            "text/plain": [
              "['revenue', 'sales', 'profit', 'margin', 'income', 'earnings', 'demand']"
            ]
          },
          "execution_count": 12,
          "metadata": {},
          "output_type": "execute_result"
        }
      ],
      "source": [
        "dict_international, dict_revenue, dict_expense, dict_growth, dict_caution = [],[],[],[],[]\n",
        "\n",
        "dict_international.extend(df_dict['countries'].dropna().str.lower().tolist())\n",
        "dict_international.extend(df_dict['regions'].dropna().str.lower().tolist())\n",
        "dict_international.extend(df_dict['international'].dropna().str.lower().tolist())\n",
        "\n",
        "dict_revenue.extend(df_dict['revenue'].dropna().str.lower().tolist())\n",
        "dict_expense.extend(df_dict['expense'].dropna().str.lower().tolist())\n",
        "dict_growth.extend(df_dict['growth'].dropna().str.lower().tolist())\n",
        "dict_caution.extend(df_dict['caution'].dropna().str.lower().tolist())\n",
        "\n",
        "# dict_international\n",
        "# dict_caution\n",
        "# dict_expense\n",
        "# dict_growth\n",
        "dict_revenue"
      ]
    },
    {
      "cell_type": "code",
      "execution_count": null,
      "metadata": {
        "id": "vmg-oCtaxZyn"
      },
      "outputs": [],
      "source": []
    },
    {
      "cell_type": "markdown",
      "metadata": {
        "id": "sVJMwA_GEbPU"
      },
      "source": [
        "## Now for the fun:"
      ]
    },
    {
      "cell_type": "code",
      "execution_count": null,
      "metadata": {
        "id": "ASge5yOHOmGV"
      },
      "outputs": [],
      "source": [
        "# Run this line if you want to load in half completed results df\n",
        "# df_results = pd.read_csv('/content/drive/MyDrive/Bull_Stearns/sp_word_counts_master.csv')\n",
        "# df_results.head()"
      ]
    },
    {
      "cell_type": "code",
      "execution_count": null,
      "metadata": {
        "colab": {
          "base_uri": "https://localhost:8080/"
        },
        "id": "NpZmsJiP8Iwc",
        "outputId": "43fe7511-56f0-4bf2-be4f-6c5941ef735b"
      },
      "outputs": [
        {
          "name": "stdout",
          "output_type": "stream",
          "text": [
            "282\n"
          ]
        },
        {
          "data": {
            "text/plain": [
              "array([1045, 1075, 1078, 1161, 1209])"
            ]
          },
          "execution_count": 15,
          "metadata": {},
          "output_type": "execute_result"
        }
      ],
      "source": [
        "gvkeys = df_log_500.gvkey.unique()\n",
        "print(len(gvkeys))\n",
        "gvkeys[:5]"
      ]
    },
    {
      "cell_type": "markdown",
      "metadata": {
        "id": "H_7D_MRsDrAo"
      },
      "source": [
        "### Google Drive Text Extraction"
      ]
    },
    {
      "cell_type": "code",
      "execution_count": null,
      "metadata": {
        "id": "-y5nbzI_Gaj5"
      },
      "outputs": [],
      "source": [
        "# from tqdm import tqdm\n",
        "# from nltk.tokenize import sent_tokenize\n",
        "\n",
        "company_count = 0\n",
        "df_results = pd.DataFrame(columns = ['gvkey','data_date','file_date','type','international_count','rev_growth_count', 'rev_slow_count', 'expense_growth_count',' expense_slow_count'])\n",
        "\n",
        "for gv in gvkeys:\n",
        "# for gv in [1690]: # Apple\n",
        "\n",
        "    print('\\nGVKEY:', gv)\n",
        "    df_temp = df_successes[df_successes['gvkey'] == gv] \n",
        "    for f in range(len(df_temp)):\n",
        "        try:\n",
        "            data_date = df_temp.period_end_date.iloc[f] # I'm pretty sure we want this to be data date. not dile date. For the merge. We should attach file date on as another column though.\n",
        "            rep_type = df_temp.report_type.iloc[f]\n",
        "            file_date = df_temp.file_date.iloc[f]\n",
        "        \n",
        "            report_text = get_filing_text(df_temp.file_name_txt.iloc[f])\n",
        "\n",
        "            text_lowered = report_text.lower() # We don't want to be case sensitive\n",
        "            count_international = sum([text_lowered.count(phrase) for phrase in dict_international])\n",
        "\n",
        "            # We do want to send in the raw , because I think the upper case helps the tokenizer decipher certain strings?\n",
        "            sentences = split_into_sentences(report_text) # This function also lower cases.\n",
        "\n",
        "            # Now count how many sentences fall into weach bucket\n",
        "            rev_growth_count, rev_slow_count, expense_growth_count, expense_slow_count = 0,0,0,0\n",
        "            for s in sentences:\n",
        "                rev_count = sum([s.count(phrase) for phrase in dict_revenue])\n",
        "                exp_count = sum([s.count(phrase) for phrase in dict_expense])\n",
        "                gro_count = sum([s.count(phrase) for phrase in dict_growth])\n",
        "                cau_count = sum([s.count(phrase) for phrase in dict_caution])\n",
        "\n",
        "\n",
        "                net_rev_count = rev_count - exp_count\n",
        "                net_growth_count = gro_count - cau_count            \n",
        "\n",
        "                if net_rev_count > 0 and net_growth_count > 0:\n",
        "                    rev_growth_count += 1\n",
        "                elif net_rev_count > 0 and net_growth_count < 0:\n",
        "                    rev_slow_count += 1\n",
        "                elif net_rev_count < 0 and net_growth_count > 0:\n",
        "                    expense_growth_count += 1\n",
        "                elif net_rev_count < 0 and net_growth_count < 0:\n",
        "                    expense_slow_count += 1                                                        \n",
        "\n",
        "\n",
        "            df_results.loc[len(df_results)] = [gv,data_date,file_date,rep_type,count_international,rev_growth_count, rev_slow_count, expense_growth_count, expense_slow_count]\n",
        "\n",
        "        except Exception:\n",
        "            print(f'Error for {gv}, {data_date}, {rep_type}')\n",
        "            pass\n",
        "\n",
        "    company_count += 1\n",
        "    if company_count % 5 == 0:\n",
        "        df_results.to_csv(f'/content/drive/MyDrive/Bull_Stearns/sp_word_counts_{company_count}.csv',index=False)\n",
        "        df_results.to_csv(f'sp_word_counts_{company_count}.csv',index=False)\n",
        "\n",
        "\n",
        "df_results[['international_count','rev_growth_count', 'rev_slow_count', 'expense_growth_count',' expense_slow_count']] = df_results[['international_count','rev_growth_count', 'rev_slow_count', 'expense_growth_count',' expense_slow_count']].astype(int)\n",
        "df_results.to_csv(f'sp_word_counts_{company_count}.csv',index=False)\n",
        "\n",
        "df_results.to_csv(f'/content/drive/MyDrive/Bull_Stearns/sp_word_counts_master.csv',index=False)"
      ]
    },
    {
      "cell_type": "code",
      "execution_count": null,
      "metadata": {
        "colab": {
          "base_uri": "https://localhost:8080/",
          "height": 423
        },
        "id": "LWR3d0JLIUsl",
        "outputId": "75a30bcb-e795-4424-971f-cde99d6d346e"
      },
      "outputs": [
        {
          "data": {
            "text/html": [
              "\n",
              "  <div id=\"df-0abe0459-06f2-4ca0-a983-56647a3d06b8\">\n",
              "    <div class=\"colab-df-container\">\n",
              "      <div>\n",
              "<style scoped>\n",
              "    .dataframe tbody tr th:only-of-type {\n",
              "        vertical-align: middle;\n",
              "    }\n",
              "\n",
              "    .dataframe tbody tr th {\n",
              "        vertical-align: top;\n",
              "    }\n",
              "\n",
              "    .dataframe thead th {\n",
              "        text-align: right;\n",
              "    }\n",
              "</style>\n",
              "<table border=\"1\" class=\"dataframe\">\n",
              "  <thead>\n",
              "    <tr style=\"text-align: right;\">\n",
              "      <th></th>\n",
              "      <th>gvkey</th>\n",
              "      <th>data_date</th>\n",
              "      <th>file_date</th>\n",
              "      <th>type</th>\n",
              "      <th>international_count</th>\n",
              "      <th>rev_growth_count</th>\n",
              "      <th>rev_slow_count</th>\n",
              "      <th>expense_growth_count</th>\n",
              "      <th>expense_slow_count</th>\n",
              "    </tr>\n",
              "  </thead>\n",
              "  <tbody>\n",
              "    <tr>\n",
              "      <th>0</th>\n",
              "      <td>1045</td>\n",
              "      <td>2000-06-30</td>\n",
              "      <td>2000-07-28</td>\n",
              "      <td>10-Q</td>\n",
              "      <td>14</td>\n",
              "      <td>17</td>\n",
              "      <td>3</td>\n",
              "      <td>14</td>\n",
              "      <td>0</td>\n",
              "    </tr>\n",
              "    <tr>\n",
              "      <th>1</th>\n",
              "      <td>1045</td>\n",
              "      <td>2001-03-31</td>\n",
              "      <td>2001-04-24</td>\n",
              "      <td>10-Q</td>\n",
              "      <td>15</td>\n",
              "      <td>4</td>\n",
              "      <td>6</td>\n",
              "      <td>11</td>\n",
              "      <td>1</td>\n",
              "    </tr>\n",
              "    <tr>\n",
              "      <th>2</th>\n",
              "      <td>1045</td>\n",
              "      <td>2001-06-30</td>\n",
              "      <td>2001-08-13</td>\n",
              "      <td>10-Q</td>\n",
              "      <td>14</td>\n",
              "      <td>9</td>\n",
              "      <td>10</td>\n",
              "      <td>20</td>\n",
              "      <td>3</td>\n",
              "    </tr>\n",
              "    <tr>\n",
              "      <th>3</th>\n",
              "      <td>1045</td>\n",
              "      <td>2001-09-30</td>\n",
              "      <td>2001-10-25</td>\n",
              "      <td>10-Q</td>\n",
              "      <td>17</td>\n",
              "      <td>1</td>\n",
              "      <td>14</td>\n",
              "      <td>24</td>\n",
              "      <td>9</td>\n",
              "    </tr>\n",
              "    <tr>\n",
              "      <th>4</th>\n",
              "      <td>1045</td>\n",
              "      <td>2002-03-31</td>\n",
              "      <td>2002-04-18</td>\n",
              "      <td>10-Q</td>\n",
              "      <td>8</td>\n",
              "      <td>0</td>\n",
              "      <td>9</td>\n",
              "      <td>11</td>\n",
              "      <td>2</td>\n",
              "    </tr>\n",
              "    <tr>\n",
              "      <th>...</th>\n",
              "      <td>...</td>\n",
              "      <td>...</td>\n",
              "      <td>...</td>\n",
              "      <td>...</td>\n",
              "      <td>...</td>\n",
              "      <td>...</td>\n",
              "      <td>...</td>\n",
              "      <td>...</td>\n",
              "      <td>...</td>\n",
              "    </tr>\n",
              "    <tr>\n",
              "      <th>21496</th>\n",
              "      <td>189491</td>\n",
              "      <td>2020-12-31</td>\n",
              "      <td>2021-02-26</td>\n",
              "      <td>10-K</td>\n",
              "      <td>302</td>\n",
              "      <td>26</td>\n",
              "      <td>37</td>\n",
              "      <td>34</td>\n",
              "      <td>28</td>\n",
              "    </tr>\n",
              "    <tr>\n",
              "      <th>21497</th>\n",
              "      <td>189491</td>\n",
              "      <td>2021-03-31</td>\n",
              "      <td>2021-05-04</td>\n",
              "      <td>10-Q</td>\n",
              "      <td>114</td>\n",
              "      <td>37</td>\n",
              "      <td>2</td>\n",
              "      <td>12</td>\n",
              "      <td>9</td>\n",
              "    </tr>\n",
              "    <tr>\n",
              "      <th>21498</th>\n",
              "      <td>189491</td>\n",
              "      <td>2021-06-30</td>\n",
              "      <td>2021-08-03</td>\n",
              "      <td>10-Q</td>\n",
              "      <td>147</td>\n",
              "      <td>58</td>\n",
              "      <td>0</td>\n",
              "      <td>15</td>\n",
              "      <td>10</td>\n",
              "    </tr>\n",
              "    <tr>\n",
              "      <th>21499</th>\n",
              "      <td>189491</td>\n",
              "      <td>2021-09-30</td>\n",
              "      <td>2021-11-02</td>\n",
              "      <td>10-Q</td>\n",
              "      <td>153</td>\n",
              "      <td>55</td>\n",
              "      <td>6</td>\n",
              "      <td>18</td>\n",
              "      <td>12</td>\n",
              "    </tr>\n",
              "    <tr>\n",
              "      <th>21500</th>\n",
              "      <td>189491</td>\n",
              "      <td>2021-12-31</td>\n",
              "      <td>2022-02-25</td>\n",
              "      <td>10-K</td>\n",
              "      <td>300</td>\n",
              "      <td>66</td>\n",
              "      <td>10</td>\n",
              "      <td>37</td>\n",
              "      <td>18</td>\n",
              "    </tr>\n",
              "  </tbody>\n",
              "</table>\n",
              "<p>21501 rows × 9 columns</p>\n",
              "</div>\n",
              "      <button class=\"colab-df-convert\" onclick=\"convertToInteractive('df-0abe0459-06f2-4ca0-a983-56647a3d06b8')\"\n",
              "              title=\"Convert this dataframe to an interactive table.\"\n",
              "              style=\"display:none;\">\n",
              "        \n",
              "  <svg xmlns=\"http://www.w3.org/2000/svg\" height=\"24px\"viewBox=\"0 0 24 24\"\n",
              "       width=\"24px\">\n",
              "    <path d=\"M0 0h24v24H0V0z\" fill=\"none\"/>\n",
              "    <path d=\"M18.56 5.44l.94 2.06.94-2.06 2.06-.94-2.06-.94-.94-2.06-.94 2.06-2.06.94zm-11 1L8.5 8.5l.94-2.06 2.06-.94-2.06-.94L8.5 2.5l-.94 2.06-2.06.94zm10 10l.94 2.06.94-2.06 2.06-.94-2.06-.94-.94-2.06-.94 2.06-2.06.94z\"/><path d=\"M17.41 7.96l-1.37-1.37c-.4-.4-.92-.59-1.43-.59-.52 0-1.04.2-1.43.59L10.3 9.45l-7.72 7.72c-.78.78-.78 2.05 0 2.83L4 21.41c.39.39.9.59 1.41.59.51 0 1.02-.2 1.41-.59l7.78-7.78 2.81-2.81c.8-.78.8-2.07 0-2.86zM5.41 20L4 18.59l7.72-7.72 1.47 1.35L5.41 20z\"/>\n",
              "  </svg>\n",
              "      </button>\n",
              "      \n",
              "  <style>\n",
              "    .colab-df-container {\n",
              "      display:flex;\n",
              "      flex-wrap:wrap;\n",
              "      gap: 12px;\n",
              "    }\n",
              "\n",
              "    .colab-df-convert {\n",
              "      background-color: #E8F0FE;\n",
              "      border: none;\n",
              "      border-radius: 50%;\n",
              "      cursor: pointer;\n",
              "      display: none;\n",
              "      fill: #1967D2;\n",
              "      height: 32px;\n",
              "      padding: 0 0 0 0;\n",
              "      width: 32px;\n",
              "    }\n",
              "\n",
              "    .colab-df-convert:hover {\n",
              "      background-color: #E2EBFA;\n",
              "      box-shadow: 0px 1px 2px rgba(60, 64, 67, 0.3), 0px 1px 3px 1px rgba(60, 64, 67, 0.15);\n",
              "      fill: #174EA6;\n",
              "    }\n",
              "\n",
              "    [theme=dark] .colab-df-convert {\n",
              "      background-color: #3B4455;\n",
              "      fill: #D2E3FC;\n",
              "    }\n",
              "\n",
              "    [theme=dark] .colab-df-convert:hover {\n",
              "      background-color: #434B5C;\n",
              "      box-shadow: 0px 1px 3px 1px rgba(0, 0, 0, 0.15);\n",
              "      filter: drop-shadow(0px 1px 2px rgba(0, 0, 0, 0.3));\n",
              "      fill: #FFFFFF;\n",
              "    }\n",
              "  </style>\n",
              "\n",
              "      <script>\n",
              "        const buttonEl =\n",
              "          document.querySelector('#df-0abe0459-06f2-4ca0-a983-56647a3d06b8 button.colab-df-convert');\n",
              "        buttonEl.style.display =\n",
              "          google.colab.kernel.accessAllowed ? 'block' : 'none';\n",
              "\n",
              "        async function convertToInteractive(key) {\n",
              "          const element = document.querySelector('#df-0abe0459-06f2-4ca0-a983-56647a3d06b8');\n",
              "          const dataTable =\n",
              "            await google.colab.kernel.invokeFunction('convertToInteractive',\n",
              "                                                     [key], {});\n",
              "          if (!dataTable) return;\n",
              "\n",
              "          const docLinkHtml = 'Like what you see? Visit the ' +\n",
              "            '<a target=\"_blank\" href=https://colab.research.google.com/notebooks/data_table.ipynb>data table notebook</a>'\n",
              "            + ' to learn more about interactive tables.';\n",
              "          element.innerHTML = '';\n",
              "          dataTable['output_type'] = 'display_data';\n",
              "          await google.colab.output.renderOutput(dataTable, element);\n",
              "          const docLink = document.createElement('div');\n",
              "          docLink.innerHTML = docLinkHtml;\n",
              "          element.appendChild(docLink);\n",
              "        }\n",
              "      </script>\n",
              "    </div>\n",
              "  </div>\n",
              "  "
            ],
            "text/plain": [
              "        gvkey  data_date  file_date  type  international_count  \\\n",
              "0        1045 2000-06-30 2000-07-28  10-Q                   14   \n",
              "1        1045 2001-03-31 2001-04-24  10-Q                   15   \n",
              "2        1045 2001-06-30 2001-08-13  10-Q                   14   \n",
              "3        1045 2001-09-30 2001-10-25  10-Q                   17   \n",
              "4        1045 2002-03-31 2002-04-18  10-Q                    8   \n",
              "...       ...        ...        ...   ...                  ...   \n",
              "21496  189491 2020-12-31 2021-02-26  10-K                  302   \n",
              "21497  189491 2021-03-31 2021-05-04  10-Q                  114   \n",
              "21498  189491 2021-06-30 2021-08-03  10-Q                  147   \n",
              "21499  189491 2021-09-30 2021-11-02  10-Q                  153   \n",
              "21500  189491 2021-12-31 2022-02-25  10-K                  300   \n",
              "\n",
              "       rev_growth_count  rev_slow_count  expense_growth_count  \\\n",
              "0                    17               3                    14   \n",
              "1                     4               6                    11   \n",
              "2                     9              10                    20   \n",
              "3                     1              14                    24   \n",
              "4                     0               9                    11   \n",
              "...                 ...             ...                   ...   \n",
              "21496                26              37                    34   \n",
              "21497                37               2                    12   \n",
              "21498                58               0                    15   \n",
              "21499                55               6                    18   \n",
              "21500                66              10                    37   \n",
              "\n",
              "        expense_slow_count  \n",
              "0                        0  \n",
              "1                        1  \n",
              "2                        3  \n",
              "3                        9  \n",
              "4                        2  \n",
              "...                    ...  \n",
              "21496                   28  \n",
              "21497                    9  \n",
              "21498                   10  \n",
              "21499                   12  \n",
              "21500                   18  \n",
              "\n",
              "[21501 rows x 9 columns]"
            ]
          },
          "execution_count": 233,
          "metadata": {},
          "output_type": "execute_result"
        }
      ],
      "source": [
        "df_results"
      ]
    },
    {
      "cell_type": "markdown",
      "metadata": {
        "id": "IVwkNh9eD7mW"
      },
      "source": [
        "### JIT Text Extraction\n",
        "\n",
        "Unfortunately, not all filings can be found in the drive, so we ran the JIT scraper to grab the rest. Running the below cell will probabbly take around 10 hours."
      ]
    },
    {
      "cell_type": "code",
      "execution_count": null,
      "metadata": {
        "colab": {
          "base_uri": "https://localhost:8080/"
        },
        "id": "r_CSH8IcEv-x",
        "outputId": "f376f0f6-b2ca-42b4-bd42-fdc3cc2eb36e"
      },
      "outputs": [
        {
          "name": "stdout",
          "output_type": "stream",
          "text": [
            "(2, 3)\n",
            "497\n"
          ]
        }
      ],
      "source": [
        "df_500_no_results = sp_500_df[~sp_500_df.gvkey.isin(df_results.gvkey.unique())] # Ignore companies we already have results for\n",
        "gvkeys = df_500_no_results.gvkey.unique()\n",
        "\n",
        "print(df_500_no_results.shape)\n",
        "\n",
        "gvkeys = sorted(sp_500_df.gvkey.unique()) # Let's try everything again\n",
        "print(len(gvkeys))\n",
        "# gvkeys"
      ]
    },
    {
      "cell_type": "code",
      "execution_count": null,
      "metadata": {
        "id": "z4BZI0fzEEQP"
      },
      "outputs": [],
      "source": [
        "downloader = Downloader() # This is the object that drives the JIT scraper. # This is our backup option if a particular file is not in the drive.\n",
        "company_count = df_results.gvkey.nunique() # How many companies are currently in the results file\n",
        "\n",
        "# for gv in [1380]: \n",
        "for gv in gvkeys:        \n",
        "    print('\\nGVKEY:', gv)\n",
        "\n",
        "    try: \n",
        "        df_gv = df_results[df_results.gvkey == gv] # Look at the reports we have for this gvkey\n",
        "        filings_10_ks = downloader.get_filings('10-K', str(gv),before='2021-01-01')\n",
        "        filings_10_qs = downloader.get_filings('10-Q', str(gv),before='2021-01-01')\n",
        "        all_filings = filings_10_ks + filings_10_qs\n",
        "\n",
        "        for f in all_filings:\n",
        "            try:\n",
        "                if f.data_date in df_gv.data_date.values:\n",
        "                    continue # Don't re-donwload this report\n",
        "\n",
        "                data_date = f.data_date # I'm pretty sure we want this to be data date. not dile date. For the merge. We should attach file date on as another column though.\n",
        "                rep_type = f.report_type\n",
        "                file_date = f.file_date\n",
        "\n",
        "                report_text = f.get_report(type='text') \n",
        "                if report_text is None:\n",
        "                    continue\n",
        "\n",
        "                text_lowered = report_text.lower() # We don't want to be case sensitive\n",
        "                count_international = sum([text_lowered.count(phrase) for phrase in dict_international])\n",
        "\n",
        "                # We do want to send in the raw , because I think the upper case helps the tokenizer decipher certain strings?\n",
        "                sentences = split_into_sentences(report_text) # This function also lower cases.\n",
        "\n",
        "                # Now count how many sentences fall into weach bucket\n",
        "                rev_growth_count, rev_slow_count, expense_growth_count, expense_slow_count = 0,0,0,0\n",
        "                for s in sentences:\n",
        "                    rev_count = sum([s.count(phrase) for phrase in dict_revenue])\n",
        "                    exp_count = sum([s.count(phrase) for phrase in dict_expense])\n",
        "                    gro_count = sum([s.count(phrase) for phrase in dict_growth])\n",
        "                    cau_count = sum([s.count(phrase) for phrase in dict_caution])\n",
        "\n",
        "\n",
        "                    net_rev_count = rev_count - exp_count\n",
        "                    net_growth_count = gro_count - cau_count            \n",
        "\n",
        "                    if net_rev_count > 0 and net_growth_count > 0:\n",
        "                        rev_growth_count += 1\n",
        "                    elif net_rev_count > 0 and net_growth_count < 0:\n",
        "                        rev_slow_count += 1\n",
        "                    elif net_rev_count < 0 and net_growth_count > 0:\n",
        "                        expense_growth_count += 1\n",
        "                    elif net_rev_count < 0 and net_growth_count < 0:\n",
        "                        expense_slow_count += 1                                                        \n",
        "\n",
        "\n",
        "                df_results.loc[len(df_results)] = [gv,data_date,file_date,rep_type,count_international,rev_growth_count, rev_slow_count, expense_growth_count, expense_slow_count]\n",
        "\n",
        "            except Exception as e:\n",
        "                print(f'Error for {gv},{data_date} {rep_type}')\n",
        "                print(str(e))\n",
        "                pass\n",
        "\n",
        "    except Exception as e:\n",
        "        print(f'Error somewhere for {gv}, {rep_type}')\n",
        "        print(str(e))\n",
        "        pass\n",
        "\n",
        "\n",
        "    company_count += 1\n",
        "    if company_count % 5 == 0:\n",
        "        df_results.to_csv(f'/content/drive/MyDrive/Bull_Stearns/sp_word_counts_{company_count}.csv',index=False)\n",
        "        df_results.to_csv(f'sp_word_counts_{company_count}.csv',index=False)\n",
        "\n",
        "\n",
        "df_results[['international_count','rev_growth_count', 'rev_slow_count', 'expense_growth_count',' expense_slow_count']] = df_results[['international_count','rev_growth_count', 'rev_slow_count', 'expense_growth_count',' expense_slow_count']].astype(int)\n",
        "df_results.to_csv(f'sp_word_counts_{company_count}.csv',index=False)\n",
        "\n",
        "df_results.to_csv(f'/content/drive/MyDrive/Bull_Stearns/sp_word_counts_master.csv',index=False)"
      ]
    },
    {
      "cell_type": "code",
      "execution_count": null,
      "metadata": {
        "id": "dvKU-1rzbL63"
      },
      "outputs": [],
      "source": []
    },
    {
      "cell_type": "code",
      "execution_count": null,
      "metadata": {
        "colab": {
          "base_uri": "https://localhost:8080/"
        },
        "id": "WI6inBjoEpLs",
        "outputId": "a46dca46-6aef-4c94-ade6-28322e80ff56"
      },
      "outputs": [
        {
          "data": {
            "text/plain": [
              "count    495.000000\n",
              "mean      71.666667\n",
              "std       20.387541\n",
              "min        4.000000\n",
              "25%       75.000000\n",
              "50%       80.000000\n",
              "75%       83.000000\n",
              "max       87.000000\n",
              "Name: data_date, dtype: float64"
            ]
          },
          "execution_count": 56,
          "metadata": {},
          "output_type": "execute_result"
        }
      ],
      "source": [
        "df_results.groupby('gvkey')['data_date'].count().describe()"
      ]
    },
    {
      "cell_type": "code",
      "execution_count": null,
      "metadata": {
        "id": "6NydksV0UC57"
      },
      "outputs": [],
      "source": []
    },
    {
      "cell_type": "code",
      "execution_count": null,
      "metadata": {
        "id": "u5EHtofXoYQo"
      },
      "outputs": [],
      "source": []
    },
    {
      "cell_type": "markdown",
      "metadata": {
        "id": "xhltI1hTD_EA"
      },
      "source": [
        "## Merging in External Dictionary"
      ]
    },
    {
      "cell_type": "markdown",
      "metadata": {
        "id": "Z8kJIKZtn5n_"
      },
      "source": [
        "Below is code that you can use to merge in the results from above onto the external dictionary that gives sentiment scores. We have saved the merged file on github so that we can reference it in our other notebook."
      ]
    },
    {
      "cell_type": "code",
      "execution_count": null,
      "metadata": {
        "id": "UkX0qlHeD-5w"
      },
      "outputs": [],
      "source": [
        "# # Scraper Code Results\n",
        "# df_sp = pd.read_csv('https://github.com/Brandt-moreThan4/Data/blob/main/sp_word_counts_master.csv?raw=true') # Unstructured Variables\n",
        "# df_sp['file_date'] = pd.to_datetime(df_sp['file_date'])\n",
        "# df_sp['data_date'] = pd.to_datetime(df_sp['data_date'])\n",
        "# df_sp['file_year_month'] = df_sp['file_date'].dt.strftime('%Y-%m')\n",
        "# df_sp['data_year_month'] = df_sp['data_date'].dt.strftime('%Y-%m')\n",
        "# df_sp.head(2)\n",
        "\n",
        "# # Loughran-McDonald results, does not have GVKEY. See Data sources, for the link to this file.\n",
        "# df_lm = pd.read_csv('/content/drive/MyDrive/Finance_Ratings/Loughran-McDonald_10X_Summaries_1993-2021.csv')\n",
        "\n",
        "# # Get CIK - GVKEY Mapping and merge\n",
        "# df_map = pd.read_csv('/content/drive/MyDrive/Finance_Ratings/GVKEY_CIK_Mapping.csv')[['gvkey','cik']].drop_duplicates()\n",
        "\n",
        "# # Merge\n",
        "# df_lm2 = df_lm.merge(df_map, left_on = 'CIK', right_on = 'cik')\n",
        "# df_lm2['FILING_DATE'] = pd.to_datetime(df_lm2['FILING_DATE'].astype(str), format='%Y%m%d')\n",
        "# # df_lm2['file_year_month'] = df_lm2['FILING_DATE'].dt.strftime('%Y-%m')\n",
        "# df_lm2.rename(columns = {'FILING_DATE':'file_date'}, inplace = True)\n",
        "\n",
        "# df_lm2.head(2)\n",
        "\n",
        "# # Merged Unstructured Data\n",
        "\n",
        "# df_fil = df_sp.merge(df_lm2, on = ['gvkey','file_date'])\n",
        "# df_fil['lm_positive_count'] = df_fil['N_Positive'] - df_fil['N_Negation']\n",
        "# df_fil['data_date'] = pd.to_datetime(df_fil['data_year_month'])\n",
        "# df_fil = df_fil.iloc[:,[0,1,10,9,3,4,5,6,7,8,36,20,22,23]]\n",
        "# df_fil.rename(columns={'N_Negative':'lm_negative_count','N_Uncertainty':'lm_uncertainty_count','N_Litigious':'lm_litigious_count'},inplace=True)\n",
        "# df_fil.head(2)"
      ]
    },
    {
      "cell_type": "code",
      "execution_count": null,
      "metadata": {
        "id": "0W3SKMIWzKH-"
      },
      "outputs": [],
      "source": []
    },
    {
      "cell_type": "code",
      "execution_count": null,
      "metadata": {
        "id": "Vt1fRUh0sNiE"
      },
      "outputs": [],
      "source": []
    },
    {
      "cell_type": "code",
      "execution_count": null,
      "metadata": {
        "id": "wpQFH4MnsNfC"
      },
      "outputs": [],
      "source": []
    },
    {
      "cell_type": "code",
      "execution_count": null,
      "metadata": {
        "id": "0Q_i_y5JsNbi"
      },
      "outputs": [],
      "source": []
    },
    {
      "cell_type": "code",
      "execution_count": null,
      "metadata": {
        "id": "WRAgbjTnsNUi"
      },
      "outputs": [],
      "source": []
    }
  ],
  "metadata": {
    "colab": {
      "collapsed_sections": [],
      "name": "Project3_P2_Unstructured_Code.ipynb",
      "provenance": []
    },
    "interpreter": {
      "hash": "2647ea34e536f865ab67ff9ddee7fd78773d956cec0cab53c79b32cd10da5d83"
    },
    "kernelspec": {
      "display_name": "Python 3.9.5 64-bit",
      "language": "python",
      "name": "python3"
    },
    "language_info": {
      "codemirror_mode": {
        "name": "ipython",
        "version": 3
      },
      "file_extension": ".py",
      "mimetype": "text/x-python",
      "name": "python",
      "nbconvert_exporter": "python",
      "pygments_lexer": "ipython3",
      "version": "3.9.5"
    }
  },
  "nbformat": 4,
  "nbformat_minor": 0
}
