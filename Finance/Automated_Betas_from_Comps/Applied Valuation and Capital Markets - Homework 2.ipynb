{
 "cells": [
  {
   "cell_type": "markdown",
   "metadata": {},
   "source": [
    "# Comparables\n",
    "\n",
    "## Team Members\n",
    "\n",
    "\n",
    "| Name | EID |\n",
    "| --- | --- |\n",
    "| Akshat Johari | aj32864 |\n",
    "| Aritra Chowdhury  | ac79277 |\n",
    "| Brandt Green | bwg537 |"
   ]
  },
  {
   "cell_type": "markdown",
   "metadata": {},
   "source": [
    "### Assumptions/Notes:\n",
    "\n",
    "  \n",
    "### Data Sources (All from WRDS)\n",
    " * [Stock Data (Pricing)](https://wrds-www.wharton.upenn.edu/pages/get-data/compustat-capital-iq-standard-poors/compustat/north-america-daily/security-daily/)\n",
    " * [Stock Data (Fundamentals)](https://wrds-www.wharton.upenn.edu/pages/get-data/compustat-capital-iq-standard-poors/compustat/north-america-daily/fundamentals-quarterly/)\n",
    " * [S&P 500 Data](https://wrds-www.wharton.upenn.edu/pages/get-data/center-research-security-prices-crsp/annual-update/index-sp-500-indexes/portfolios-on-sp-500/)\n",
    " * "
   ]
  },
  {
   "cell_type": "markdown",
   "metadata": {},
   "source": [
    "## Suggested Interface:\n",
    "#### The best way to interact with this notebook, is to just click \"run all cells\", then scroll to the very bottom and play with the dashboard."
   ]
  },
  {
   "cell_type": "code",
   "execution_count": 1,
   "metadata": {},
   "outputs": [],
   "source": [
    "import numpy as np\n",
    "import pandas as pd\n",
    "import matplotlib.pyplot as plt\n",
    "import seaborn as sns; sns.set_theme()\n",
    "import statsmodels.api as sm\n",
    "from statsmodels.formula.api import ols\n",
    "import datetime\n",
    "import wrds\n",
    "import warnings\n",
    "import ipywidgets as widgets\n",
    "from IPython.display import display\n",
    "from ipywidgets import GridspecLayout\n",
    "from ipywidgets import Layout\n",
    "\n",
    "warnings.filterwarnings(\"ignore\")\n",
    "\n",
    "pd.set_option('display.float_format', lambda x: '%.5f' % x)"
   ]
  },
  {
   "cell_type": "code",
   "execution_count": 2,
   "metadata": {},
   "outputs": [
    {
     "name": "stdout",
     "output_type": "stream",
     "text": [
      "Loading library list...\n",
      "Done\n"
     ]
    }
   ],
   "source": [
    "# Establish connection to WRDS\n",
    "\n",
    "db = wrds.Connection(wrds_username='bgreen41')"
   ]
  },
  {
   "cell_type": "markdown",
   "metadata": {},
   "source": [
    "## Helper Functions"
   ]
  },
  {
   "cell_type": "code",
   "execution_count": 3,
   "metadata": {},
   "outputs": [],
   "source": [
    "def get_de_ratios(tickers:list, start_date:str, end_date:str) -> dict:\n",
    "    \"\"\"\n",
    "    Returns the D/E Ratios of the Ticker and the Comps on the latest date entered by the user.\n",
    "    \n",
    "    Arguments: \n",
    "        ticker: Ticker\n",
    "        comps: List of Comparables\n",
    "        start_date: Start Date as entered by the user\n",
    "        end_date: End Date as entered by the user\n",
    "    \n",
    "    Returns: \n",
    "        Comps and their D/E Ratios (Dictionary)\n",
    "    \n",
    "    \"\"\"\n",
    "\n",
    "    tickers = \"'\" + \"','\".join(tickers) + \"'\"\n",
    "    query_string = f\"\"\"SELECT datadate, tic, dlttq, dlcq, icaptq FROM comp.fundq where tic IN ({tickers}) and datadate >= '{start_date}' and datadate <= '{end_date}' order by datadate desc\"\"\"\n",
    "    de_data = db.raw_sql(query_string)\n",
    "    \n",
    "    # Calculate D/E Ratio for Ticker and Comps\n",
    "    de_data['DE Ratio'] = (de_data['dlttq'] + de_data['dlcq'])/de_data['icaptq']\n",
    "    \n",
    "    de_ratios = de_data.sort_values(by = 'datadate').groupby('tic').last()['DE Ratio'].to_dict()\n",
    "    \n",
    "    return de_ratios\n",
    "\n",
    "    "
   ]
  },
  {
   "cell_type": "markdown",
   "metadata": {},
   "source": [
    "## Data Extraction"
   ]
  },
  {
   "cell_type": "markdown",
   "metadata": {},
   "source": [
    "### [Market Data: S&P 500](https://wrds-www.wharton.upenn.edu/pages/get-data/center-research-security-prices-crsp/annual-update/index-sp-500-indexes/index-file-on-sp-500/)"
   ]
  },
  {
   "cell_type": "code",
   "execution_count": 4,
   "metadata": {},
   "outputs": [],
   "source": [
    "def get_market_data(start_date, end_date) -> pd.DataFrame:\n",
    "    query_string = f\"\"\"SELECT * FROM crsp.dsp500 where caldt >= '{start_date}' and caldt <= '{end_date}'\"\"\"\n",
    "    market_data = db.raw_sql(query_string)\n",
    "    market_data = market_data[['caldt','vwretd']] # vwretd is the total return on the index per period. This is given as a decimal value already\n",
    "    market_data.columns = ['date','market_return']\n",
    "    market_data['date'] = pd.to_datetime(market_data['date'])\n",
    "    market_data.set_index('date', inplace = True)\n",
    "    market_data['year'] = market_data.index.year\n",
    "    market_data['month'] = market_data.index.month\n",
    "    market_data['week'] = market_data.index.week\n",
    "    # market_data = market_data[1:]\n",
    "    return market_data\n",
    "\n",
    "def get_stock_data(tickers:list, start_date:str, end_date:str) -> pd.DataFrame:\n",
    "# Below line is kinda ugly, but works. Just converts the ticker list into the correct string format to use in the query.\n",
    "    tickers_string = ''.join([f\"'{ticker}',\" for ticker in tickers])[:-1]\n",
    "\n",
    "    query_string = f\"\"\"SELECT * FROM comp.secd where tic IN({tickers_string}) and datadate >= '{start_date}' and datadate <= '{end_date}' order by datadate\"\"\"\n",
    "    stock_data = db.raw_sql(query_string)\n",
    "\n",
    "    # If you get back an empty dataframe, it means no data was found.\n",
    "    if len(stock_data) < 1:\n",
    "        return None\n",
    "\n",
    "    stock_data = stock_data[['datadate','tic','conm','ajexdi','prccd','trfd','cshoc']]\n",
    "    stock_data.columns = ['date','ticker','name','adj_factor','price','stock_return_factor','shares_outstanding']\n",
    "    stock_data['stock_return_factor'] = stock_data['stock_return_factor'].apply(lambda x: 1 if x is None else x)\n",
    "    stock_data['price_factored'] = (stock_data['price'] / stock_data['adj_factor']) * stock_data['stock_return_factor']\n",
    "    stock_data['market_cap'] = stock_data['price'] * stock_data['shares_outstanding']\n",
    "    stock_data['stock_return'] = stock_data['price_factored'].pct_change()\n",
    "    stock_data = stock_data[['date', 'stock_return','ticker','market_cap']][1:]\n",
    "    stock_data['date'] = pd.to_datetime(stock_data['date'])\n",
    "    stock_data.set_index('date', inplace = True)\n",
    "    stock_data['year'] = stock_data.index.year\n",
    "    stock_data['month'] = stock_data.index.month\n",
    "    stock_data['week'] = stock_data.index.week\n",
    "\n",
    "    return stock_data"
   ]
  },
  {
   "cell_type": "markdown",
   "metadata": {},
   "source": [
    "#### Stock class below is where the bulk of the processing occurs."
   ]
  },
  {
   "cell_type": "code",
   "execution_count": 5,
   "metadata": {},
   "outputs": [],
   "source": [
    "class Stock:\n",
    "\n",
    "    def __init__(self,ticker:str, start_date:datetime.date, end_date:datetime.date):\n",
    "        self.ticker:str = str(ticker).upper()\n",
    "        self.start_date:datetime.date = start_date\n",
    "        self.end_date:datetime.date = end_date \n",
    "\n",
    "        self.beta_historical:float = None\n",
    "        self.beta_comps:float = None\n",
    "        self.debt_beta:float = None\n",
    "        self.tax_rate:float = None\n",
    "        self.de_ratio:float = None\n",
    "        self.cost_of_equity:float = None\n",
    "        self.cap_assumption:str =  None\n",
    "        self.stock_data:pd.DataFrame = None\n",
    "        self.comps_list:list = None\n",
    "        self.comps_dict:dict = None\n",
    "\n",
    "        self.equity_cost_scl:float = None\n",
    "        self.equity_cost_comps:float = None\n",
    "\n",
    "    \n",
    "\n",
    "    def load_stock_data(self) -> pd.DataFrame:\n",
    "        \"\"\"Load the stock data as a variable in this isntance.\"\"\"\n",
    "        self.stock_data:pd.DataFrame =  get_stock_data([self.ticker], start_date, end_date)\n",
    "        return self.stock_data\n",
    "\n",
    "\n",
    "    def get_market_cap(self, date=None)->float:\n",
    "        if self.stock_data is None:\n",
    "            self.load_stock_data()\n",
    "        if date is None:\n",
    "            date = self.end_date\n",
    "\n",
    "        stock_data_filtered = self.stock_data[self.stock_data.index.date <= date]\n",
    "        market_cap = stock_data_filtered['market_cap'][-1]\n",
    "        return market_cap\n",
    "\n",
    "    def find_comps(self, comp_num=5) ->list:\n",
    "\n",
    "        \"\"\"Returns a particular number of comps for the ticker specified\"\"\"\n",
    "            \n",
    "        # Get Market Cap of Ticker\n",
    "        mktcap = self.get_market_cap()\n",
    "        \n",
    "        # Get SIC of Ticker\n",
    "        query_string = f\"\"\"SELECT siccd FROM crsp.stocknames WHERE ticker = '{self.ticker}' LIMIT 15\"\"\"\n",
    "        sic_id = db.raw_sql(query_string)\n",
    "        sic = int(sic_id.loc[0])\n",
    "\n",
    "        # Get Companies in the same Sector\n",
    "        query_string = f\"\"\"SELECT DISTINCT comnam, ticker FROM crsp.stocknames WHERE siccd = '{sic}'\"\"\"\n",
    "        comp_names = db.raw_sql(query_string)\n",
    "        comp_names.dropna(inplace = True)\n",
    "\n",
    "        ticker_wrds = \"'\" + \"','\".join(list(comp_names['ticker'])) + \"'\"\n",
    "        \n",
    "        # Get Market Cap for Companies fetched above\n",
    "        query_string = f\"\"\"SELECT tic, datadate, prccd, cshoc FROM comp.secd where tic in ({ticker_wrds}) and datadate >= '{self.start_date}' and datadate <= '{self.end_date}' order by datadate\"\"\"\n",
    "        comp_data = db.raw_sql(query_string)\n",
    "        comp_data['MarketCap'] = comp_data['prccd'] * comp_data['cshoc']\n",
    "        comp_data = comp_data.sort_values('datadate')\n",
    "        comp_cleaned = comp_data.groupby('tic').last().reset_index()[['tic', 'MarketCap']]\n",
    "        comp_cleaned['Difference'] = abs(comp_cleaned['MarketCap'] - mktcap)\n",
    "        comp_cleaned = comp_cleaned.sort_values('Difference')\n",
    "        comp_cleaned = comp_cleaned.merge(comp_names, right_on = 'ticker', left_on = 'tic')\n",
    "        \n",
    "        try:\n",
    "            comp_cleaned.drop(comp_cleaned.index[comp_cleaned['tic'] == self.ticker], inplace=True)\n",
    "        except:\n",
    "            pass\n",
    "\n",
    "        comp_cleaned.drop_duplicates(subset = ['tic'], inplace = True)\n",
    "        \n",
    "        # Get the required Number of Comps\n",
    "        valids = []\n",
    "        for i in comp_cleaned['tic']:\n",
    "            if comp_checker(i, self.start_date, self.end_date):\n",
    "                valids.append(i)\n",
    "            if len(valids) == comp_num:\n",
    "                break\n",
    "\n",
    "        self.comps_list:list = valids\n",
    "            \n",
    "        return valids\n",
    "\n",
    "    \n",
    "    def get_historical_equity_beta(self, market_data:pd.DataFrame=None, risk_free:float=0.0, frequency:str='Weekly') -> float:\n",
    "        \"\"\"\n",
    "        Returns the Historical Equity Beta through SCL Regression. \n",
    "        \n",
    "        Arguments: \n",
    "            market_data: The S&P 500 (Market Proxy) returns as a DataFrame\n",
    "            risk_free: The Risk-free Rate as entered by the user\n",
    "            frequency: The Frequency of Returns as entered by the user\n",
    "        \n",
    "        Returns: \n",
    "            The Historical Equity Beta of the Ticker (Scalar)\n",
    "        \n",
    "        \"\"\"\n",
    "        # First, make sure you've got the data loaded\n",
    "        if market_data is None:\n",
    "            market_data = get_market_data(self.start_date,self.end_date)\n",
    "        if self.stock_data is None:\n",
    "            self.load_stock_data()\n",
    "\n",
    "        # Group By Frequency Setting according to Input Frequency\n",
    "        if frequency == 'Yearly':\n",
    "            group_list = ['year']\n",
    "        elif frequency == 'Monthly':\n",
    "            group_list = ['year', 'month']\n",
    "        elif frequency == 'Weekly':\n",
    "            group_list = ['year', 'week']\n",
    "        else:\n",
    "            group_list = ['date']\n",
    "        \n",
    "        # Function to Calculative Return according to Input Frequency\n",
    "        def cum_return(series):\n",
    "            return (series + 1).prod() - 1\n",
    "        \n",
    "        # Restructure DataFrames with Returns according to Input Frequency\n",
    "        stock_data = self.stock_data.groupby(group_list).agg({'stock_return': cum_return})\n",
    "        market_data = market_data.groupby(group_list).agg({'market_return': cum_return})\n",
    "        \n",
    "        # Merge with Market Data to get both returns in the same DataFrame\n",
    "        all_data = stock_data.merge(market_data, left_index = True, right_index = True)\n",
    "        all_data['stock_risk_premium'] = all_data['stock_return'] - risk_free\n",
    "        all_data['market_risk_premium'] = all_data['market_return'] - risk_free\n",
    "        \n",
    "        # Model SCL Regression and Calculate Equity Beta\n",
    "        model = ols('stock_risk_premium ~ market_risk_premium', data = all_data)\n",
    "        results = model.fit()\n",
    "        self.beta_historical = results.params[1]\n",
    "\n",
    "        return self.beta_historical\n",
    "\n",
    "    def get_de_ratio(self):\n",
    "        ratios = get_de_ratios([self.ticker],self.start_date, self.end_date)\n",
    "        self.de_ratio = ratios[self.ticker]\n",
    "        return self.de_ratio\n",
    "\n",
    "    \n",
    "    def calculate_cost_of_equity(self, exp_market_return:float, risk_free:float=0.0,) -> float:\n",
    "        \"\"\"\n",
    "        This function calculates the Cost of Equity based on the Beta, Risk Free Rate and the Expected Market Return.\n",
    "        \n",
    "        Arguments: \n",
    "            beta: The Beta of the Ticker as computed by other functions\n",
    "            risk_free: The Risk-free Rate as entered by the user\n",
    "            exp_market_return: The Expected Market Return as entered by the user\n",
    "        \n",
    "        Returns: \n",
    "            The Relevered Beta of the Ticker (Scalar)\n",
    "\n",
    "        \"\"\"\n",
    "        if self.beta_historical is not None:\n",
    "            self.equity_cost_scl = risk_free + self.beta_historical * (exp_market_return - risk_free)\n",
    "        if self.beta_comps is not None:\n",
    "            self.equity_cost_comps = risk_free + self.beta_comps * (exp_market_return - risk_free)\n",
    "        \n",
    "\n",
    "\n",
    "    def calculate_unlevered_beta_historical(self):\n",
    "\n",
    "        if self.cap_assumption == 'Constant Debt':\n",
    "            unlevered_beta = self.beta_historical / (1 + (1 - self.tax_rate) * self.de_ratio)\n",
    "        else:\n",
    "            unlevered_beta = (self.beta_historical + (self.debt_beta * self.de_ratio)) / (1 + self.de_ratio)\n",
    "\n",
    "        return unlevered_beta\n",
    "\n",
    "    def get_equity_beta_comps(self, market_data:pd.DataFrame=None, risk_free:float=0, frequency:str='Weekly'):\n",
    "        \"\"\"\n",
    "        Returns the Relevered Beta of the Ticker based on the Betas of Comps.\n",
    "        \n",
    "        Arguments: \n",
    "            ticker: Ticker\n",
    "            comps: List of Comparables\n",
    "            start_date: Start Date as entered by the user\n",
    "            end_date: End Date as entered by the user\n",
    "            market_data: The S&P 500 (Market Proxy) returns as a DataFrame\n",
    "            risk_free: The Risk-free Rate as entered by the user\n",
    "            frequency: The Frequency of Returns as entered by the user\n",
    "            tax_rate: The Effective Tax Rate\n",
    "            debt_beta: The Debt Beta as entered by the user\n",
    "        \n",
    "        Returns: \n",
    "            The Relevered Beta of the Ticker (Scalar)\n",
    "        \n",
    "        \"\"\"\n",
    "\n",
    "        if self.comps_dict is None:\n",
    "            raise Exception('Hey buddy, you need to create the comps_dict before trying to find the equity beta using the comps.') \n",
    "\n",
    "        # First, make sure you've got the data loaded\n",
    "        if market_data is None:\n",
    "            market_data = get_market_data(self.start_date,self.end_date)\n",
    "        if self.stock_data is None:\n",
    "            self.load_stock_data()\n",
    "        \n",
    "        self.get_de_ratio()\n",
    "\n",
    "        \n",
    "        # Unlevered Beta for Comps\n",
    "        unlevered_betas = {}\n",
    "        for ticker, comp in self.comps_dict.items():\n",
    "            \n",
    "            # Get D/E Ratios of Ticker and Comps\n",
    "            comp.get_historical_equity_beta(market_data,risk_free,frequency)\n",
    "            comp.get_de_ratio()\n",
    "\n",
    "            # Calculate Unlevered Beta according to respective Capital Structure Assumption\n",
    "            unlevered_beta = comp.calculate_unlevered_beta_historical()\n",
    "\n",
    "            unlevered_betas.update({ticker: unlevered_beta})\n",
    "\n",
    "        # Mean Unlevered Beta\n",
    "        unlevered_beta = sum(unlevered_betas.values()) / len(unlevered_betas)\n",
    "\n",
    "        # Calculate Relevered Beta according to Capital Structure Assumption\n",
    "        if self.cap_assumption == 'Constant Debt':\n",
    "            relevered_beta = unlevered_beta * (1 + (1 - self.tax_rate) * self.de_ratio)\n",
    "        else:\n",
    "            relevered_beta = (unlevered_beta * (1 + self.de_ratio)) - (self.debt_beta * self.de_ratio)\n",
    "            \n",
    "        self.beta_comps = relevered_beta\n",
    "        return self.beta_comps\n",
    "\n",
    "    \n",
    "    def present_cost_of_equity_results(self) -> pd.DataFrame:\n",
    "        \"\"\"Spit out that dataframe of aggregated info.\"\"\"\n",
    "\n",
    "        data = {'Index': ['Beta', 'Cost of Equity'],\n",
    "        'SCL Regression': [self.beta_historical, self.equity_cost_scl],\n",
    "        'Comps Analysis': [self.beta_comps, self.equity_cost_comps]}\n",
    "\n",
    "        df_result = pd.DataFrame(data).set_index('Index')\n",
    "\n",
    "        return df_result\n",
    "\n",
    "    def __repr__(self) -> str:\n",
    "        return self.ticker\n",
    "  \n"
   ]
  },
  {
   "cell_type": "markdown",
   "metadata": {},
   "source": [
    "#### Return summary statistics:"
   ]
  },
  {
   "cell_type": "code",
   "execution_count": 6,
   "metadata": {},
   "outputs": [],
   "source": [
    "def daily_var_1(series:pd.Series):\n",
    "    \"\"\"\n",
    "    Calculate the the daily value at risk of the returns with a 1% threshold.\n",
    "    \"\"\"\n",
    "    return np.percentile(series, .01)\n",
    "\n",
    "def conditional_var_1(series:pd.Series):\n",
    "    \"\"\"\n",
    "    Calculate the average loss of returns, given that the 1% threshold has been breached.\n",
    "    \"\"\"\n",
    "    bottom_centile = series[series <= np.percentile(series, .01)]\n",
    "    return bottom_centile.mean()\n",
    "\n",
    "def max_draw_down(series:pd.Series):\n",
    "    \"\"\"\n",
    "    What is the largest peak to trough percentage decline of the returns.\n",
    "    \"\"\"\n",
    "    cumulative_returns = np.cumproduct((series + 1))\n",
    "    highest_value = 1\n",
    "    biggest_draw_down = 0\n",
    "    for port_value in cumulative_returns:\n",
    "        peak_to_trough_return = port_value/highest_value - 1\n",
    "        if peak_to_trough_return < biggest_draw_down:\n",
    "            biggest_draw_down = peak_to_trough_return\n",
    "        if port_value > highest_value:\n",
    "            highest_value = port_value\n",
    "\n",
    "    return biggest_draw_down\n",
    "\n",
    "def draw_down_days(series:pd.Series):\n",
    "    \"\"\"\n",
    "    What is the largest peak to trough percentage decline of the returns.\n",
    "    \"\"\"\n",
    "    cumulative_returns = np.cumproduct((series + 1))\n",
    "    highest_value = 1\n",
    "    biggest_draw_down = 0\n",
    "    peak_date = series.index[0]\n",
    "    draw_down_start_date = None # Initially the draw down start date will be the first date\n",
    "    draw_down_end_date = None\n",
    "\n",
    "    for date, port_value in zip(series.index, cumulative_returns):\n",
    "        peak_to_trough_return = port_value/highest_value - 1\n",
    "        if peak_to_trough_return < biggest_draw_down:\n",
    "            biggest_draw_down = peak_to_trough_return\n",
    "            draw_down_start_date = peak_date\n",
    "            draw_down_end_date = date\n",
    "\n",
    "        if port_value > highest_value: # Set the new highest portfolio value and draw_down_start_date\n",
    "            highest_value = port_value\n",
    "            peak_date = date\n",
    "\n",
    "    days_of_drawdown = (draw_down_end_date - draw_down_start_date)\n",
    "    return days_of_drawdown\n",
    "\n",
    "def downside_std(series:pd.Series):\n",
    "    \"\"\"\n",
    "    Standard deviation of negative returns only.\n",
    "    \"\"\"\n",
    "    mn = series.mean()\n",
    "    return np.sqrt(((series[series < 0] - mn)**2).sum() / len(series))\n",
    "\n",
    "def proportion_positive_returns(series:pd.Series):\n",
    "    \"\"\"\n",
    "    What percent of the daily portfolio returns are postive?\n",
    "    \"\"\"\n",
    "    return len(series[series>0])/len(series)\n",
    "\n",
    "def annualized_return(series:pd.Series):\n",
    "    \"\"\"\n",
    "    Calculate annualized returns\n",
    "    \"\"\"\n",
    "    days = len(series)\n",
    "    \n",
    "    return ((np.cumproduct(series + 1)**(252/days))[-1] - 1)\n",
    "\n",
    "def calculate_portfolio_statistics(df_returns:pd.DataFrame) ->pd.DataFrame:\n",
    "    \"\"\"\n",
    "    This function is here to just aggregate all the relevant info and make it presentable.\n",
    "    \"\"\"\n",
    "    from scipy.stats import kurtosis\n",
    "\n",
    "    # Groupby ticker and get the statistics below.\n",
    "    summary_stats = df_returns.groupby(['ticker']).aggregate(['mean', 'std', 'skew',\n",
    "     kurtosis, daily_var_1, conditional_var_1, max_draw_down, draw_down_days, downside_std, \n",
    "                                                              proportion_positive_returns, annualized_return])\n",
    "\n",
    "    # Reset Column Indexes post groupby\n",
    "    summary_stats.columns = summary_stats.columns.get_level_values(1)\n",
    "\n",
    "    # Create a few new performance metrics based on the statistics above:\n",
    "    summary_stats['Annualized_Return'] = summary_stats['annualized_return']\n",
    "    summary_stats['Annualized_Std'] = summary_stats['std'] * 252**.5\n",
    "    summary_stats['Sharpe_Ratio'] = summary_stats['Annualized_Return']/summary_stats['Annualized_Std']\n",
    "    summary_stats['Sortino_Ratio'] = summary_stats['Annualized_Return']/summary_stats['downside_std']\n",
    "\n",
    "    # Make the df pretty:\n",
    "    summary_stats = summary_stats.drop(columns=['mean','std','downside_std','annualized_return'])\n",
    "    summary_stats.columns = [column.title() for column in summary_stats.columns]# Rearrange columns\n",
    "    \n",
    "    # Rearrange columns\n",
    "    # summary_stats = summary_stats[['Annualized_Return','Annualized_Std','Sharpe_Ratio','Sortino_Ratio','Skew','Kurtosis',\n",
    "    # 'Daily_Var_1','Conditional_Var_1','Max_Draw_Down','Draw_Down_Days','Proportion_Positive_Returns']] \n",
    "\n",
    "    summary_stats = summary_stats[['Annualized_Return','Annualized_Std','Sharpe_Ratio','Skew','Kurtosis',\n",
    "    'Daily_Var_1','Conditional_Var_1','Max_Draw_Down','Draw_Down_Days','Proportion_Positive_Returns']] \n",
    "    \n",
    "    # Rename columns\n",
    "    summary_stats.rename(columns = {'Annualized_Return':'Annualized Return',\n",
    "                                    'Annualized_Std': 'Annualized Standard Deviation',\n",
    "                                    'Sharpe_Ratio': 'Sharpe Ratio',\n",
    "                                    # 'Sortino_Ratio': 'Sortino Ratio',\n",
    "                                    'Daily_Var_1': 'Daily Value at Risk (1% Threshold)',\n",
    "                                    'Conditional_Var_1': 'Conditional Value at Risk (1% Threshold)',\n",
    "                                    'Max_Draw_Down': 'Maximum Drawdown',\n",
    "                                    'Draw_Down_Days': 'Maximum Drawdown Days',\n",
    "                                    'Proportion_Positive_Returns': 'Proportion of Positive Returns'}, inplace = True)\n",
    "    \n",
    "    return summary_stats.T"
   ]
  },
  {
   "cell_type": "code",
   "execution_count": 7,
   "metadata": {},
   "outputs": [],
   "source": [
    "def merge_stock_dfs_flat(stocks_list:list) -> pd.DataFrame:\n",
    "    combined_df = pd.DataFrame()\n",
    "    for stock in stocks_list:\n",
    "        combined_df = combined_df.append(stock.stock_data)\n",
    "    combined_df = combined_df.reset_index()[['date','stock_return','ticker']]\n",
    "    combined_df = combined_df.pivot_table(index='date',columns='ticker')\n",
    "\n",
    "    # # Pivot makes our column names multi-indexed. We want the sub-index\n",
    "    combined_df.columns = combined_df.columns.get_level_values(1) \n",
    "    # combined_df = combined_df.rename(columns = {'':'date'}).set_index('date') \n",
    "    return combined_df\n",
    "\n",
    "def merge_stock_dfs_stacked(stocks_list:list) -> pd.DataFrame:\n",
    "    combined_df = pd.DataFrame()\n",
    "    for stock in stocks_list:\n",
    "        combined_df = combined_df.append(stock.stock_data)\n",
    "\n",
    "    return combined_df[['stock_return','ticker']].copy()"
   ]
  },
  {
   "cell_type": "markdown",
   "metadata": {},
   "source": [
    "#### Validation Functions"
   ]
  },
  {
   "cell_type": "code",
   "execution_count": 8,
   "metadata": {},
   "outputs": [],
   "source": [
    "def start_before_end(start_date:datetime.date,end_date:datetime.date) ->bool:\n",
    "    return start_date < end_date\n",
    "\n",
    "def date_in_df(date:datetime.date, df:pd.DataFrame) -> bool:\n",
    "    # Need to access the date portion of the pandas datetime variable\n",
    "    all_dates = df.index.date \n",
    "    first_date_date = all_dates[0]\n",
    "    last_data_date = all_dates[-1]\n",
    "\n",
    "    if date >= first_date_date and date <= last_data_date:\n",
    "        return True\n",
    "    else:\n",
    "        return False\n",
    "\n",
    "def get_fundq_df(tickers:list,start_date,end_date):\n",
    "    tickers = \"'\" + \"','\".join(tickers) + \"'\"\n",
    "    query_string = f\"\"\"SELECT datadate, tic, dlttq, dlcq, icaptq FROM comp.fundq where tic IN ({tickers}) and datadate >= '{start_date}' and datadate <= '{end_date}' order by datadate desc\"\"\"\n",
    "    df = db.raw_sql(query_string)\n",
    "    if len(df) == 0:\n",
    "        return None\n",
    "\n",
    "    df = df.set_index(keys='datadate')\n",
    "    df.index = pd.to_datetime(df.index)\n",
    "    df = df.sort_index()\n",
    "    return df\n",
    "\n",
    "def comp_checker(ticker:str, start_date, end_date)->bool:\n",
    "    \"\"\"lolol\"\"\"\n",
    "    start_date_buffered, end_date_buffered = start_date - datetime.timedelta(days=10), end_date + datetime.timedelta(days=10)\n",
    "    start_date_buffered_super, end_date_buffered_super = start_date - datetime.timedelta(days=35), end_date + datetime.timedelta(days=35)\n",
    "    ## SEC db\n",
    "    stock_df = get_stock_data([ticker],start_date_buffered,end_date_buffered)\n",
    "    # fundq db\n",
    "    fund_q_db = get_fundq_df([ticker],start_date_buffered_super,end_date_buffered_super)\n",
    "    if fund_q_db is None:\n",
    "        return False\n",
    "        \n",
    "    if date_in_df(start_date,stock_df) and date_in_df(end_date,stock_df):\n",
    "        if date_in_df(start_date,fund_q_db) and date_in_df(end_date,fund_q_db):\n",
    "            return True\n",
    "    return False\n"
   ]
  },
  {
   "cell_type": "markdown",
   "metadata": {},
   "source": [
    "Below two functions are helpful for grabbing info from the dashboard and creating the appropriate variables"
   ]
  },
  {
   "cell_type": "code",
   "execution_count": 9,
   "metadata": {},
   "outputs": [],
   "source": [
    "def extract_comp_inputs() -> dict:\n",
    "    comp_dict = {}\n",
    "\n",
    "    for comp_box in comp_grid.children:\n",
    "        comp_buttons = comp_box.children\n",
    "        if comp_buttons[0].value != '':\n",
    "            ticker = comp_buttons[0].value.upper()\n",
    "            cap_assumption = comp_buttons[1].value\n",
    "            comp_debt_beta = comp_buttons[2].value\n",
    "\n",
    "            stock = Stock(ticker=ticker,start_date=start_date, end_date=end_date)\n",
    "            stock.cap_assumption = cap_assumption\n",
    "            stock.tax_rate = tax_rate\n",
    "            if cap_assumption == 'Constant Debt':\n",
    "                stock.debt_beta = 0\n",
    "            else:\n",
    "                stock.debt_beta = comp_debt_beta\n",
    "\n",
    "            comp_dict[ticker] = stock\n",
    "    return comp_dict\n",
    "\n",
    "def create_stock_from_inputs() -> Stock:\n",
    "    ticker_stock = Stock(ticker,start_date,end_date)\n",
    "    ticker_stock.cap_assumption = ticker_cap_assumption\n",
    "    ticker_stock.tax_rate = tax_rate\n",
    "    if comp_cap_assumption == 'Constant Debt':\n",
    "        ticker_stock.debt_beta = 0\n",
    "    else:\n",
    "        ticker_stock.debt_beta = ticker_debt_beta\n",
    "    return ticker_stock\n"
   ]
  },
  {
   "cell_type": "markdown",
   "metadata": {},
   "source": [
    "Dash board utils:"
   ]
  },
  {
   "cell_type": "code",
   "execution_count": 10,
   "metadata": {},
   "outputs": [],
   "source": [
    "def create_comp_grid():\n",
    "\n",
    "    def create_comp_box(comp_num:int):\n",
    "        x1 = widgets.Text(description=f'Comp {comp_num}:',layout=Layout(width='200px'), style= {'description_width': 'initial'})\n",
    "        x2 = widgets.RadioButtons(options=['Dynamic', 'Constant Debt'],value='Dynamic',layout=Layout(margin='20px 0 0 0'))\n",
    "        debt_beta_input = widgets.FloatText(value=.3,step=0.01,description='Debt-Beta:',style= {'description_width': 'initial'},layout=Layout(margin='20px 0 0 0',width='200px'))\n",
    "        return widgets.VBox([x1,x2,debt_beta_input],layout=Layout())\n",
    "        \n",
    "    grid = GridspecLayout(2, 3,height='450px')\n",
    "\n",
    "    comp_count = 1\n",
    "    for row in range(2):\n",
    "        for column in range(3):\n",
    "            grid[row,column] = create_comp_box(comp_count)\n",
    "            comp_count += 1\n",
    "\n",
    "    return grid"
   ]
  },
  {
   "cell_type": "markdown",
   "metadata": {},
   "source": [
    "#### Creating buttons and such for dash:"
   ]
  },
  {
   "cell_type": "code",
   "execution_count": 11,
   "metadata": {},
   "outputs": [],
   "source": [
    "ticker_input = widgets.Text(value='MSFT',description='Ticker:')\n",
    "start_date_input = widgets.DatePicker(description='Start Date',value = datetime.date(2015,12,31))\n",
    "end_date_input = widgets.DatePicker(description='End Date', value = datetime.date(2020,12,31))\n",
    "\n",
    "freq_input = widgets.ToggleButtons(options=['Daily', 'Weekly', 'Monthly', 'Yearly'], description='Data Frequency:',\n",
    "     value = 'Weekly', button_style='info', style= {'description_width': 'initial'})\n",
    "\n",
    "\n",
    "ticker_cap_input = widgets.RadioButtons(options=['Dynamic', 'Constant Debt'],value='Dynamic',description='Cap Structure:',\n",
    "    style= {'description_width': 'initial'})\n",
    "\n",
    "debt_beta_input = widgets.FloatText(value=.3,step=0.05,description='Debt-Beta:',style= {'description_width': 'initial'})\n",
    "\n",
    "\n",
    "\n",
    "comp_method_input = widgets.ToggleButtons(options=['Manual', 'Automatic'], description='Comp Determination:',\n",
    "     value = 'Automatic', button_style='info', style= {'description_width': 'initial'})\n",
    "\n",
    "comp_count_input = widgets.IntText(value=5,step=1,min=1,description='Comp Number (If Automatic)',style= {'description_width': 'initial'})\n",
    "comp_debt_beta_input = widgets.FloatText(value=.3,step=0.05,description='Debt-Beta (If Automatic)',style= {'description_width': 'initial'})\n",
    "comp_cap_input = widgets.RadioButtons(options=['Dynamic', 'Constant Debt'],value='Dynamic',description='Cap Structure (If Automatic)',\n",
    "    style= {'description_width': 'initial'})\n",
    "\n",
    "comp_grid = create_comp_grid()\n",
    "\n",
    "\n",
    "risk_free_input = widgets.FloatText(value=.01, step=0.01, description='Risk-Free:')\n",
    "market_return_input = widgets.FloatText(value=.07,step=0.01,description='Expected Market Return',style= {'description_width': 'initial'})\n",
    "tax_input  = widgets.FloatText(value=.21,step=0.01,description='Marginal Tax Rate',style= {'description_width': 'initial'})\n",
    "\n",
    "\n",
    "main_header = widgets.HTML(value=\"\"\"<h1 style=\"color:darkblue\">Input Program Parameters & Assumptions<h1><hr>\"\"\")\n",
    "market_header = widgets.HTML(value=\"<h2>Capital Market Assumptions & Other:<h2>\")\n"
   ]
  },
  {
   "cell_type": "markdown",
   "metadata": {},
   "source": [
    "# Main Execution\n",
    "Running the below cell will create the dashboard that controls all of the magic."
   ]
  },
  {
   "cell_type": "code",
   "execution_count": 12,
   "metadata": {
    "scrolled": false
   },
   "outputs": [
    {
     "data": {
      "application/vnd.jupyter.widget-view+json": {
       "model_id": "7a3f19eb41aa4e6ba10bb6eff19b47c9",
       "version_major": 2,
       "version_minor": 0
      },
      "text/plain": [
       "HTML(value='<h1 style=\"color:darkblue\">Input Program Parameters & Assumptions<h1><hr>')"
      ]
     },
     "metadata": {},
     "output_type": "display_data"
    },
    {
     "data": {
      "application/vnd.jupyter.widget-view+json": {
       "model_id": "d9083eef16e7441cb3a01d7576b470fe",
       "version_major": 2,
       "version_minor": 0
      },
      "text/plain": [
       "HTML(value='<h2>Stock Inputs:</h2>')"
      ]
     },
     "metadata": {},
     "output_type": "display_data"
    },
    {
     "data": {
      "application/vnd.jupyter.widget-view+json": {
       "model_id": "9518bcda1b4241beb6a028b57eb71719",
       "version_major": 2,
       "version_minor": 0
      },
      "text/plain": [
       "Text(value='MSFT', description='Ticker:')"
      ]
     },
     "metadata": {},
     "output_type": "display_data"
    },
    {
     "data": {
      "application/vnd.jupyter.widget-view+json": {
       "model_id": "852bbe21302c4905b5cd516ddfc37be0",
       "version_major": 2,
       "version_minor": 0
      },
      "text/plain": [
       "DatePicker(value=datetime.date(2015, 12, 31), description='Start Date')"
      ]
     },
     "metadata": {},
     "output_type": "display_data"
    },
    {
     "data": {
      "application/vnd.jupyter.widget-view+json": {
       "model_id": "a303a93bac4043659bf33fec0c1c7a38",
       "version_major": 2,
       "version_minor": 0
      },
      "text/plain": [
       "DatePicker(value=datetime.date(2020, 12, 31), description='End Date')"
      ]
     },
     "metadata": {},
     "output_type": "display_data"
    },
    {
     "data": {
      "application/vnd.jupyter.widget-view+json": {
       "model_id": "057272e00f6e4dd68735751237611d22",
       "version_major": 2,
       "version_minor": 0
      },
      "text/plain": [
       "ToggleButtons(button_style='info', description='Data Frequency:', index=1, options=('Daily', 'Weekly', 'Monthl…"
      ]
     },
     "metadata": {},
     "output_type": "display_data"
    },
    {
     "data": {
      "application/vnd.jupyter.widget-view+json": {
       "model_id": "04ba7be1d9464aa3bc9d8bcaaa818f41",
       "version_major": 2,
       "version_minor": 0
      },
      "text/plain": [
       "RadioButtons(description='Cap Structure:', options=('Dynamic', 'Constant Debt'), style=DescriptionStyle(descri…"
      ]
     },
     "metadata": {},
     "output_type": "display_data"
    },
    {
     "data": {
      "application/vnd.jupyter.widget-view+json": {
       "model_id": "b4f8cd0bc2f54099b0664df8ed21db1f",
       "version_major": 2,
       "version_minor": 0
      },
      "text/plain": [
       "FloatText(value=0.3, description='Debt-Beta:', step=0.05, style=DescriptionStyle(description_width='initial'))"
      ]
     },
     "metadata": {},
     "output_type": "display_data"
    },
    {
     "data": {
      "application/vnd.jupyter.widget-view+json": {
       "model_id": "8cce7e700f074476860d75b5c3ba6fc8",
       "version_major": 2,
       "version_minor": 0
      },
      "text/plain": [
       "HTML(value='<h2>Comp Inputs:</h2>')"
      ]
     },
     "metadata": {},
     "output_type": "display_data"
    },
    {
     "data": {
      "application/vnd.jupyter.widget-view+json": {
       "model_id": "42c9ee0b8ade4c449232cfcc2198e0aa",
       "version_major": 2,
       "version_minor": 0
      },
      "text/plain": [
       "ToggleButtons(button_style='info', description='Comp Determination:', index=1, options=('Manual', 'Automatic')…"
      ]
     },
     "metadata": {},
     "output_type": "display_data"
    },
    {
     "data": {
      "application/vnd.jupyter.widget-view+json": {
       "model_id": "c9f5445ceee9416fa67087569c59c939",
       "version_major": 2,
       "version_minor": 0
      },
      "text/plain": [
       "IntText(value=5, description='Comp Number (If Automatic)', style=DescriptionStyle(description_width='initial')…"
      ]
     },
     "metadata": {},
     "output_type": "display_data"
    },
    {
     "data": {
      "application/vnd.jupyter.widget-view+json": {
       "model_id": "b477a1d6626943508328dc4f349681f1",
       "version_major": 2,
       "version_minor": 0
      },
      "text/plain": [
       "RadioButtons(description='Cap Structure (If Automatic)', options=('Dynamic', 'Constant Debt'), style=Descripti…"
      ]
     },
     "metadata": {},
     "output_type": "display_data"
    },
    {
     "data": {
      "application/vnd.jupyter.widget-view+json": {
       "model_id": "88f3e2e4e9c3473fbb35adc316536793",
       "version_major": 2,
       "version_minor": 0
      },
      "text/plain": [
       "FloatText(value=0.3, description='Debt-Beta (If Automatic)', step=0.05, style=DescriptionStyle(description_wid…"
      ]
     },
     "metadata": {},
     "output_type": "display_data"
    },
    {
     "data": {
      "application/vnd.jupyter.widget-view+json": {
       "model_id": "5b53ba2f737d4a32b4b8b9c43b1ffa1c",
       "version_major": 2,
       "version_minor": 0
      },
      "text/plain": [
       "HTML(value='<br>')"
      ]
     },
     "metadata": {},
     "output_type": "display_data"
    },
    {
     "data": {
      "application/vnd.jupyter.widget-view+json": {
       "model_id": "eb8c195753ec41e494ee5943814e32dc",
       "version_major": 2,
       "version_minor": 0
      },
      "text/plain": [
       "GridspecLayout(children=(VBox(children=(Text(value='', description='Comp 1:', layout=Layout(width='200px'), st…"
      ]
     },
     "metadata": {},
     "output_type": "display_data"
    },
    {
     "data": {
      "application/vnd.jupyter.widget-view+json": {
       "model_id": "5625cd1c6ad24330bee14790aa6c69dd",
       "version_major": 2,
       "version_minor": 0
      },
      "text/plain": [
       "HTML(value='<h2>Capital Market Assumptions & Other:<h2>')"
      ]
     },
     "metadata": {},
     "output_type": "display_data"
    },
    {
     "data": {
      "application/vnd.jupyter.widget-view+json": {
       "model_id": "2f135482281d44619429c86f598a813c",
       "version_major": 2,
       "version_minor": 0
      },
      "text/plain": [
       "HBox(children=(FloatText(value=0.21, description='Marginal Tax Rate', step=0.01, style=DescriptionStyle(descri…"
      ]
     },
     "metadata": {},
     "output_type": "display_data"
    },
    {
     "data": {
      "application/vnd.jupyter.widget-view+json": {
       "model_id": "ac219be2da58457d981a337bba4bb130",
       "version_major": 2,
       "version_minor": 0
      },
      "text/plain": [
       "HTML(value='<h2>Validation<h2>')"
      ]
     },
     "metadata": {},
     "output_type": "display_data"
    },
    {
     "data": {
      "application/vnd.jupyter.widget-view+json": {
       "model_id": "7c7c04b9aa874d699bfb086518e0c40f",
       "version_major": 2,
       "version_minor": 0
      },
      "text/plain": [
       "Button(button_style='info', description='Validate All Inputs', style=ButtonStyle())"
      ]
     },
     "metadata": {},
     "output_type": "display_data"
    },
    {
     "data": {
      "application/vnd.jupyter.widget-view+json": {
       "model_id": "3dc316397d0c40dd9cd2e6a1e029af0e",
       "version_major": 2,
       "version_minor": 0
      },
      "text/plain": [
       "Output()"
      ]
     },
     "metadata": {},
     "output_type": "display_data"
    },
    {
     "data": {
      "application/vnd.jupyter.widget-view+json": {
       "model_id": "7d9c0679a5c944da909a9379ec0e0814",
       "version_major": 2,
       "version_minor": 0
      },
      "text/plain": [
       "Button(button_style='success', description='Run Report', style=ButtonStyle())"
      ]
     },
     "metadata": {},
     "output_type": "display_data"
    },
    {
     "data": {
      "application/vnd.jupyter.widget-view+json": {
       "model_id": "df0e97b836464135aac6c335ec057281",
       "version_major": 2,
       "version_minor": 0
      },
      "text/plain": [
       "Output()"
      ]
     },
     "metadata": {},
     "output_type": "display_data"
    }
   ],
   "source": [
    "display(main_header)\n",
    "\n",
    "display(widgets.HTML(\"\"\"<h2>Stock Inputs:</h2>\"\"\"))\n",
    "display(ticker_input)\n",
    "display(start_date_input)\n",
    "display(end_date_input)\n",
    "display(freq_input)\n",
    "display(ticker_cap_input)\n",
    "display(debt_beta_input)\n",
    "\n",
    "display(widgets.HTML(\"\"\"<h2>Comp Inputs:</h2>\"\"\"))\n",
    "# display(widgets.HTML(\"\"\"How would you like to determine the comps?\"\"\"))\n",
    "display(comp_method_input)\n",
    "display(comp_count_input)\n",
    "display(comp_cap_input)\n",
    "display(comp_debt_beta_input)\n",
    "display(widgets.HTML(\"<br>\"))\n",
    "display(comp_grid)\n",
    "\n",
    "\n",
    "display(market_header)\n",
    "display(widgets.HBox([tax_input,risk_free_input,market_return_input]))\n",
    "\n",
    "\n",
    "\n",
    "# ------------------------- Validation---------------------\n",
    "display(widgets.HTML(\"<h2>Validation<h2>\"))\n",
    "\n",
    "validation_message = widgets.Output()\n",
    "\n",
    "def create_error_message(error_text:str):\n",
    "    return widgets.HTML(f\"\"\"<h3 style=\"color:Red\">Error:</h3><ul><li>{error_text}</li></ul>\"\"\")\n",
    "\n",
    "\n",
    "def validate_inputs(b):\n",
    "    # We Want all the parameters set in here to be global so that we can access them outside of the function.\n",
    "    global start_date; global end_date; global ticker; global stock_data_df;global start_date;\n",
    "    global comps_dict; global risk_free; global tax_rate; global comp_number; global frequency;\n",
    "    global exp_market_return; global ticker_debt_beta; global comp_debt_beta; global comp_cap_assumption;\n",
    "    global ticker_cap_assumption; global stock;\n",
    "\n",
    "    with validation_message:\n",
    "        validation_message.clear_output()\n",
    "\n",
    "        display(widgets.HTML(\"<h4>Validation in progress...</h4>\"))\n",
    "\n",
    "        # -----------Grab button values-------------\n",
    "        # Yes, I know this looks trashy.\n",
    "        ticker = str(ticker_input.value).upper() # Tickers should always be uppercase\n",
    "        risk_free = risk_free_input.value; tax_rate = tax_input.value; comp_number = comp_count_input.value\n",
    "        frequency = freq_input.value; exp_market_return = market_return_input.value\n",
    "        start_date, end_date = start_date_input.value, end_date_input.value; comp_debt_beta = comp_debt_beta_input.value;\n",
    "        ticker_debt_beta = debt_beta_input.value; ticker_cap_assumption = ticker_cap_input.value; comp_cap_assumption = comp_cap_input.value;\n",
    "\n",
    "        # We need to add a buffer in the start and end dates so that we make sure we grab enough data from words for validation\n",
    "        start_date_buffered, end_date_buffered = start_date - datetime.timedelta(days=10), end_date + datetime.timedelta(days=10)\n",
    "\n",
    "        \n",
    "        if not start_before_end(start_date,end_date):\n",
    "            return display(create_error_message('Start date cannot be after end date you goon!!!'))\n",
    "            \n",
    "        # Grab the data for this stock and then validate!\n",
    "        stock_data_df = get_stock_data([ticker], start_date_buffered, end_date_buffered)\n",
    "\n",
    "        if stock_data_df is None:\n",
    "            return display(create_error_message(f\"Sorry, we could not find any data for '{ticker}' between '{start_date}' and '{end_date}'.\"))\n",
    "        elif not date_in_df(start_date,stock_data_df):\n",
    "            # print(stock_data_df)\n",
    "            return display(create_error_message(f\"Sorry, we do not have data for start date '{start_date}' for '{ticker}'. The earliest date we have is: '{stock_data_df.index[0]}'\"))\n",
    "        elif not date_in_df(end_date,stock_data_df): \n",
    "            return display(create_error_message(f\"Sorry, we do not have data for start date '{end_date}' for '{ticker}'. The latest date we have is: '{stock_data_df.index[-1]}'\"))\n",
    "\n",
    "        # Yay, create the stock then.\n",
    "        stock = create_stock_from_inputs()\n",
    "        stock.load_stock_data() # This is just helpful to do now rather than later... I think. Tho it is super redundant.\n",
    "        \n",
    "\n",
    "        if comp_method_input.value == 'Manual':\n",
    "            # Get a dictionary where the keys are tickers and the values are 'Stock' objects.\n",
    "            comps_dict = extract_comp_inputs() \n",
    "\n",
    "            for comp in comps_dict.values():\n",
    "                comp_stock_data = get_stock_data([comp.ticker], start_date_buffered, end_date_buffered)\n",
    "                if comp_stock_data is None:\n",
    "                    return display(create_error_message(f\"Sorry, we could not find any data for '{comp.ticker}' between '{start_date}' and '{end_date}'.\"))\n",
    "                elif not date_in_df(start_date,comp_stock_data):\n",
    "                    # print(stock_data_df)\n",
    "                    return display(create_error_message(f\"Sorry, we do not have data for start date '{start_date}' for '{comp.ticker}'. The earliest date we have is: '{comp_stock_data.index[0]}'\"))\n",
    "                elif not date_in_df(end_date,comp_stock_data): \n",
    "                    return display(create_error_message(f\"Sorry, we do not have data for start date '{end_date}' for '{comp.ticker}'. The latest date we have is: '{comp_stock_data.index[-1]}'\"))        \n",
    "\n",
    "                # If you pass all of the tests, load the comp with its appropriate inputs\n",
    "                stock.comps_dict = comps_dict\n",
    "                stock.comps_list = comps_dict.keys()\n",
    "\n",
    "        else:\n",
    "            comp_number = comp_count_input.value\n",
    "            stock.find_comps(comp_num=comp_number) # Get comps automatically\n",
    "\n",
    "            # Now, need to create the comps_dict and set each comp with the appropraite default values\n",
    "            comps_dict = {}\n",
    "            for comp_ticker in stock.comps_list:\n",
    "                comp_stock = Stock(ticker=comp_ticker,start_date=start_date,end_date=end_date)\n",
    "                comp_stock.tax_rate = tax_rate\n",
    "                comp_stock.cap_assumption = comp_cap_assumption\n",
    "\n",
    "                if comp_stock.cap_assumption == 'Constant Debt':\n",
    "                    comp_stock.debt_beta = 0\n",
    "                else:\n",
    "                    comp_stock.debt_beta = comp_debt_beta\n",
    "\n",
    "                comps_dict[comp_ticker] = comp_stock\n",
    "\n",
    "            stock.comps_dict = comps_dict\n",
    "              \n",
    "\n",
    "        # If you make it here without hitting any errors then you are good to go!\n",
    "        validation_message.clear_output()\n",
    "        display(widgets.HTML(f\"\"\"<h2 style=\"color:Green\">All Good!!</h2>\"\"\"))\n",
    "\n",
    "\n",
    "validate_all = widgets.Button(description='Validate All Inputs',button_style='info')\n",
    "display(validate_all, validation_message)\n",
    "validate_all.on_click(validate_inputs)\n",
    "\n",
    "\n",
    "#---------------------- Execute the code ------------------------\n",
    "\n",
    "report_message = widgets.Output()\n",
    "\n",
    "def master_executor():\n",
    "    \"\"\"One function to rule them all, one function to find them, one function to bring them all, and in the darkness bind them.\"\"\"\n",
    "    market_data = get_market_data(start_date, end_date)\n",
    "    stock.get_historical_equity_beta(market_data,risk_free=risk_free, frequency='Daily')\n",
    "    stock.get_equity_beta_comps(market_data=market_data, risk_free=risk_free, frequency='Daily')\n",
    "    stock.calculate_cost_of_equity(exp_market_return=exp_market_return,risk_free=risk_free)\n",
    "\n",
    "    report_message.clear_output()\n",
    "\n",
    "    display(widgets.HTML(\"<h2>Beta & Cost of Capital</h2>\"))\n",
    "\n",
    "    return display(stock.present_cost_of_equity_results())\n",
    "\n",
    "def plot_stock_returns(df_returns:pd.DataFrame):\n",
    "    cum_return = (1+df_returns).cumprod()\n",
    "    cum_return.plot(figsize = (17,5))\n",
    "    plt.title(f'Cumulative Returns')\n",
    "    plt.ylabel('Wealth Index')\n",
    "    plt.show()\n",
    "\n",
    "\n",
    "def execute_all_code(b):\n",
    "\n",
    "    with report_message:\n",
    "        report_message.clear_output()\n",
    "        display(widgets.HTML(\"<h4>Processing...</h4>\"))\n",
    "\n",
    "        master_executor()\n",
    "\n",
    "        all_stocks = [stock] + list(stock.comps_dict.values())\n",
    "        df_summary_stats = calculate_portfolio_statistics(merge_stock_dfs_stacked(all_stocks))\n",
    "        df_plotting = merge_stock_dfs_flat(all_stocks)\n",
    "\n",
    "        display(widgets.HTML(\"<br>\"))\n",
    "        display(plot_stock_returns(df_plotting))\n",
    "        display(widgets.HTML(\"<h2>Return Summary Statistics</h2>\"))\n",
    "        display(df_summary_stats)\n",
    "        \n",
    "\n",
    "\n",
    "report_btn = widgets.Button(description='Run Report', button_style='success')\n",
    "display(report_btn, report_message)\n",
    "report_btn.on_click(execute_all_code)\n"
   ]
  },
  {
   "cell_type": "code",
   "execution_count": null,
   "metadata": {},
   "outputs": [],
   "source": []
  }
 ],
 "metadata": {
  "interpreter": {
   "hash": "2647ea34e536f865ab67ff9ddee7fd78773d956cec0cab53c79b32cd10da5d83"
  },
  "kernelspec": {
   "display_name": "Python 3",
   "language": "python",
   "name": "python3"
  },
  "language_info": {
   "codemirror_mode": {
    "name": "ipython",
    "version": 3
   },
   "file_extension": ".py",
   "mimetype": "text/x-python",
   "name": "python",
   "nbconvert_exporter": "python",
   "pygments_lexer": "ipython3",
   "version": "3.9.5"
  }
 },
 "nbformat": 4,
 "nbformat_minor": 2
}
