{
 "cells": [
  {
   "cell_type": "markdown",
   "metadata": {},
   "source": [
    "# Security Market Line\n",
    "\n",
    "## Team Members\n",
    "\n",
    "\n",
    "| Name | EID |\n",
    "| --- | --- |\n",
    "| Akshat Johari | aj32864 |\n",
    "| Aritra Chowdhury  | ac79277 |\n",
    "| Brandt Green | bwg537 |"
   ]
  },
  {
   "cell_type": "markdown",
   "metadata": {},
   "source": [
    "### Assumptions/Notes:\n",
    "* Market Return is taken to be the total return on the SP500\n",
    "* Risk Free Rate is the interest rate based on 30-day T-Bills\n",
    "* Data frequency is Monthly\n",
    "  \n",
    "### Data Sources (All from WRDS)\n",
    " * [Stock Data](https://wrds-www.wharton.upenn.edu/pages/get-data/compustat-capital-iq-standard-poors/compustat/north-america-daily/security-monthly/)\n",
    " * [S&P 500 Data](https://wrds-www.wharton.upenn.edu/pages/get-data/center-research-security-prices-crsp/annual-update/index-sp-500-indexes/portfolios-on-sp-500/)\n",
    " * [Risk-Free Rates](https://wrds-www.wharton.upenn.edu/pages/get-data/center-research-security-prices-crsp/annual-update/treasuries/riskfree-series-1-month-and-3-month/)"
   ]
  },
  {
   "cell_type": "code",
   "execution_count": 5,
   "metadata": {},
   "outputs": [],
   "source": [
    "import numpy as np\n",
    "import pandas as pd\n",
    "import matplotlib.pyplot as plt\n",
    "import seaborn as sns; sns.set_theme()\n",
    "import statsmodels.api as sm\n",
    "from statsmodels.formula.api import ols\n",
    "import datetime\n",
    "import warnings\n",
    "warnings.filterwarnings(\"ignore\")\n",
    "\n",
    "pd.set_option('display.float_format', lambda x: '%.5f' % x)"
   ]
  },
  {
   "cell_type": "markdown",
   "metadata": {},
   "source": [
    "Uncomment out below cell on the first run of this notebook so that you can connect to WRDS database. Afterwards, comment it out so that when you run all cells, you are not prompted to reconnect."
   ]
  },
  {
   "cell_type": "code",
   "execution_count": 6,
   "metadata": {},
   "outputs": [],
   "source": [
    "# Establish connection to WRDS\n",
    "# import wrds\n",
    "# db = wrds.Connection()"
   ]
  },
  {
   "cell_type": "markdown",
   "metadata": {},
   "source": [
    "### Input User Parameters\n",
    "Two Options:\n",
    "1. Enter your chosen parameters in the cell directly below.\n",
    "2. Uncomment out the second cell below and run it which will prompt you for the same inputs."
   ]
  },
  {
   "cell_type": "code",
   "execution_count": 7,
   "metadata": {},
   "outputs": [],
   "source": [
    "start_date = '2015-12-31'\n",
    "end_date = '2020-12-31'\n",
    "ticker = 'AAPL'"
   ]
  },
  {
   "cell_type": "code",
   "execution_count": 8,
   "metadata": {},
   "outputs": [],
   "source": [
    "# # Input Start Date\n",
    "# while(True):\n",
    "#     start_date = input('Please enter Start Date in YYYY-MM-DD form: ')\n",
    "#     try:\n",
    "#         datetime.datetime.strptime(start_date, '%Y-%M-%d')\n",
    "\n",
    "#     except ValueError:\n",
    "#         print('Invalid date format.')\n",
    "\n",
    "\n",
    "# # Input End Date\n",
    "#     end_date = input('Please enter End Date in YYYY-MM-DD form: ')\n",
    "#     try:\n",
    "#         datetime.datetime.strptime(end_date, '%Y-%M-%d')\n",
    "#         if(end_date < start_date):\n",
    "#             print('End date should be later than the Start date.')\n",
    "#             break\n",
    "#     except ValueError:\n",
    "#         print('Invalid date format.')\n",
    "#         break\n",
    "\n",
    "# # Input Ticker\n",
    "#     query_string = f\"\"\"SELECT DISTINCT tic FROM comp.secm where datadate >= '{start_date}' and datadate <= '{end_date}'\"\"\"\n",
    "#     ticker_list = db.raw_sql(query_string)['tic'].to_list()\n",
    "#     ticker = input('Please enter Ticker: ')\n",
    "#     if ticker in ticker_list:\n",
    "#         print(f'Start Date: {start_date}\\nEnd Dat: {end_date}\\nTicker: {ticker}')\n",
    "#         break\n",
    "#     else:\n",
    "#         print('Invalid Ticker.')"
   ]
  },
  {
   "cell_type": "markdown",
   "metadata": {},
   "source": [
    "#### Chosen Inputs:"
   ]
  },
  {
   "cell_type": "code",
   "execution_count": 9,
   "metadata": {},
   "outputs": [
    {
     "name": "stdout",
     "output_type": "stream",
     "text": [
      "Start Date: 2015-12-31\n",
      "End Date: 2020-12-31\n",
      "Ticker: AAPL\n"
     ]
    }
   ],
   "source": [
    "print(f'Start Date: {start_date}\\nEnd Date: {end_date}\\nTicker: {ticker}')"
   ]
  },
  {
   "cell_type": "markdown",
   "metadata": {},
   "source": [
    "## Data Extraction\n",
    "### Monthly Stock Data\n",
    "Below, we query the appropriate stock data from WRDS based on the inputted ticker and redefine the column names for easier interpretability. "
   ]
  },
  {
   "cell_type": "code",
   "execution_count": 10,
   "metadata": {},
   "outputs": [],
   "source": [
    "query_string = f\"\"\"SELECT * FROM comp.secm where tic = '{ticker}' and datadate >= '{start_date}' and datadate <= '{end_date}' order by datadate\"\"\"\n",
    "stock_data = db.raw_sql(query_string)\n",
    "stock_data = stock_data[['datadate','tic','conm','prccm','trfm','trt1m']]\n",
    "stock_data.columns = ['date','ticker','name','price','stock_return_factor', 'stock_return']\n",
    "stock_data['stock_return'] = stock_data['stock_return'] / 100 # Returns are given in percents initially\n",
    "stock_data = stock_data[1:]\n",
    "# stock_data.head()"
   ]
  },
  {
   "cell_type": "markdown",
   "metadata": {},
   "source": [
    "### Monthly Market Data\n",
    "We use the S&P 500 Returns as the proxy for Market Returns.  "
   ]
  },
  {
   "cell_type": "code",
   "execution_count": 11,
   "metadata": {},
   "outputs": [],
   "source": [
    "query_string = f\"\"\"SELECT * FROM crsp.msp500 where caldt >= '{start_date}' \"\"\"\n",
    "market_data = db.raw_sql(query_string)\n",
    "market_data = market_data[['caldt','vwretd']] # vwretd is the total return on the index per period. This is given as a decimal value already\n",
    "market_data.columns = ['date','market_return']\n",
    "market_data = market_data[1:]\n",
    "# market_data.head()"
   ]
  },
  {
   "cell_type": "markdown",
   "metadata": {},
   "source": [
    "### Monthly Risk Free Data\n",
    "To calculate the risk free rate of return for each period, we take the annualized, 1-month T-Bill Rate from WRDS and deannualize the rate to fine the one month T-Bill rate available at that point in time. Then, we shift that return one period forward to account for the fact that this month's market rate will be next month's return, which is what we need to use for comparison with the stock and market returns."
   ]
  },
  {
   "cell_type": "code",
   "execution_count": 12,
   "metadata": {},
   "outputs": [],
   "source": [
    "query_string = f\"\"\"SELECT * FROM crsp.tfz_mth_rf where tmduratn < 40 and mcaldt >= '{start_date}'\"\"\"\n",
    "rf_data = db.raw_sql(query_string)\n",
    "# Below we convert from annual rate to monthly and from % to decimal return. \n",
    "# Also shifting data so that this periods risk free rate in the market is next periods return\n",
    "rf_data['rf_return'] = (rf_data['tmytm'] * rf_data['tmduratn'] / 36500).shift(1)\n",
    "rf_data = rf_data[['mcaldt','rf_return']]\n",
    "rf_data.columns = ['date','rf_return']\n",
    "rf_data = rf_data[1:]\n",
    "# rf_data.head()"
   ]
  },
  {
   "cell_type": "markdown",
   "metadata": {},
   "source": [
    "We have our data sets, so now we just need to merge them and clean them up a bit to make sure they are all consistent."
   ]
  },
  {
   "cell_type": "code",
   "execution_count": 13,
   "metadata": {},
   "outputs": [],
   "source": [
    "# Merge Tables\n",
    "\n",
    "all_data = stock_data.merge(market_data, left_index=True,right_index=True) # Merge stock returns and market returs\n",
    "all_data = all_data.merge(rf_data, left_index=True,right_index=True) # Merge risk free returns onto above"
   ]
  },
  {
   "cell_type": "code",
   "execution_count": 14,
   "metadata": {},
   "outputs": [],
   "source": [
    "# Clean up the data\n",
    "cleaned_data = all_data.copy()\n",
    "\n",
    "# Add risk premium columns\n",
    "cleaned_data['market_risk_premium'] = cleaned_data['market_return'] - cleaned_data['rf_return']\n",
    "cleaned_data['stock_risk_premium'] = cleaned_data['stock_return'] - cleaned_data['rf_return']\n",
    "cleaned_data = cleaned_data.drop(columns=['date_x','date_y'])\n",
    "# cleaned_data.head()"
   ]
  },
  {
   "cell_type": "markdown",
   "metadata": {},
   "source": [
    "## Regression\n",
    "Now that we have the desired data, we can conduct our analysis and plot the SML. We run a regression of the following form:\n",
    "\n",
    "$$ StockRiskPremium = \\alpha + \\beta*MarketRiskPremium + \\epsilon $$"
   ]
  },
  {
   "cell_type": "markdown",
   "metadata": {},
   "source": [
    "### Security Characteristic Line"
   ]
  },
  {
   "cell_type": "code",
   "execution_count": 15,
   "metadata": {},
   "outputs": [
    {
     "data": {
      "image/png": "[encoded data removed]",
      "text/plain": [
       "<Figure size 720x576 with 1 Axes>"
      ]
     },
     "metadata": {},
     "output_type": "display_data"
    }
   ],
   "source": [
    "company_name = cleaned_data['name'].iloc[0]\n",
    "\n",
    "sns.set(rc={'figure.figsize':(10,8)})\n",
    "sns.regplot(data=cleaned_data, y='stock_risk_premium', x='market_risk_premium')\n",
    "plt.title(f'Security Market Line for: {company_name}')\n",
    "plt.show()"
   ]
  },
  {
   "cell_type": "markdown",
   "metadata": {},
   "source": [
    "#### Fit Regression:"
   ]
  },
  {
   "cell_type": "code",
   "execution_count": 16,
   "metadata": {},
   "outputs": [],
   "source": [
    "model = ols('stock_risk_premium ~ market_risk_premium', data = cleaned_data)\n",
    "results = model.fit()"
   ]
  },
  {
   "cell_type": "markdown",
   "metadata": {},
   "source": [
    "### Summary Statistics"
   ]
  },
  {
   "cell_type": "code",
   "execution_count": 17,
   "metadata": {},
   "outputs": [
    {
     "name": "stdout",
     "output_type": "stream",
     "text": [
      "                            OLS Regression Results                            \n",
      "==============================================================================\n",
      "Dep. Variable:     stock_risk_premium   R-squared:                       0.427\n",
      "Model:                            OLS   Adj. R-squared:                  0.417\n",
      "Method:                 Least Squares   F-statistic:                     43.18\n",
      "Date:                Tue, 26 Oct 2021   Prob (F-statistic):           1.53e-08\n",
      "Time:                        11:04:51   Log-Likelihood:                 78.503\n",
      "No. Observations:                  60   AIC:                            -153.0\n",
      "Df Residuals:                      58   BIC:                            -148.8\n",
      "Df Model:                           1                                         \n",
      "Covariance Type:            nonrobust                                         \n",
      "=======================================================================================\n",
      "                          coef    std err          t      P>|t|      [0.025      0.975]\n",
      "---------------------------------------------------------------------------------------\n",
      "Intercept               0.0159      0.009      1.789      0.079      -0.002       0.034\n",
      "market_risk_premium     1.2878      0.196      6.571      0.000       0.895       1.680\n",
      "==============================================================================\n",
      "Omnibus:                        7.005   Durbin-Watson:                   2.350\n",
      "Prob(Omnibus):                  0.030   Jarque-Bera (JB):                6.539\n",
      "Skew:                          -0.588   Prob(JB):                       0.0380\n",
      "Kurtosis:                       4.110   Cond. No.                         22.8\n",
      "==============================================================================\n",
      "\n",
      "Notes:\n",
      "[1] Standard Errors assume that the covariance matrix of the errors is correctly specified.\n"
     ]
    }
   ],
   "source": [
    "print(results.summary())"
   ]
  },
  {
   "cell_type": "markdown",
   "metadata": {},
   "source": [
    "### ANOVA Table"
   ]
  },
  {
   "cell_type": "code",
   "execution_count": 18,
   "metadata": {
    "scrolled": true
   },
   "outputs": [
    {
     "data": {
      "text/html": [
       "<div>\n",
       "<style scoped>\n",
       "    .dataframe tbody tr th:only-of-type {\n",
       "        vertical-align: middle;\n",
       "    }\n",
       "\n",
       "    .dataframe tbody tr th {\n",
       "        vertical-align: top;\n",
       "    }\n",
       "\n",
       "    .dataframe thead th {\n",
       "        text-align: right;\n",
       "    }\n",
       "</style>\n",
       "<table border=\"1\" class=\"dataframe\">\n",
       "  <thead>\n",
       "    <tr style=\"text-align: right;\">\n",
       "      <th></th>\n",
       "      <th>sum_sq</th>\n",
       "      <th>df</th>\n",
       "      <th>F</th>\n",
       "      <th>PR(&gt;F)</th>\n",
       "    </tr>\n",
       "  </thead>\n",
       "  <tbody>\n",
       "    <tr>\n",
       "      <th>market_risk_premium</th>\n",
       "      <td>0.19102</td>\n",
       "      <td>1.00000</td>\n",
       "      <td>43.17880</td>\n",
       "      <td>0.00000</td>\n",
       "    </tr>\n",
       "    <tr>\n",
       "      <th>Residual</th>\n",
       "      <td>0.25658</td>\n",
       "      <td>58.00000</td>\n",
       "      <td>NaN</td>\n",
       "      <td>NaN</td>\n",
       "    </tr>\n",
       "  </tbody>\n",
       "</table>\n",
       "</div>"
      ],
      "text/plain": [
       "                     sum_sq       df        F  PR(>F)\n",
       "market_risk_premium 0.19102  1.00000 43.17880 0.00000\n",
       "Residual            0.25658 58.00000      NaN     NaN"
      ]
     },
     "execution_count": 18,
     "metadata": {},
     "output_type": "execute_result"
    }
   ],
   "source": [
    "anova_table = sm.stats.anova_lm(results, typ=2)\n",
    "anova_table"
   ]
  },
  {
   "cell_type": "markdown",
   "metadata": {},
   "source": [
    "### Hypothesis Test of Alpha"
   ]
  },
  {
   "cell_type": "code",
   "execution_count": 19,
   "metadata": {
    "scrolled": false
   },
   "outputs": [
    {
     "name": "stdout",
     "output_type": "stream",
     "text": [
      "Alpha with a P value of 0.07892 is not statistically significant.\n"
     ]
    }
   ],
   "source": [
    "intercept_p = round(results.pvalues[0], 5)\n",
    "if (intercept_p < 0.05):\n",
    "    print(f'Alpha with a P value of {intercept_p} is statistically significant.')\n",
    "else:\n",
    "    print(f'Alpha with a P value of {intercept_p} is not statistically significant.')"
   ]
  },
  {
   "cell_type": "markdown",
   "metadata": {},
   "source": [
    "### Hypothesis Test of Beta"
   ]
  },
  {
   "cell_type": "code",
   "execution_count": 20,
   "metadata": {},
   "outputs": [
    {
     "name": "stdout",
     "output_type": "stream",
     "text": [
      "Beta with a P value of 0.0 is statistically significant.\n"
     ]
    }
   ],
   "source": [
    "mrp_p = round(results.pvalues[1], 5)\n",
    "if (mrp_p < 0.05):\n",
    "    print(f'Beta with a P value of {mrp_p} is statistically significant.')\n",
    "else:\n",
    "    print(f'Beta with a P value of {mrp_p} is not statistically significant.')"
   ]
  },
  {
   "cell_type": "markdown",
   "metadata": {},
   "source": [
    "### Regression Assumptions:\n",
    "* Linearity: Tested by examining the plot of market risk premium against stock risk premium for any evidence of a non-linear relationship.\n",
    "* Independence of residuals: Tested by examining the Durbin-Watson statistic in regression summary output above.\n",
    "* Homoskedasticity: Tested by examining the plot of market risk premium against residuals below.\n",
    "* Normality: Tested by examining Jarque-Bera Statistic in regression summary output and normal probability plot below."
   ]
  },
  {
   "cell_type": "markdown",
   "metadata": {},
   "source": [
    "#### Residual Plot:"
   ]
  },
  {
   "cell_type": "code",
   "execution_count": 21,
   "metadata": {},
   "outputs": [
    {
     "data": {
      "text/plain": [
       "Text(0.5, 1.0, 'Residual vs Independent Variable')"
      ]
     },
     "execution_count": 21,
     "metadata": {},
     "output_type": "execute_result"
    },
    {
     "data": {
      "image/png": "[encoded data removed]",
      "text/plain": [
       "<Figure size 720x576 with 1 Axes>"
      ]
     },
     "metadata": {},
     "output_type": "display_data"
    }
   ],
   "source": [
    "plt.scatter(cleaned_data['market_risk_premium'],results.resid)\n",
    "plt.axhline(y=0, linestyle='--', color='red')\n",
    "plt.xlabel('Market Risk Premium')\n",
    "plt.ylabel('Residual')\n",
    "plt.title('Residual vs Independent Variable')"
   ]
  },
  {
   "cell_type": "code",
   "execution_count": 22,
   "metadata": {},
   "outputs": [
    {
     "data": {
      "image/png": "[encoded data removed]",
      "text/plain": [
       "<Figure size 720x576 with 1 Axes>"
      ]
     },
     "metadata": {},
     "output_type": "display_data"
    }
   ],
   "source": [
    "sm.qqplot(cleaned_data['stock_risk_premium'].values);\n",
    "plt.title('Normal Probability Plot of Stock Risk Premium');"
   ]
  }
 ],
 "metadata": {
  "interpreter": {
   "hash": "2647ea34e536f865ab67ff9ddee7fd78773d956cec0cab53c79b32cd10da5d83"
  },
  "kernelspec": {
   "display_name": "Python 3.9.5 64-bit",
   "name": "python3"
  },
  "language_info": {
   "codemirror_mode": {
    "name": "ipython",
    "version": 3
   },
   "file_extension": ".py",
   "mimetype": "text/x-python",
   "name": "python",
   "nbconvert_exporter": "python",
   "pygments_lexer": "ipython3",
   "version": "3.9.5"
  }
 },
 "nbformat": 4,
 "nbformat_minor": 2
}
